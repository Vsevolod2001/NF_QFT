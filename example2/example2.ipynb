{
 "cells": [
  {
   "cell_type": "code",
   "execution_count": 2,
   "id": "dbee9da4",
   "metadata": {
    "execution": {
     "iopub.execute_input": "2024-06-18T23:24:56.780880Z",
     "iopub.status.busy": "2024-06-18T23:24:56.779794Z",
     "iopub.status.idle": "2024-06-18T23:24:56.801586Z",
     "shell.execute_reply": "2024-06-18T23:24:56.800741Z",
     "shell.execute_reply.started": "2024-06-18T23:24:56.780836Z"
    },
    "tags": []
   },
   "outputs": [],
   "source": [
    "import numpy as np\n",
    "import matplotlib.pyplot as plt\n",
    "from typing import Callable, List, Tuple\n",
    "import pytorch_lightning as pl\n",
    "import torch\n",
    "import torch.nn.functional as F\n",
    "from torch import nn\n",
    "from torch.distributions.distribution import Distribution\n",
    "from pytorch_lightning.loggers import TensorBoardLogger\n",
    "device = torch.device(\"cuda\" if torch.cuda.is_available() else \"cpu\")"
   ]
  },
  {
   "cell_type": "code",
   "execution_count": 3,
   "id": "c93eb4f7",
   "metadata": {
    "execution": {
     "iopub.execute_input": "2024-06-18T23:24:58.193209Z",
     "iopub.status.busy": "2024-06-18T23:24:58.192044Z",
     "iopub.status.idle": "2024-06-18T23:24:58.303195Z",
     "shell.execute_reply": "2024-06-18T23:24:58.302268Z",
     "shell.execute_reply.started": "2024-06-18T23:24:58.193173Z"
    },
    "tags": []
   },
   "outputs": [],
   "source": [
    "from NFconstants import N_nod, Beta, a, K_nod\n",
    "from NFandist import get_O\n",
    "from Data import normal_dist\n",
    "\n",
    "def set_random_seed(seed):\n",
    "    torch.manual_seed(seed)\n",
    "    \n",
    "O=(torch.tensor(get_O(N_nod)).float()).to(device)\n",
    "Ot=(torch.t(O)).to(device)"
   ]
  },
  {
   "cell_type": "code",
   "execution_count": 4,
   "id": "b66bc606",
   "metadata": {
    "execution": {
     "iopub.execute_input": "2024-06-18T23:24:58.306075Z",
     "iopub.status.busy": "2024-06-18T23:24:58.304973Z",
     "iopub.status.idle": "2024-06-18T23:24:58.321864Z",
     "shell.execute_reply": "2024-06-18T23:24:58.320944Z",
     "shell.execute_reply.started": "2024-06-18T23:24:58.306035Z"
    },
    "tags": []
   },
   "outputs": [],
   "source": [
    "class AffineCouplingLayer(nn.Module):\n",
    "    def __init__(\n",
    "        self,\n",
    "        theta: nn.Module,\n",
    "        split,\n",
    "        swap: int\n",
    "    ):\n",
    "        super().__init__()\n",
    "        self.theta = theta\n",
    "        self.split = split\n",
    "        self.swap = swap\n",
    "\n",
    "    def g(self, z: torch.Tensor,params=torch.tensor([])) -> torch.Tensor:\n",
    "        \"\"\"g : z -> x. The inverse of f.\"\"\"\n",
    "        mask1=self.split[self.swap]\n",
    "        mask2=self.split[(self.swap+1)%2]\n",
    "        z1, z2 = z[:,mask1], z[:,mask2]\n",
    "        z1=torch.cat((z1,params),dim=-1)\n",
    "        t, s = self.theta(z1)\n",
    "        x2 = z2 * torch.exp(s) + t\n",
    "        log_det = s.sum(-1) \n",
    "        z[:,mask2]=x2\n",
    "        return z, log_det "
   ]
  },
  {
   "cell_type": "code",
   "execution_count": 5,
   "id": "f446e228",
   "metadata": {
    "execution": {
     "iopub.execute_input": "2024-06-18T23:24:59.027250Z",
     "iopub.status.busy": "2024-06-18T23:24:59.026109Z",
     "iopub.status.idle": "2024-06-18T23:24:59.046757Z",
     "shell.execute_reply": "2024-06-18T23:24:59.045863Z",
     "shell.execute_reply.started": "2024-06-18T23:24:59.027207Z"
    },
    "tags": []
   },
   "outputs": [],
   "source": [
    "def get_split_masks(dim=N_nod):\n",
    "    mask1=list(range(0,dim,2))\n",
    "    mask2=list(range(1,dim,2))\n",
    "    split_masks=[mask1,mask2]\n",
    "    return split_masks\n",
    "    "
   ]
  },
  {
   "cell_type": "code",
   "execution_count": 6,
   "id": "7df6bec4-7cc4-43bd-b701-0b10d9341203",
   "metadata": {
    "execution": {
     "iopub.execute_input": "2024-06-18T23:24:59.071052Z",
     "iopub.status.busy": "2024-06-18T23:24:59.069767Z",
     "iopub.status.idle": "2024-06-18T23:24:59.091486Z",
     "shell.execute_reply": "2024-06-18T23:24:59.090485Z",
     "shell.execute_reply.started": "2024-06-18T23:24:59.071003Z"
    },
    "tags": []
   },
   "outputs": [],
   "source": [
    "def get_pair_split_masks(dim=N_nod):\n",
    "    mask1=list(range(0,dim,4))\n",
    "    mask2=list(range(2,dim,4))\n",
    "    mask1=(mask1+list(map(lambda x:x+1,mask1)))\n",
    "    mask2=(mask2+list(map(lambda x:x+1,mask2)))\n",
    "    mask1.sort()\n",
    "    mask2.sort()\n",
    "    split_masks=[mask1,mask2]\n",
    "    return split_masks"
   ]
  },
  {
   "cell_type": "code",
   "execution_count": 7,
   "id": "89e2e80d-b8ae-4511-972d-8c966b1803f6",
   "metadata": {
    "execution": {
     "iopub.execute_input": "2024-06-18T23:24:59.115849Z",
     "iopub.status.busy": "2024-06-18T23:24:59.114978Z",
     "iopub.status.idle": "2024-06-18T23:24:59.134821Z",
     "shell.execute_reply": "2024-06-18T23:24:59.133936Z",
     "shell.execute_reply.started": "2024-06-18T23:24:59.115803Z"
    },
    "tags": []
   },
   "outputs": [],
   "source": [
    "class ThetaNetwork(nn.Module):\n",
    "    def __init__(\n",
    "        self,\n",
    "        in_dim: int,\n",
    "        out_dim: int,\n",
    "        num_hidden: int,\n",
    "        hidden_dim: int,\n",
    "        num_params: int,\n",
    "        p_drop: float,\n",
    "    ):\n",
    "        super().__init__()\n",
    "        self.input = nn.Linear(in_dim, hidden_dim)\n",
    "        self.hidden = nn.ModuleList(\n",
    "            [nn.Sequential(\n",
    "                nn.Linear(hidden_dim, hidden_dim),\n",
    "                nn.Dropout(p=p_drop),\n",
    "                nn.LayerNorm(hidden_dim)\n",
    "            ) for _ in range(num_hidden)]\n",
    "        )\n",
    "\n",
    "        self.num_params = num_params\n",
    "        self.out_dim = out_dim\n",
    "        self.dims = nn.Linear(hidden_dim, out_dim * num_params)\n",
    "        \n",
    "    def configure_theta(num_hidden,hidden_dim,p_drop,in_dim=N_nod//2,out_dim=N_nod//2):\n",
    "        theta=ThetaNetwork(\n",
    "                in_dim = in_dim,\n",
    "                out_dim = out_dim,\n",
    "                num_hidden = num_hidden,  #2 to 6\n",
    "                hidden_dim = hidden_dim , #100-1024\n",
    "                num_params = 2,\n",
    "                p_drop=p_drop,\n",
    "        )\n",
    "        return theta    \n",
    "\n",
    "    def forward(self, x: torch.Tensor) -> torch.Tensor:\n",
    "        x = F.leaky_relu(self.input(x),negative_slope=0.01)\n",
    "        for h in self.hidden:\n",
    "            x = F.leaky_relu(h(x),negative_slope=0.01)\n",
    "\n",
    "        batch_params = self.dims(x).reshape(x.size(0), self.out_dim, -1) \n",
    "        params = batch_params.chunk(self.num_params, dim=-1) \n",
    "        return [p.squeeze(-1) for p in params]"
   ]
  },
  {
   "cell_type": "code",
   "execution_count": 8,
   "id": "f17f095c",
   "metadata": {
    "execution": {
     "iopub.execute_input": "2024-06-18T23:24:59.159306Z",
     "iopub.status.busy": "2024-06-18T23:24:59.158043Z",
     "iopub.status.idle": "2024-06-18T23:24:59.195196Z",
     "shell.execute_reply": "2024-06-18T23:24:59.194148Z",
     "shell.execute_reply.started": "2024-06-18T23:24:59.159259Z"
    },
    "tags": []
   },
   "outputs": [],
   "source": [
    "class NormalizingFlow(nn.Module):\n",
    "    \n",
    "    def __init__(self, latent: Distribution, flows: List[nn.Module], conv_flows = [], ort=False):\n",
    "        super().__init__()\n",
    "        self.latent = latent\n",
    "        self.flows = flows\n",
    "        self.ort = ort\n",
    "        self.conv_flows = conv_flows\n",
    "        \n",
    "    def configure_flows(n_flows,num_hidden,hidden_dim,p_drop,dim=N_nod,param_dim=0):  # n_flows=8,...,12\n",
    "        flows = []\n",
    "        split_masks_d = get_pair_split_masks(dim)\n",
    "    \n",
    "        for k in range(n_flows):\n",
    "            theta = ThetaNetwork.configure_theta( num_hidden = num_hidden, hidden_dim = hidden_dim, p_drop=p_drop ,in_dim = dim//2+param_dim,out_dim = dim//2)\n",
    "            flows.append(AffineCouplingLayer(theta,split=split_masks_d,swap=k%2))\n",
    "   \n",
    "        flows = nn.ModuleList(flows)\n",
    "        return flows     \n",
    "\n",
    "    def latent_sample(self, num_samples: int = 1) -> torch.Tensor:\n",
    "        z=self.latent.sample((num_samples,))\n",
    "        return z        \n",
    "\n",
    "    def sample(self, num_samples: int = 1) -> torch.Tensor:\n",
    "        \"\"\"Sample a new observation x by sampling z from\n",
    "        the latent distribution and pass through g.\"\"\"\n",
    "        z=(self.latent_sample(num_samples))\n",
    "        with torch.no_grad():\n",
    "            x, _ = self.g(z)\n",
    "        return x \n",
    "    \n",
    "\n",
    "    def g(self, z: torch.Tensor,params=torch.tensor([])) -> torch.Tensor:\n",
    "        x, sum_log_abs_det = z, torch.zeros(z.size(0)).to(z.device)\n",
    "        for flow in reversed(self.flows):\n",
    "            x, log_abs_det = flow.g(x,params)\n",
    "            sum_log_abs_det += log_abs_det\n",
    "        \n",
    "        if self.ort:\n",
    "            x=torch.matmul(x,Ot.to(x.device))\n",
    "\n",
    "        \n",
    "        for flow in reversed(self.conv_flows):\n",
    "            x, log_abs_det = flow.g(x)\n",
    "            sum_log_abs_det += log_abs_det\n",
    "        return x, sum_log_abs_det\n",
    "    \n",
    "        \n",
    "    def __len__(self) -> int:\n",
    "        return len(self.flows)\n",
    "    \n",
    "    "
   ]
  },
  {
   "cell_type": "code",
   "execution_count": 9,
   "id": "daa2897f",
   "metadata": {
    "execution": {
     "iopub.execute_input": "2024-06-18T23:24:59.219568Z",
     "iopub.status.busy": "2024-06-18T23:24:59.218679Z",
     "iopub.status.idle": "2024-06-18T23:24:59.243899Z",
     "shell.execute_reply": "2024-06-18T23:24:59.242852Z",
     "shell.execute_reply.started": "2024-06-18T23:24:59.219524Z"
    },
    "tags": []
   },
   "outputs": [],
   "source": [
    "class RGflows(nn.Module):\n",
    "    \n",
    "    def __init__(self,latent: Distribution ,nflist, masks, n_flows_dict,num_hidden_dict,hidden_dim_dict):\n",
    "        super().__init__()\n",
    "        self.latent = latent\n",
    "        self.nflist = nflist\n",
    "        self.masks = masks\n",
    "        self.n_flows_dict = n_flows_dict\n",
    "        self.num_hidden_dict = num_hidden_dict\n",
    "        self.hidden_dim_dict = hidden_dim_dict\n",
    "        \n",
    "    def configure_RG_flows(masks,n_flows_dict,num_hidden_dict,hidden_dim_dict,p_drop=0):  \n",
    "        nflist=[]\n",
    "        dim = len(masks[0])\n",
    "        param_dim = 0\n",
    "        for k in range(len(masks)):\n",
    "            flows =  NormalizingFlow.configure_flows(n_flows = n_flows_dict[dim] , num_hidden = num_hidden_dict[dim] , hidden_dim = hidden_dim_dict[dim], dim = dim , param_dim = param_dim, p_drop = p_drop)\n",
    "            nflist.append(NormalizingFlow(latent=normal_dist,flows=flows,ort=False))\n",
    "            param_dim += dim \n",
    "            if k!=0: dim *= 2 \n",
    "        nflist = nn.ModuleList(nflist)        \n",
    "        return nflist    \n",
    "        \n",
    "    def configure_RG_model(latent,masks,n_flows_dict, num_hidden_dict,hidden_dim_dict,p_drop=0):\n",
    "        flows=RGflows.configure_RG_flows(\n",
    "            masks,\n",
    "            n_flows_dict,\n",
    "            num_hidden_dict,\n",
    "            hidden_dim_dict,\n",
    "            p_drop=p_drop)\n",
    "        return RGflows(latent,flows,RGmasks,n_flows_dict,num_hidden_dict,hidden_dim_dict)\n",
    "    \n",
    "    def save(self,filename):\n",
    "        state_dict = self.state_dict()\n",
    "        model_dict={\"state_dict\":state_dict,\n",
    "                    \"n_flows_dict\":self.n_flows_dict,\n",
    "                    \"num_hidden_dict\":self.num_hidden_dict,\n",
    "                    \"hidden_dim_dict\":self.hidden_dim_dict,\n",
    "                    \"masks\":self.masks}\n",
    "        torch.save(model_dict,filename)\n",
    "    \n",
    "    def load_model(filename):   \n",
    "        model_dict = torch.load(filename,map_location = device)\n",
    "        model=RGflows.configure_RG_model(normal_dist,\n",
    "                                  model_dict[\"masks\"],\n",
    "                                  model_dict[\"n_flows_dict\"], \n",
    "                                  model_dict[\"num_hidden_dict\"],\n",
    "                                  model_dict[\"hidden_dim_dict\"],\n",
    "                                  p_drop=0)\n",
    "        model.load_state_dict(model_dict[\"state_dict\"])\n",
    "        return model\n",
    "        \n",
    "\n",
    "    def latent_sample(self, num_samples: int = 1) -> torch.Tensor:\n",
    "        z=self.latent.sample((num_samples,))\n",
    "        return z        \n",
    "\n",
    "    def sample(self, num_samples: int = 1) -> torch.Tensor:\n",
    "        \"\"\"Sample a new observation x by sampling z from\n",
    "        the latent distribution and pass through g.\"\"\"\n",
    "        z=(self.latent_sample(num_samples))\n",
    "        with torch.no_grad():\n",
    "            x, _ = self.g(z)\n",
    "        return x \n",
    "    \n",
    "\n",
    "    def g(self, z: torch.Tensor,params=torch.tensor([])) -> torch.Tensor:\n",
    "        \n",
    "        sum_log_abs_det = torch.zeros(z.size(0)).to(z.device)\n",
    "        params=torch.tensor([]).to(z.device)\n",
    "        for i in range(len(self.nflist)):\n",
    "            x=z[:,self.masks[i]]\n",
    "            x, log_abs_det = ((self.nflist)[i]).g(x,params)\n",
    "            sum_log_abs_det += log_abs_det\n",
    "            params=torch.cat((params,x.detach()),dim=-1)\n",
    "            z[:,self.masks[i]]=x\n",
    "        z = torch.matmul(z,Ot.to(z.device))    \n",
    "        return z, sum_log_abs_det\n",
    "    \n",
    "        \n",
    "    def __len__(self) -> int:\n",
    "        return len(self.flows)\n",
    "    \n",
    "    def forward(self,z):\n",
    "        with torch.no_grad():\n",
    "            t=(z.clone()).to(z.device)\n",
    "            x, log_abs_det=self.g(t)\n",
    "            log_abs_det=log_abs_det.detach().to(z.device)\n",
    "        return x, log_abs_det\n",
    "    \n",
    " \n",
    "\n",
    "    "
   ]
  },
  {
   "cell_type": "code",
   "execution_count": 10,
   "id": "ecfb49bb-c237-4ff3-bc12-1d433d22e849",
   "metadata": {
    "execution": {
     "iopub.execute_input": "2024-06-18T23:24:59.268248Z",
     "iopub.status.busy": "2024-06-18T23:24:59.267049Z",
     "iopub.status.idle": "2024-06-18T23:24:59.284951Z",
     "shell.execute_reply": "2024-06-18T23:24:59.284002Z",
     "shell.execute_reply.started": "2024-06-18T23:24:59.268204Z"
    },
    "tags": []
   },
   "outputs": [],
   "source": [
    "def get_points(start,stop,step):\n",
    "    if step == 0:\n",
    "        print(\"step = 0 error\")\n",
    "        return 1\n",
    "    x=start\n",
    "    Y=[]\n",
    "    while x < stop:\n",
    "        Y.append(x)\n",
    "        Y.append(x+1)\n",
    "        x += step\n",
    "    return Y\n",
    "\n",
    "\n",
    "def config_RG_masks(m,n_nod):\n",
    "    masks = []\n",
    "    start = 0\n",
    "    step = n_nod // (2 ** (m-1))\n",
    "    tmp = get_points(start,n_nod,step)\n",
    "    masks.append(tmp)\n",
    "    if n_nod == 2 ** m:\n",
    "        return masks\n",
    "    start = step//2\n",
    "    masks.append(get_points(start,n_nod,step))\n",
    "    while step > 4:\n",
    "        step //= 2\n",
    "        start = step//2\n",
    "        masks.append(get_points(start,n_nod,step))\n",
    "    return masks\n",
    "    "
   ]
  },
  {
   "cell_type": "code",
   "execution_count": 11,
   "id": "dfda85d4-e4b8-4687-94fc-cfeb66265c79",
   "metadata": {
    "execution": {
     "iopub.execute_input": "2024-06-18T23:24:59.711568Z",
     "iopub.status.busy": "2024-06-18T23:24:59.710337Z",
     "iopub.status.idle": "2024-06-18T23:24:59.725898Z",
     "shell.execute_reply": "2024-06-18T23:24:59.725088Z",
     "shell.execute_reply.started": "2024-06-18T23:24:59.711521Z"
    },
    "tags": []
   },
   "outputs": [],
   "source": [
    "RGmasks = config_RG_masks(3,N_nod)"
   ]
  },
  {
   "cell_type": "code",
   "execution_count": 12,
   "id": "e8056833-22ec-4f32-bd8e-09c30cdb01af",
   "metadata": {
    "execution": {
     "iopub.execute_input": "2024-06-18T23:25:00.231508Z",
     "iopub.status.busy": "2024-06-18T23:25:00.230359Z",
     "iopub.status.idle": "2024-06-18T23:25:00.332622Z",
     "shell.execute_reply": "2024-06-18T23:25:00.331682Z",
     "shell.execute_reply.started": "2024-06-18T23:25:00.231461Z"
    },
    "tags": []
   },
   "outputs": [
    {
     "name": "stdout",
     "output_type": "stream",
     "text": [
      "[[0, 1, 64, 65, 128, 129, 192, 193], [32, 33, 96, 97, 160, 161, 224, 225], [16, 17, 48, 49, 80, 81, 112, 113, 144, 145, 176, 177, 208, 209, 240, 241], [8, 9, 24, 25, 40, 41, 56, 57, 72, 73, 88, 89, 104, 105, 120, 121, 136, 137, 152, 153, 168, 169, 184, 185, 200, 201, 216, 217, 232, 233, 248, 249], [4, 5, 12, 13, 20, 21, 28, 29, 36, 37, 44, 45, 52, 53, 60, 61, 68, 69, 76, 77, 84, 85, 92, 93, 100, 101, 108, 109, 116, 117, 124, 125, 132, 133, 140, 141, 148, 149, 156, 157, 164, 165, 172, 173, 180, 181, 188, 189, 196, 197, 204, 205, 212, 213, 220, 221, 228, 229, 236, 237, 244, 245, 252, 253], [2, 3, 6, 7, 10, 11, 14, 15, 18, 19, 22, 23, 26, 27, 30, 31, 34, 35, 38, 39, 42, 43, 46, 47, 50, 51, 54, 55, 58, 59, 62, 63, 66, 67, 70, 71, 74, 75, 78, 79, 82, 83, 86, 87, 90, 91, 94, 95, 98, 99, 102, 103, 106, 107, 110, 111, 114, 115, 118, 119, 122, 123, 126, 127, 130, 131, 134, 135, 138, 139, 142, 143, 146, 147, 150, 151, 154, 155, 158, 159, 162, 163, 166, 167, 170, 171, 174, 175, 178, 179, 182, 183, 186, 187, 190, 191, 194, 195, 198, 199, 202, 203, 206, 207, 210, 211, 214, 215, 218, 219, 222, 223, 226, 227, 230, 231, 234, 235, 238, 239, 242, 243, 246, 247, 250, 251, 254, 255]]\n"
     ]
    }
   ],
   "source": [
    "print(RGmasks)"
   ]
  },
  {
   "cell_type": "code",
   "execution_count": 13,
   "id": "5401fb59",
   "metadata": {
    "execution": {
     "iopub.execute_input": "2024-06-18T23:25:00.398146Z",
     "iopub.status.busy": "2024-06-18T23:25:00.395958Z",
     "iopub.status.idle": "2024-06-18T23:25:00.439650Z",
     "shell.execute_reply": "2024-06-18T23:25:00.438788Z",
     "shell.execute_reply.started": "2024-06-18T23:25:00.398086Z"
    },
    "tags": []
   },
   "outputs": [],
   "source": [
    "class Pipeline(pl.LightningModule):\n",
    "    def __init__(\n",
    "        self,\n",
    "        model,\n",
    "        criterion,\n",
    "        optimizer_class=torch.optim.Adam,\n",
    "        optimizer_kwargs={\"lr\": 0.001,\"weight_decay\": 0}\n",
    "    ) -> None:\n",
    "        super().__init__()\n",
    "        self.model = model\n",
    "        self.loss = criterion\n",
    "        self.optimizer_class = optimizer_class\n",
    "        self.optimizer_kwargs = optimizer_kwargs\n",
    "\n",
    "    \"\"\"\n",
    "    def configure_optimizers(self):\n",
    "        optimizer = self.optimizer_class(\n",
    "            self.model.parameters(), **self.optimizer_kwargs\n",
    "        )\n",
    "        return optimizer\n",
    "    \"\"\"\n",
    "    \n",
    "    def configure_optimizers(self):\n",
    "        optimizer = self.optimizer_class(\n",
    "            self.model.parameters(), **self.optimizer_kwargs\n",
    "        )\n",
    "        \n",
    "        \n",
    "        scheduler = torch.optim.lr_scheduler.ReduceLROnPlateau(\n",
    "            optimizer=optimizer,\n",
    "            min_lr=1e-9,\n",
    "            factor=0.5,\n",
    "            mode=\"min\",\n",
    "            threshold=0.1,\n",
    "            patience = 1,\n",
    "            verbose=True,\n",
    "        )\n",
    "\n",
    "        lr_scheduler = {\n",
    "            \"scheduler\": scheduler,\n",
    "            \"interval\": \"epoch\",\n",
    "            \"monitor\": \"train_loss\",\n",
    "        }\n",
    "        return [optimizer], [lr_scheduler]\n",
    "\n",
    "    def training_step(self, batch, batch_idx):\n",
    "        z = batch\n",
    "        x, log_abs_det = self.model.g(z)\n",
    "        loss = self.loss(x,log_abs_det)\n",
    "        self.log('train_loss', loss, prog_bar=True)\n",
    "        return loss\n",
    "\n",
    "\n",
    "    def on_train_epoch_end(self):\n",
    "        #print(\"---------------------------end epoch---------------------------------\")\n",
    "        pass\n",
    "    \n",
    "    def on_validation_end(self) -> None:\n",
    "        if not self.automatic_optimization:\n",
    "            # Save a checkpoint of the model\n",
    "            ckpt_path = os.path.join(self.trainer.log_dir, 'checkpoints', 'ckpt.pt')\n",
    "            self.trainer.save_checkpoint(ckpt_path, weights_only=True)\n",
    "        return super().on_validation_end()\n",
    "    \n",
    "    "
   ]
  },
  {
   "cell_type": "code",
   "execution_count": 14,
   "id": "aaea78eb",
   "metadata": {},
   "outputs": [],
   "source": [
    "import time\n",
    "class MCMC:\n",
    "    def __init__(self,system,model=\"none\",d=(a/N_nod)**0.5,N_sweep=100,log_per=1000):\n",
    "        \n",
    "        self.system = system\n",
    "        self.S = 0\n",
    "        self.model = model\n",
    "        self.d = d\n",
    "        self.N_sweep = N_sweep\n",
    "        self.log_per = log_per\n",
    "        self.ar = 0\n",
    "        self.shift_dist = torch.distributions.Uniform(torch.zeros(N_nod), torch.ones(N_nod))\n",
    "        self.un = torch.distributions.Uniform(0, 1)\n",
    "        self.res=[]\n",
    "        self.times=[]\n",
    "        \n",
    "    def sweep(self,z):\n",
    "        shift = self.shift_dist.sample((N_samp,)).to(z.device)\n",
    "        y = z+self.d*(2*shift-1)\n",
    "    \n",
    "        S_new=self.calc_S(y)\n",
    "    \n",
    "        dS=S_new-self.S\n",
    "        prob = torch.exp(-dS)\n",
    "        #prob=torch.zeros((N_samp))\n",
    "        ind = self.un.sample((N_samp,)).to(z.device)<prob\n",
    "    \n",
    "        mask=ind.nonzero()\n",
    "        if len(mask)>1:\n",
    "            mask=mask.squeeze()\n",
    "    \n",
    "        if  len(mask)>0:\n",
    "            self.S[mask]=S_new[mask]\n",
    "            z[mask,:]=y[mask,:]  \n",
    "        self.ar = torch.mean(ind.type('torch.FloatTensor'))           \n",
    "    \n",
    "    \n",
    "    def log(self,z):\n",
    "        if self.model==\"none\":\n",
    "            x1=z\n",
    "        else:    \n",
    "            x1,_=self.model(z)\n",
    "        print(torch.mean(x1**2),self.ar)\n",
    "        self.res.append(torch.mean(x1**2).cpu())\n",
    "        self.Times.append(time.time()-self.start)\n",
    "    \n",
    "    def calc_S(self,z):\n",
    "        if self.model==\"none\":\n",
    "            S=self.system.Full_S(z).to(z.device)\n",
    "        else:\n",
    "            x , lad = self.model(z)\n",
    "            S=self.system.Full_S(x).to(z.device)-lad   \n",
    "        return S\n",
    "    \n",
    "    def init_state(self,z):\n",
    "        self.start=time.time()\n",
    "        self.S=self.calc_S(z)\n",
    "        self.res=[]\n",
    "        self.Times=[]\n",
    "        \n",
    "    \n",
    "    def run(self,z):\n",
    "        \n",
    "        self.init_state(z)\n",
    "    \n",
    "        for i in range(self.N_sweep):\n",
    "            if i%self.log_per==0:\n",
    "                self.log(z)\n",
    "            self.sweep(z)\n",
    "        \n",
    "        return z    \n",
    "    \n",
    "    "
   ]
  },
  {
   "cell_type": "code",
   "execution_count": 15,
   "id": "43dbda96",
   "metadata": {},
   "outputs": [],
   "source": [
    "import time\n",
    "class HMC:\n",
    "    def __init__(self,system,eps=0.001,n_steps=10,sigma=1,N_sweep=100,log_per=1000):\n",
    "        self.system = system\n",
    "        self.S = 0\n",
    "        #self.model = model\n",
    "        self.eps = eps\n",
    "        self.n_steps = n_steps\n",
    "        self.N_sweep = N_sweep\n",
    "        self.log_per = log_per\n",
    "        self.ar = 0\n",
    "        self.shift_dist = torch.distributions.Normal(torch.zeros(N_nod), sigma * torch.ones(N_nod))\n",
    "        self.un = torch.distributions.Uniform(0, 1)\n",
    "        self.res=[]\n",
    "        self.times=[]\n",
    "    \n",
    "    def leapfrog_step(F,p,x,eps):\n",
    "        p_half = p + 0.5 * eps * F(x)  # F=-dV/dx\n",
    "        y = x + eps * p_half\n",
    "        q = p_half + eps * F(x)\n",
    "        return q, y\n",
    "\n",
    "    def hmc_new(self,p,x):\n",
    "        \n",
    "        for i in range(self.n_steps):\n",
    "            p , x = HMC.leapfrog_step(self.system.F,p,x,self.eps)\n",
    "        return p,x       \n",
    "\n",
    "\n",
    "    def hmc_sweep(self,x):\n",
    "        p = self.shift_dist.sample((N_samp,)).to(x.device)\n",
    "        q , y = self.hmc_new(p,x)\n",
    "        S_new = self.calc_S(y)\n",
    "        dS = S_new-self.S + torch.mean(q**2/2-p**2/2,axis=1)\n",
    "        prob = torch.exp(-dS)\n",
    "        ind = self.un.sample((N_samp,)).to(x.device)<prob\n",
    "        mask = ind.nonzero()\n",
    "        if len(mask)>1:\n",
    "            mask = mask.squeeze()\n",
    "        if  len(mask)>0:\n",
    "            self.S[mask] = S_new[mask]\n",
    "            x[mask,:] = y[mask,:]\n",
    "        self.ar = torch.mean(ind.type('torch.FloatTensor'))    \n",
    "    \n",
    "    \n",
    "    def log(self,z):\n",
    "        x1=z\n",
    "        print(torch.mean(x1**2),self.ar)\n",
    "        self.res.append(torch.mean(x1**2).cpu())\n",
    "        self.Times.append(time.time()-self.start)\n",
    "    \n",
    "    def calc_S(self,z):\n",
    "        S=self.system.Full_S(z).to(z.device)   \n",
    "        return S\n",
    "    \n",
    "    def init_state(self,z):\n",
    "        self.start=time.time()\n",
    "        self.S=self.calc_S(z)\n",
    "        self.res=[]\n",
    "        self.Times=[]\n",
    "\n",
    "    def run(self,x):\n",
    "        self.init_state(x)\n",
    "        for i in range(self.N_sweep):\n",
    "            if i%self.log_per==0:\n",
    "                self.log(x)\n",
    "            self.hmc_sweep(x)\n",
    "        return x  "
   ]
  },
  {
   "cell_type": "code",
   "execution_count": 16,
   "id": "3857c540-6428-46f4-ac0a-31aa76f83ad2",
   "metadata": {
    "execution": {
     "iopub.execute_input": "2024-06-18T23:25:01.146741Z",
     "iopub.status.busy": "2024-06-18T23:25:01.145654Z",
     "iopub.status.idle": "2024-06-18T23:25:01.214839Z",
     "shell.execute_reply": "2024-06-18T23:25:01.213966Z",
     "shell.execute_reply.started": "2024-06-18T23:25:01.146701Z"
    },
    "tags": []
   },
   "outputs": [],
   "source": [
    "from NFrel_oscillator import Rel_Oscillator\n",
    "\n",
    "rel = Rel_Oscillator(N_nod,Beta,sigma=1)\n",
    "KL_rel = rel.get_KL()"
   ]
  },
  {
   "cell_type": "code",
   "execution_count": 17,
   "id": "eae42727-7687-48fe-841a-c2e24320095f",
   "metadata": {
    "execution": {
     "iopub.execute_input": "2024-06-18T23:25:03.391599Z",
     "iopub.status.busy": "2024-06-18T23:25:03.390231Z",
     "iopub.status.idle": "2024-06-18T23:25:03.402772Z",
     "shell.execute_reply": "2024-06-18T23:25:03.402015Z",
     "shell.execute_reply.started": "2024-06-18T23:25:03.391554Z"
    },
    "tags": []
   },
   "outputs": [],
   "source": [
    "hidden_dim_dict1={8:8,16:16,32:32,64:64,128:128,256:256}\n",
    "n_flows_dict1={8:8,16:12,32:12,64:16,128:16,256:32}\n",
    "num_hidden_dict1={8:6,16:6,32:12,64:12,128:16,256:32}"
   ]
  },
  {
   "cell_type": "code",
   "execution_count": 19,
   "id": "558e4bef",
   "metadata": {
    "execution": {
     "iopub.execute_input": "2024-06-18T23:12:15.010968Z",
     "iopub.status.busy": "2024-06-18T23:12:15.009951Z",
     "iopub.status.idle": "2024-06-18T23:13:39.148332Z",
     "shell.execute_reply": "2024-06-18T23:13:39.147205Z",
     "shell.execute_reply.started": "2024-06-18T23:12:15.010920Z"
    },
    "tags": []
   },
   "outputs": [
    {
     "name": "stderr",
     "output_type": "stream",
     "text": [
      "GPU available: False, used: False\n",
      "TPU available: False, using: 0 TPU cores\n",
      "IPU available: False, using: 0 IPUs\n",
      "HPU available: False, using: 0 HPUs\n",
      "Missing logger folder: logs/nf\\lightning_logs\n",
      "C:\\ProgramData\\anaconda3\\Lib\\site-packages\\torch\\optim\\lr_scheduler.py:28: UserWarning: The verbose parameter is deprecated. Please use get_last_lr() to access the learning rate.\n",
      "  warnings.warn(\"The verbose parameter is deprecated. Please use get_last_lr() \"\n",
      "\n",
      "  | Name  | Type      | Params\n",
      "------------------------------------\n",
      "0 | model | RGflows   | 6.2 M \n",
      "1 | loss  | KL_with_S | 0     \n",
      "------------------------------------\n",
      "6.2 M     Trainable params\n",
      "0         Non-trainable params\n",
      "6.2 M     Total params\n",
      "24.699    Total estimated model params size (MB)\n",
      "C:\\ProgramData\\anaconda3\\Lib\\site-packages\\pytorch_lightning\\trainer\\connectors\\data_connector.py:436: Consider setting `persistent_workers=True` in 'train_dataloader' to speed up the dataloader worker initialization.\n"
     ]
    },
    {
     "data": {
      "application/vnd.jupyter.widget-view+json": {
       "model_id": "ebf089e2e7034a5c952a607da3221061",
       "version_major": 2,
       "version_minor": 0
      },
      "text/plain": [
       "Training: |                                                                                      | 0/? [00:00<…"
      ]
     },
     "metadata": {},
     "output_type": "display_data"
    },
    {
     "name": "stderr",
     "output_type": "stream",
     "text": [
      "C:\\ProgramData\\anaconda3\\Lib\\site-packages\\pytorch_lightning\\trainer\\call.py:54: Detected KeyboardInterrupt, attempting graceful shutdown...\n"
     ]
    }
   ],
   "source": [
    "#Training code. \n",
    "#For example. We used trined model in next cells\n",
    "from Data import train_loader\n",
    "\n",
    "set_random_seed(42)\n",
    "rg = RGflows.configure_RG_model(normal_dist,RGmasks,n_flows_dict1,num_hidden_dict1,hidden_dim_dict1)\n",
    "pipeline=Pipeline(model=rg, criterion=KL_rel, optimizer_class=torch.optim.Adam, optimizer_kwargs={\"lr\": 0.001,\"weight_decay\":0})\n",
    "\n",
    "\n",
    "\n",
    "trainer = pl.Trainer(\n",
    "    max_epochs=1000,\n",
    "    logger=TensorBoardLogger(save_dir=f\"logs/nf\"),\n",
    "    num_sanity_val_steps=0,\n",
    "    log_every_n_steps=1,\n",
    "    enable_checkpointing=False,\n",
    "    accumulate_grad_batches=1\n",
    ")\n",
    "\n",
    "trainer.fit(model=pipeline, train_dataloaders=train_loader)\n",
    "rg.save(\"model_weights1.pth\")"
   ]
  },
  {
   "cell_type": "code",
   "execution_count": 18,
   "id": "8169e1d2-102b-4d79-92e8-03905afd556d",
   "metadata": {
    "execution": {
     "iopub.execute_input": "2024-06-18T23:43:01.783368Z",
     "iopub.status.busy": "2024-06-18T23:43:01.782168Z",
     "iopub.status.idle": "2024-06-18T23:43:02.607762Z",
     "shell.execute_reply": "2024-06-18T23:43:02.606864Z",
     "shell.execute_reply.started": "2024-06-18T23:43:01.783318Z"
    },
    "tags": []
   },
   "outputs": [],
   "source": [
    "from Data import normal_dist\n",
    "import numpy as np\n",
    "from NFconstants import N_traj\n",
    "RG_trained = RGflows.load_model(\"model_weights_rel_N=256_Beta=16.pth\")\n",
    "RG_trained.eval()\n",
    "N_traj=1000\n",
    "trajs=RG_trained.sample(N_traj)\n"
   ]
  },
  {
   "cell_type": "code",
   "execution_count": null,
   "id": "d0710a10-e00c-41d9-958b-dc1d46f54d13",
   "metadata": {
    "execution": {
     "iopub.execute_input": "2024-06-18T23:43:05.001269Z",
     "iopub.status.busy": "2024-06-18T23:43:05.000109Z",
     "iopub.status.idle": "2024-06-18T23:43:09.166574Z",
     "shell.execute_reply": "2024-06-18T23:43:09.165693Z",
     "shell.execute_reply.started": "2024-06-18T23:43:05.001229Z"
    },
    "tags": []
   },
   "outputs": [],
   "source": [
    "from tqdm import tqdm\n",
    "from Data import train_loader\n",
    "def calc_Loss(system,model=RG_trained,dataloader=train_loader,n_batch=8):\n",
    "    kl = []\n",
    "    Loss = system.get_KL()\n",
    "    for i in tqdm(range(n_batch)):\n",
    "        batch = next(iter(dataloader))\n",
    "        x,lad = model(batch)\n",
    "        kl.append(Loss(x,lad))\n",
    "    kl=torch.tensor(kl)\n",
    "    return torch.mean(kl), torch.std(kl)"
   ]
  },
  {
   "cell_type": "code",
   "execution_count": null,
   "id": "142befc4",
   "metadata": {},
   "outputs": [],
   "source": [
    "print(calc_Loss(rel))"
   ]
  },
  {
   "cell_type": "code",
   "execution_count": null,
   "id": "171a7e76",
   "metadata": {},
   "outputs": [],
   "source": [
    "def savetrajs(trajs,filename):\n",
    "    nptrajs = trajs.numpy()\n",
    "    np.savetxt(filename,nptrajs,delimiter=\" \")\n",
    "    print(filename)    "
   ]
  },
  {
   "cell_type": "code",
   "execution_count": 33,
   "id": "41d0fd60",
   "metadata": {},
   "outputs": [
    {
     "name": "stdout",
     "output_type": "stream",
     "text": [
      "NN rel oscillator N=256 Beta=32.txt\n"
     ]
    }
   ],
   "source": [
    "filename=\"NN rel oscillator N=\"+str(N_nod)+\" Beta=\"+str(Beta)+\".txt\"\n",
    "savetrajs(trajs,filename)"
   ]
  },
  {
   "cell_type": "code",
   "execution_count": 19,
   "id": "da8e609e",
   "metadata": {},
   "outputs": [],
   "source": [
    "def calc_psi2(trajs,n_bins = 1001):\n",
    "    hst = torch.histogram(trajs.cpu(),bins = n_bins)\n",
    "    h = (hst[1][-1]-hst[1][0])/n_bins\n",
    "    x = hst[1][:-1]\n",
    "    psi2 = hst[0]/(N_nod*N_traj*h)\n",
    "    return x.numpy(), psi2.numpy()"
   ]
  },
  {
   "cell_type": "code",
   "execution_count": 23,
   "id": "af8204ca",
   "metadata": {},
   "outputs": [],
   "source": [
    "x,psi2=calc_psi2(trajs)"
   ]
  },
  {
   "cell_type": "code",
   "execution_count": 24,
   "id": "97dd8ec7-e12c-420b-8936-f6bfb2c4b5b3",
   "metadata": {
    "execution": {
     "iopub.execute_input": "2024-06-17T16:58:33.141581Z",
     "iopub.status.busy": "2024-06-17T16:58:33.140516Z",
     "iopub.status.idle": "2024-06-17T16:58:33.597223Z",
     "shell.execute_reply": "2024-06-17T16:58:33.596337Z",
     "shell.execute_reply.started": "2024-06-17T16:58:33.141527Z"
    },
    "tags": []
   },
   "outputs": [
    {
     "data": {
      "image/png": "[encoded data removed]",
      "text/plain": [
       "<Figure size 640x480 with 1 Axes>"
      ]
     },
     "metadata": {},
     "output_type": "display_data"
    }
   ],
   "source": [
    "import numpy as np\n",
    "import matplotlib.pyplot as plt\n",
    "fig=plt.figure()\n",
    "plt.plot(x,psi2)\n",
    "plt.ylabel(r\"$|\\psi(x)|^2$\",fontsize=17)\n",
    "plt.xlabel(\"x\",fontsize=17)\n",
    "plt.title(r\"$N=$\"+str(N_nod)+\"      \"+r\"$\\beta=$\"+str(Beta)+\"        \")\n",
    "plt.legend([\"Нормализующий поток\",\"Теор.\"])\n",
    "plt.grid(True)\n",
    "plt.show()"
   ]
  },
  {
   "cell_type": "code",
   "execution_count": 33,
   "id": "fe644a5e-8e4a-4536-bec1-78a391b60f97",
   "metadata": {
    "execution": {
     "iopub.execute_input": "2024-06-18T23:34:37.735915Z",
     "iopub.status.busy": "2024-06-18T23:34:37.734828Z",
     "iopub.status.idle": "2024-06-18T23:34:38.462636Z",
     "shell.execute_reply": "2024-06-18T23:34:38.461779Z",
     "shell.execute_reply.started": "2024-06-18T23:34:37.735883Z"
    },
    "tags": []
   },
   "outputs": [
    {
     "name": "stderr",
     "output_type": "stream",
     "text": [
      "100%|███████████████████████████████████████████████████████████████████████████████| 256/256 [00:02<00:00, 126.07it/s]\n"
     ]
    }
   ],
   "source": [
    "from tqdm import tqdm\n",
    "def G(X,n_p=N_nod):\n",
    "    n_tr=X.shape[0]\n",
    "    G=np.zeros((n_p))\n",
    "    Y=X.clone()\n",
    "    Xt=torch.t(X)\n",
    "    for s in tqdm(range(n_p)):\n",
    "        G[s]=torch.trace(torch.matmul(Y,Xt))\n",
    "        Y=torch.roll(Y,-1,1)\n",
    "    return G/(n_tr*N_nod)\n",
    "g_nf=G(trajs)\n"
   ]
  },
  {
   "cell_type": "code",
   "execution_count": 34,
   "id": "34a5ead7-10a1-445f-abbd-4f8c2478ccd1",
   "metadata": {
    "execution": {
     "iopub.execute_input": "2024-06-18T23:34:46.945918Z",
     "iopub.status.busy": "2024-06-18T23:34:46.944531Z",
     "iopub.status.idle": "2024-06-18T23:34:47.332470Z",
     "shell.execute_reply": "2024-06-18T23:34:47.331459Z",
     "shell.execute_reply.started": "2024-06-18T23:34:46.945862Z"
    },
    "tags": []
   },
   "outputs": [
    {
     "data": {
      "image/png": "[encoded data removed]",
      "text/plain": [
       "<Figure size 640x480 with 1 Axes>"
      ]
     },
     "metadata": {},
     "output_type": "display_data"
    }
   ],
   "source": [
    "fig=plt.figure()\n",
    "NF_list=np.arange(len(g_nf))/len(g_nf)\n",
    "plt.scatter(NF_list,g_nf,s=10)\n",
    "plt.title(r\"$N=$\"+str(N_nod)+\"       \"r\"$\\beta=$\"+str(Beta)+\"     Релятивистский осциллятор\")\n",
    "plt.ylabel(r\"$G_s$\",fontsize=17)\n",
    "plt.xlabel(r\"$s/N$\",fontsize=17)\n",
    "plt.grid(True)\n",
    "plt.show()\n"
   ]
  },
  {
   "cell_type": "code",
   "execution_count": 35,
   "id": "653c3be4-affb-4e88-ab7a-29893cca4c59",
   "metadata": {
    "execution": {
     "iopub.execute_input": "2024-06-18T23:42:04.694967Z",
     "iopub.status.busy": "2024-06-18T23:42:04.693793Z",
     "iopub.status.idle": "2024-06-18T23:42:33.999532Z",
     "shell.execute_reply": "2024-06-18T23:42:33.998207Z",
     "shell.execute_reply.started": "2024-06-18T23:42:04.694924Z"
    },
    "tags": []
   },
   "outputs": [
    {
     "name": "stdout",
     "output_type": "stream",
     "text": [
      "tensor(0.2147) 0\n",
      "tensor(0.2225) tensor(0.6094)\n",
      "tensor(0.2203) tensor(0.6562)\n",
      "tensor(0.2242) tensor(0.7656)\n",
      "tensor(0.2202) tensor(0.6250)\n",
      "tensor(0.2107) tensor(0.6094)\n",
      "tensor(0.2080) tensor(0.7031)\n",
      "tensor(0.2088) tensor(0.6094)\n",
      "tensor(0.2002) tensor(0.6250)\n",
      "tensor(0.1919) tensor(0.6719)\n",
      "tensor(0.2015) tensor(0.5156)\n",
      "tensor(0.2033) tensor(0.5312)\n",
      "tensor(0.2178) tensor(0.6562)\n",
      "tensor(0.2150) tensor(0.5938)\n",
      "tensor(0.2184) tensor(0.5156)\n",
      "tensor(0.2356) tensor(0.6250)\n",
      "tensor(0.2403) tensor(0.5156)\n",
      "tensor(0.2441) tensor(0.5469)\n",
      "tensor(0.2319) tensor(0.6094)\n",
      "tensor(0.2288) tensor(0.6719)\n",
      "tensor(0.2265) tensor(0.5625)\n",
      "tensor(0.2368) tensor(0.6719)\n",
      "tensor(0.2351) tensor(0.6562)\n",
      "tensor(0.2415) tensor(0.6406)\n",
      "tensor(0.2554) tensor(0.6250)\n",
      "tensor(0.2361) tensor(0.5312)\n",
      "tensor(0.2294) tensor(0.6875)\n",
      "tensor(0.2345) tensor(0.5625)\n",
      "tensor(0.2398) tensor(0.6250)\n",
      "tensor(0.2322) tensor(0.7031)\n",
      "tensor(0.2540) tensor(0.6406)\n",
      "tensor(0.2531) tensor(0.6562)\n",
      "tensor(0.2545) tensor(0.6875)\n",
      "tensor(0.2556) tensor(0.7500)\n",
      "tensor(0.2548) tensor(0.5469)\n",
      "tensor(0.2568) tensor(0.5781)\n",
      "tensor(0.2586) tensor(0.6094)\n",
      "tensor(0.2653) tensor(0.6875)\n",
      "tensor(0.2590) tensor(0.5469)\n",
      "tensor(0.2641) tensor(0.6719)\n",
      "tensor(0.2549) tensor(0.6406)\n",
      "tensor(0.2654) tensor(0.5938)\n",
      "tensor(0.2527) tensor(0.6094)\n",
      "tensor(0.2559) tensor(0.5781)\n",
      "tensor(0.2573) tensor(0.6562)\n",
      "tensor(0.2674) tensor(0.6094)\n",
      "tensor(0.2687) tensor(0.6719)\n",
      "tensor(0.2774) tensor(0.5625)\n",
      "tensor(0.2872) tensor(0.5625)\n",
      "tensor(0.2833) tensor(0.6719)\n",
      "tensor(0.2941) tensor(0.5625)\n",
      "tensor(0.2858) tensor(0.7188)\n",
      "tensor(0.2824) tensor(0.6875)\n",
      "tensor(0.2825) tensor(0.5000)\n",
      "tensor(0.2834) tensor(0.6094)\n",
      "tensor(0.2936) tensor(0.5469)\n",
      "tensor(0.2906) tensor(0.5781)\n",
      "tensor(0.2830) tensor(0.5625)\n",
      "tensor(0.2853) tensor(0.5625)\n",
      "tensor(0.2922) tensor(0.4688)\n",
      "tensor(0.2938) tensor(0.5781)\n",
      "tensor(0.2962) tensor(0.6094)\n",
      "tensor(0.2995) tensor(0.6406)\n",
      "tensor(0.2751) tensor(0.5938)\n",
      "tensor(0.2725) tensor(0.6406)\n",
      "tensor(0.2774) tensor(0.6094)\n",
      "tensor(0.2792) tensor(0.6719)\n",
      "tensor(0.2703) tensor(0.5938)\n",
      "tensor(0.2854) tensor(0.7188)\n",
      "tensor(0.2789) tensor(0.5625)\n",
      "tensor(0.2797) tensor(0.6562)\n",
      "tensor(0.2915) tensor(0.6406)\n",
      "tensor(0.3002) tensor(0.6094)\n",
      "tensor(0.2918) tensor(0.5781)\n",
      "tensor(0.2948) tensor(0.7188)\n",
      "tensor(0.3052) tensor(0.5312)\n"
     ]
    },
    {
     "ename": "KeyboardInterrupt",
     "evalue": "",
     "output_type": "error",
     "traceback": [
      "\u001b[1;31m---------------------------------------------------------------------------\u001b[0m",
      "\u001b[1;31mKeyboardInterrupt\u001b[0m                         Traceback (most recent call last)",
      "Cell \u001b[1;32mIn[35], line 6\u001b[0m\n\u001b[0;32m      4\u001b[0m \u001b[38;5;66;03m#z,_=model1(z)\u001b[39;00m\n\u001b[0;32m      5\u001b[0m Metropolis \u001b[38;5;241m=\u001b[39m MCMC(rel,model\u001b[38;5;241m=\u001b[39mmodel1,d\u001b[38;5;241m=\u001b[39m\u001b[38;5;241m6\u001b[39m\u001b[38;5;241m*\u001b[39m(a\u001b[38;5;241m/\u001b[39mN_nod)\u001b[38;5;241m*\u001b[39m\u001b[38;5;241m*\u001b[39m\u001b[38;5;241m0.5\u001b[39m,N_sweep\u001b[38;5;241m=\u001b[39m\u001b[38;5;241m20000\u001b[39m,log_per\u001b[38;5;241m=\u001b[39m\u001b[38;5;241m100\u001b[39m)\n\u001b[1;32m----> 6\u001b[0m z \u001b[38;5;241m=\u001b[39m Metropolis\u001b[38;5;241m.\u001b[39mrun(z)\n",
      "Cell \u001b[1;32mIn[14], line 69\u001b[0m, in \u001b[0;36mMCMC.run\u001b[1;34m(self, z)\u001b[0m\n\u001b[0;32m     67\u001b[0m     \u001b[38;5;28;01mif\u001b[39;00m i\u001b[38;5;241m%\u001b[39m\u001b[38;5;28mself\u001b[39m\u001b[38;5;241m.\u001b[39mlog_per\u001b[38;5;241m==\u001b[39m\u001b[38;5;241m0\u001b[39m:\n\u001b[0;32m     68\u001b[0m         \u001b[38;5;28mself\u001b[39m\u001b[38;5;241m.\u001b[39mlog(z)\n\u001b[1;32m---> 69\u001b[0m     \u001b[38;5;28mself\u001b[39m\u001b[38;5;241m.\u001b[39msweep(z)\n\u001b[0;32m     71\u001b[0m \u001b[38;5;28;01mreturn\u001b[39;00m z\n",
      "Cell \u001b[1;32mIn[14], line 21\u001b[0m, in \u001b[0;36mMCMC.sweep\u001b[1;34m(self, z)\u001b[0m\n\u001b[0;32m     18\u001b[0m shift \u001b[38;5;241m=\u001b[39m \u001b[38;5;28mself\u001b[39m\u001b[38;5;241m.\u001b[39mshift_dist\u001b[38;5;241m.\u001b[39msample((N_samp,))\u001b[38;5;241m.\u001b[39mto(z\u001b[38;5;241m.\u001b[39mdevice)\n\u001b[0;32m     19\u001b[0m y \u001b[38;5;241m=\u001b[39m z\u001b[38;5;241m+\u001b[39m\u001b[38;5;28mself\u001b[39m\u001b[38;5;241m.\u001b[39md\u001b[38;5;241m*\u001b[39m(\u001b[38;5;241m2\u001b[39m\u001b[38;5;241m*\u001b[39mshift\u001b[38;5;241m-\u001b[39m\u001b[38;5;241m1\u001b[39m)\n\u001b[1;32m---> 21\u001b[0m S_new\u001b[38;5;241m=\u001b[39m\u001b[38;5;28mself\u001b[39m\u001b[38;5;241m.\u001b[39mcalc_S(y)\n\u001b[0;32m     23\u001b[0m dS\u001b[38;5;241m=\u001b[39mS_new\u001b[38;5;241m-\u001b[39m\u001b[38;5;28mself\u001b[39m\u001b[38;5;241m.\u001b[39mS\n\u001b[0;32m     24\u001b[0m prob \u001b[38;5;241m=\u001b[39m torch\u001b[38;5;241m.\u001b[39mexp(\u001b[38;5;241m-\u001b[39mdS)\n",
      "Cell \u001b[1;32mIn[14], line 51\u001b[0m, in \u001b[0;36mMCMC.calc_S\u001b[1;34m(self, z)\u001b[0m\n\u001b[0;32m     49\u001b[0m     S\u001b[38;5;241m=\u001b[39m\u001b[38;5;28mself\u001b[39m\u001b[38;5;241m.\u001b[39msystem\u001b[38;5;241m.\u001b[39mFull_S(z)\u001b[38;5;241m.\u001b[39mto(z\u001b[38;5;241m.\u001b[39mdevice)\n\u001b[0;32m     50\u001b[0m \u001b[38;5;28;01melse\u001b[39;00m:\n\u001b[1;32m---> 51\u001b[0m     x , lad \u001b[38;5;241m=\u001b[39m \u001b[38;5;28mself\u001b[39m\u001b[38;5;241m.\u001b[39mmodel(z)\n\u001b[0;32m     52\u001b[0m     S\u001b[38;5;241m=\u001b[39m\u001b[38;5;28mself\u001b[39m\u001b[38;5;241m.\u001b[39msystem\u001b[38;5;241m.\u001b[39mFull_S(x)\u001b[38;5;241m.\u001b[39mto(z\u001b[38;5;241m.\u001b[39mdevice)\u001b[38;5;241m-\u001b[39mlad   \n\u001b[0;32m     53\u001b[0m \u001b[38;5;28;01mreturn\u001b[39;00m S\n",
      "File \u001b[1;32mC:\\ProgramData\\anaconda3\\Lib\\site-packages\\torch\\nn\\modules\\module.py:1511\u001b[0m, in \u001b[0;36mModule._wrapped_call_impl\u001b[1;34m(self, *args, **kwargs)\u001b[0m\n\u001b[0;32m   1509\u001b[0m     \u001b[38;5;28;01mreturn\u001b[39;00m \u001b[38;5;28mself\u001b[39m\u001b[38;5;241m.\u001b[39m_compiled_call_impl(\u001b[38;5;241m*\u001b[39margs, \u001b[38;5;241m*\u001b[39m\u001b[38;5;241m*\u001b[39mkwargs)  \u001b[38;5;66;03m# type: ignore[misc]\u001b[39;00m\n\u001b[0;32m   1510\u001b[0m \u001b[38;5;28;01melse\u001b[39;00m:\n\u001b[1;32m-> 1511\u001b[0m     \u001b[38;5;28;01mreturn\u001b[39;00m \u001b[38;5;28mself\u001b[39m\u001b[38;5;241m.\u001b[39m_call_impl(\u001b[38;5;241m*\u001b[39margs, \u001b[38;5;241m*\u001b[39m\u001b[38;5;241m*\u001b[39mkwargs)\n",
      "File \u001b[1;32mC:\\ProgramData\\anaconda3\\Lib\\site-packages\\torch\\nn\\modules\\module.py:1520\u001b[0m, in \u001b[0;36mModule._call_impl\u001b[1;34m(self, *args, **kwargs)\u001b[0m\n\u001b[0;32m   1515\u001b[0m \u001b[38;5;66;03m# If we don't have any hooks, we want to skip the rest of the logic in\u001b[39;00m\n\u001b[0;32m   1516\u001b[0m \u001b[38;5;66;03m# this function, and just call forward.\u001b[39;00m\n\u001b[0;32m   1517\u001b[0m \u001b[38;5;28;01mif\u001b[39;00m \u001b[38;5;129;01mnot\u001b[39;00m (\u001b[38;5;28mself\u001b[39m\u001b[38;5;241m.\u001b[39m_backward_hooks \u001b[38;5;129;01mor\u001b[39;00m \u001b[38;5;28mself\u001b[39m\u001b[38;5;241m.\u001b[39m_backward_pre_hooks \u001b[38;5;129;01mor\u001b[39;00m \u001b[38;5;28mself\u001b[39m\u001b[38;5;241m.\u001b[39m_forward_hooks \u001b[38;5;129;01mor\u001b[39;00m \u001b[38;5;28mself\u001b[39m\u001b[38;5;241m.\u001b[39m_forward_pre_hooks\n\u001b[0;32m   1518\u001b[0m         \u001b[38;5;129;01mor\u001b[39;00m _global_backward_pre_hooks \u001b[38;5;129;01mor\u001b[39;00m _global_backward_hooks\n\u001b[0;32m   1519\u001b[0m         \u001b[38;5;129;01mor\u001b[39;00m _global_forward_hooks \u001b[38;5;129;01mor\u001b[39;00m _global_forward_pre_hooks):\n\u001b[1;32m-> 1520\u001b[0m     \u001b[38;5;28;01mreturn\u001b[39;00m forward_call(\u001b[38;5;241m*\u001b[39margs, \u001b[38;5;241m*\u001b[39m\u001b[38;5;241m*\u001b[39mkwargs)\n\u001b[0;32m   1522\u001b[0m \u001b[38;5;28;01mtry\u001b[39;00m:\n\u001b[0;32m   1523\u001b[0m     result \u001b[38;5;241m=\u001b[39m \u001b[38;5;28;01mNone\u001b[39;00m\n",
      "Cell \u001b[1;32mIn[9], line 87\u001b[0m, in \u001b[0;36mRGflows.forward\u001b[1;34m(self, z)\u001b[0m\n\u001b[0;32m     85\u001b[0m \u001b[38;5;28;01mwith\u001b[39;00m torch\u001b[38;5;241m.\u001b[39mno_grad():\n\u001b[0;32m     86\u001b[0m     t\u001b[38;5;241m=\u001b[39m(z\u001b[38;5;241m.\u001b[39mclone())\u001b[38;5;241m.\u001b[39mto(z\u001b[38;5;241m.\u001b[39mdevice)\n\u001b[1;32m---> 87\u001b[0m     x, log_abs_det\u001b[38;5;241m=\u001b[39m\u001b[38;5;28mself\u001b[39m\u001b[38;5;241m.\u001b[39mg(t)\n\u001b[0;32m     88\u001b[0m     log_abs_det\u001b[38;5;241m=\u001b[39mlog_abs_det\u001b[38;5;241m.\u001b[39mdetach()\u001b[38;5;241m.\u001b[39mto(z\u001b[38;5;241m.\u001b[39mdevice)\n\u001b[0;32m     89\u001b[0m \u001b[38;5;28;01mreturn\u001b[39;00m x, log_abs_det\n",
      "Cell \u001b[1;32mIn[9], line 73\u001b[0m, in \u001b[0;36mRGflows.g\u001b[1;34m(self, z, params)\u001b[0m\n\u001b[0;32m     71\u001b[0m \u001b[38;5;28;01mfor\u001b[39;00m i \u001b[38;5;129;01min\u001b[39;00m \u001b[38;5;28mrange\u001b[39m(\u001b[38;5;28mlen\u001b[39m(\u001b[38;5;28mself\u001b[39m\u001b[38;5;241m.\u001b[39mnflist)):\n\u001b[0;32m     72\u001b[0m     x\u001b[38;5;241m=\u001b[39mz[:,\u001b[38;5;28mself\u001b[39m\u001b[38;5;241m.\u001b[39mmasks[i]]\n\u001b[1;32m---> 73\u001b[0m     x, log_abs_det \u001b[38;5;241m=\u001b[39m ((\u001b[38;5;28mself\u001b[39m\u001b[38;5;241m.\u001b[39mnflist)[i])\u001b[38;5;241m.\u001b[39mg(x,params)\n\u001b[0;32m     74\u001b[0m     sum_log_abs_det \u001b[38;5;241m+\u001b[39m\u001b[38;5;241m=\u001b[39m log_abs_det\n\u001b[0;32m     75\u001b[0m     params\u001b[38;5;241m=\u001b[39mtorch\u001b[38;5;241m.\u001b[39mcat((params,x\u001b[38;5;241m.\u001b[39mdetach()),dim\u001b[38;5;241m=\u001b[39m\u001b[38;5;241m-\u001b[39m\u001b[38;5;241m1\u001b[39m)\n",
      "Cell \u001b[1;32mIn[8], line 37\u001b[0m, in \u001b[0;36mNormalizingFlow.g\u001b[1;34m(self, z, params)\u001b[0m\n\u001b[0;32m     35\u001b[0m x, sum_log_abs_det \u001b[38;5;241m=\u001b[39m z, torch\u001b[38;5;241m.\u001b[39mzeros(z\u001b[38;5;241m.\u001b[39msize(\u001b[38;5;241m0\u001b[39m))\u001b[38;5;241m.\u001b[39mto(z\u001b[38;5;241m.\u001b[39mdevice)\n\u001b[0;32m     36\u001b[0m \u001b[38;5;28;01mfor\u001b[39;00m flow \u001b[38;5;129;01min\u001b[39;00m \u001b[38;5;28mreversed\u001b[39m(\u001b[38;5;28mself\u001b[39m\u001b[38;5;241m.\u001b[39mflows):\n\u001b[1;32m---> 37\u001b[0m     x, log_abs_det \u001b[38;5;241m=\u001b[39m flow\u001b[38;5;241m.\u001b[39mg(x,params)\n\u001b[0;32m     38\u001b[0m     sum_log_abs_det \u001b[38;5;241m+\u001b[39m\u001b[38;5;241m=\u001b[39m log_abs_det\n\u001b[0;32m     40\u001b[0m \u001b[38;5;28;01mif\u001b[39;00m \u001b[38;5;28mself\u001b[39m\u001b[38;5;241m.\u001b[39mort:\n",
      "Cell \u001b[1;32mIn[4], line 19\u001b[0m, in \u001b[0;36mAffineCouplingLayer.g\u001b[1;34m(self, z, params)\u001b[0m\n\u001b[0;32m     17\u001b[0m z1, z2 \u001b[38;5;241m=\u001b[39m z[:,mask1], z[:,mask2]\n\u001b[0;32m     18\u001b[0m z1\u001b[38;5;241m=\u001b[39mtorch\u001b[38;5;241m.\u001b[39mcat((z1,params),dim\u001b[38;5;241m=\u001b[39m\u001b[38;5;241m-\u001b[39m\u001b[38;5;241m1\u001b[39m)\n\u001b[1;32m---> 19\u001b[0m t, s \u001b[38;5;241m=\u001b[39m \u001b[38;5;28mself\u001b[39m\u001b[38;5;241m.\u001b[39mtheta(z1)\n\u001b[0;32m     20\u001b[0m x2 \u001b[38;5;241m=\u001b[39m z2 \u001b[38;5;241m*\u001b[39m torch\u001b[38;5;241m.\u001b[39mexp(s) \u001b[38;5;241m+\u001b[39m t\n\u001b[0;32m     21\u001b[0m log_det \u001b[38;5;241m=\u001b[39m s\u001b[38;5;241m.\u001b[39msum(\u001b[38;5;241m-\u001b[39m\u001b[38;5;241m1\u001b[39m) \n",
      "File \u001b[1;32mC:\\ProgramData\\anaconda3\\Lib\\site-packages\\torch\\nn\\modules\\module.py:1511\u001b[0m, in \u001b[0;36mModule._wrapped_call_impl\u001b[1;34m(self, *args, **kwargs)\u001b[0m\n\u001b[0;32m   1509\u001b[0m     \u001b[38;5;28;01mreturn\u001b[39;00m \u001b[38;5;28mself\u001b[39m\u001b[38;5;241m.\u001b[39m_compiled_call_impl(\u001b[38;5;241m*\u001b[39margs, \u001b[38;5;241m*\u001b[39m\u001b[38;5;241m*\u001b[39mkwargs)  \u001b[38;5;66;03m# type: ignore[misc]\u001b[39;00m\n\u001b[0;32m   1510\u001b[0m \u001b[38;5;28;01melse\u001b[39;00m:\n\u001b[1;32m-> 1511\u001b[0m     \u001b[38;5;28;01mreturn\u001b[39;00m \u001b[38;5;28mself\u001b[39m\u001b[38;5;241m.\u001b[39m_call_impl(\u001b[38;5;241m*\u001b[39margs, \u001b[38;5;241m*\u001b[39m\u001b[38;5;241m*\u001b[39mkwargs)\n",
      "File \u001b[1;32mC:\\ProgramData\\anaconda3\\Lib\\site-packages\\torch\\nn\\modules\\module.py:1520\u001b[0m, in \u001b[0;36mModule._call_impl\u001b[1;34m(self, *args, **kwargs)\u001b[0m\n\u001b[0;32m   1515\u001b[0m \u001b[38;5;66;03m# If we don't have any hooks, we want to skip the rest of the logic in\u001b[39;00m\n\u001b[0;32m   1516\u001b[0m \u001b[38;5;66;03m# this function, and just call forward.\u001b[39;00m\n\u001b[0;32m   1517\u001b[0m \u001b[38;5;28;01mif\u001b[39;00m \u001b[38;5;129;01mnot\u001b[39;00m (\u001b[38;5;28mself\u001b[39m\u001b[38;5;241m.\u001b[39m_backward_hooks \u001b[38;5;129;01mor\u001b[39;00m \u001b[38;5;28mself\u001b[39m\u001b[38;5;241m.\u001b[39m_backward_pre_hooks \u001b[38;5;129;01mor\u001b[39;00m \u001b[38;5;28mself\u001b[39m\u001b[38;5;241m.\u001b[39m_forward_hooks \u001b[38;5;129;01mor\u001b[39;00m \u001b[38;5;28mself\u001b[39m\u001b[38;5;241m.\u001b[39m_forward_pre_hooks\n\u001b[0;32m   1518\u001b[0m         \u001b[38;5;129;01mor\u001b[39;00m _global_backward_pre_hooks \u001b[38;5;129;01mor\u001b[39;00m _global_backward_hooks\n\u001b[0;32m   1519\u001b[0m         \u001b[38;5;129;01mor\u001b[39;00m _global_forward_hooks \u001b[38;5;129;01mor\u001b[39;00m _global_forward_pre_hooks):\n\u001b[1;32m-> 1520\u001b[0m     \u001b[38;5;28;01mreturn\u001b[39;00m forward_call(\u001b[38;5;241m*\u001b[39margs, \u001b[38;5;241m*\u001b[39m\u001b[38;5;241m*\u001b[39mkwargs)\n\u001b[0;32m   1522\u001b[0m \u001b[38;5;28;01mtry\u001b[39;00m:\n\u001b[0;32m   1523\u001b[0m     result \u001b[38;5;241m=\u001b[39m \u001b[38;5;28;01mNone\u001b[39;00m\n",
      "Cell \u001b[1;32mIn[7], line 39\u001b[0m, in \u001b[0;36mThetaNetwork.forward\u001b[1;34m(self, x)\u001b[0m\n\u001b[0;32m     37\u001b[0m x \u001b[38;5;241m=\u001b[39m F\u001b[38;5;241m.\u001b[39mleaky_relu(\u001b[38;5;28mself\u001b[39m\u001b[38;5;241m.\u001b[39minput(x),negative_slope\u001b[38;5;241m=\u001b[39m\u001b[38;5;241m0.01\u001b[39m)\n\u001b[0;32m     38\u001b[0m \u001b[38;5;28;01mfor\u001b[39;00m h \u001b[38;5;129;01min\u001b[39;00m \u001b[38;5;28mself\u001b[39m\u001b[38;5;241m.\u001b[39mhidden:\n\u001b[1;32m---> 39\u001b[0m     x \u001b[38;5;241m=\u001b[39m F\u001b[38;5;241m.\u001b[39mleaky_relu(h(x),negative_slope\u001b[38;5;241m=\u001b[39m\u001b[38;5;241m0.01\u001b[39m)\n\u001b[0;32m     41\u001b[0m batch_params \u001b[38;5;241m=\u001b[39m \u001b[38;5;28mself\u001b[39m\u001b[38;5;241m.\u001b[39mdims(x)\u001b[38;5;241m.\u001b[39mreshape(x\u001b[38;5;241m.\u001b[39msize(\u001b[38;5;241m0\u001b[39m), \u001b[38;5;28mself\u001b[39m\u001b[38;5;241m.\u001b[39mout_dim, \u001b[38;5;241m-\u001b[39m\u001b[38;5;241m1\u001b[39m) \n\u001b[0;32m     42\u001b[0m params \u001b[38;5;241m=\u001b[39m batch_params\u001b[38;5;241m.\u001b[39mchunk(\u001b[38;5;28mself\u001b[39m\u001b[38;5;241m.\u001b[39mnum_params, dim\u001b[38;5;241m=\u001b[39m\u001b[38;5;241m-\u001b[39m\u001b[38;5;241m1\u001b[39m) \n",
      "File \u001b[1;32mC:\\ProgramData\\anaconda3\\Lib\\site-packages\\torch\\nn\\modules\\module.py:1511\u001b[0m, in \u001b[0;36mModule._wrapped_call_impl\u001b[1;34m(self, *args, **kwargs)\u001b[0m\n\u001b[0;32m   1509\u001b[0m     \u001b[38;5;28;01mreturn\u001b[39;00m \u001b[38;5;28mself\u001b[39m\u001b[38;5;241m.\u001b[39m_compiled_call_impl(\u001b[38;5;241m*\u001b[39margs, \u001b[38;5;241m*\u001b[39m\u001b[38;5;241m*\u001b[39mkwargs)  \u001b[38;5;66;03m# type: ignore[misc]\u001b[39;00m\n\u001b[0;32m   1510\u001b[0m \u001b[38;5;28;01melse\u001b[39;00m:\n\u001b[1;32m-> 1511\u001b[0m     \u001b[38;5;28;01mreturn\u001b[39;00m \u001b[38;5;28mself\u001b[39m\u001b[38;5;241m.\u001b[39m_call_impl(\u001b[38;5;241m*\u001b[39margs, \u001b[38;5;241m*\u001b[39m\u001b[38;5;241m*\u001b[39mkwargs)\n",
      "File \u001b[1;32mC:\\ProgramData\\anaconda3\\Lib\\site-packages\\torch\\nn\\modules\\module.py:1520\u001b[0m, in \u001b[0;36mModule._call_impl\u001b[1;34m(self, *args, **kwargs)\u001b[0m\n\u001b[0;32m   1515\u001b[0m \u001b[38;5;66;03m# If we don't have any hooks, we want to skip the rest of the logic in\u001b[39;00m\n\u001b[0;32m   1516\u001b[0m \u001b[38;5;66;03m# this function, and just call forward.\u001b[39;00m\n\u001b[0;32m   1517\u001b[0m \u001b[38;5;28;01mif\u001b[39;00m \u001b[38;5;129;01mnot\u001b[39;00m (\u001b[38;5;28mself\u001b[39m\u001b[38;5;241m.\u001b[39m_backward_hooks \u001b[38;5;129;01mor\u001b[39;00m \u001b[38;5;28mself\u001b[39m\u001b[38;5;241m.\u001b[39m_backward_pre_hooks \u001b[38;5;129;01mor\u001b[39;00m \u001b[38;5;28mself\u001b[39m\u001b[38;5;241m.\u001b[39m_forward_hooks \u001b[38;5;129;01mor\u001b[39;00m \u001b[38;5;28mself\u001b[39m\u001b[38;5;241m.\u001b[39m_forward_pre_hooks\n\u001b[0;32m   1518\u001b[0m         \u001b[38;5;129;01mor\u001b[39;00m _global_backward_pre_hooks \u001b[38;5;129;01mor\u001b[39;00m _global_backward_hooks\n\u001b[0;32m   1519\u001b[0m         \u001b[38;5;129;01mor\u001b[39;00m _global_forward_hooks \u001b[38;5;129;01mor\u001b[39;00m _global_forward_pre_hooks):\n\u001b[1;32m-> 1520\u001b[0m     \u001b[38;5;28;01mreturn\u001b[39;00m forward_call(\u001b[38;5;241m*\u001b[39margs, \u001b[38;5;241m*\u001b[39m\u001b[38;5;241m*\u001b[39mkwargs)\n\u001b[0;32m   1522\u001b[0m \u001b[38;5;28;01mtry\u001b[39;00m:\n\u001b[0;32m   1523\u001b[0m     result \u001b[38;5;241m=\u001b[39m \u001b[38;5;28;01mNone\u001b[39;00m\n",
      "File \u001b[1;32mC:\\ProgramData\\anaconda3\\Lib\\site-packages\\torch\\nn\\modules\\container.py:217\u001b[0m, in \u001b[0;36mSequential.forward\u001b[1;34m(self, input)\u001b[0m\n\u001b[0;32m    215\u001b[0m \u001b[38;5;28;01mdef\u001b[39;00m \u001b[38;5;21mforward\u001b[39m(\u001b[38;5;28mself\u001b[39m, \u001b[38;5;28minput\u001b[39m):\n\u001b[0;32m    216\u001b[0m     \u001b[38;5;28;01mfor\u001b[39;00m module \u001b[38;5;129;01min\u001b[39;00m \u001b[38;5;28mself\u001b[39m:\n\u001b[1;32m--> 217\u001b[0m         \u001b[38;5;28minput\u001b[39m \u001b[38;5;241m=\u001b[39m module(\u001b[38;5;28minput\u001b[39m)\n\u001b[0;32m    218\u001b[0m     \u001b[38;5;28;01mreturn\u001b[39;00m \u001b[38;5;28minput\u001b[39m\n",
      "File \u001b[1;32mC:\\ProgramData\\anaconda3\\Lib\\site-packages\\torch\\nn\\modules\\module.py:1511\u001b[0m, in \u001b[0;36mModule._wrapped_call_impl\u001b[1;34m(self, *args, **kwargs)\u001b[0m\n\u001b[0;32m   1509\u001b[0m     \u001b[38;5;28;01mreturn\u001b[39;00m \u001b[38;5;28mself\u001b[39m\u001b[38;5;241m.\u001b[39m_compiled_call_impl(\u001b[38;5;241m*\u001b[39margs, \u001b[38;5;241m*\u001b[39m\u001b[38;5;241m*\u001b[39mkwargs)  \u001b[38;5;66;03m# type: ignore[misc]\u001b[39;00m\n\u001b[0;32m   1510\u001b[0m \u001b[38;5;28;01melse\u001b[39;00m:\n\u001b[1;32m-> 1511\u001b[0m     \u001b[38;5;28;01mreturn\u001b[39;00m \u001b[38;5;28mself\u001b[39m\u001b[38;5;241m.\u001b[39m_call_impl(\u001b[38;5;241m*\u001b[39margs, \u001b[38;5;241m*\u001b[39m\u001b[38;5;241m*\u001b[39mkwargs)\n",
      "File \u001b[1;32mC:\\ProgramData\\anaconda3\\Lib\\site-packages\\torch\\nn\\modules\\module.py:1520\u001b[0m, in \u001b[0;36mModule._call_impl\u001b[1;34m(self, *args, **kwargs)\u001b[0m\n\u001b[0;32m   1515\u001b[0m \u001b[38;5;66;03m# If we don't have any hooks, we want to skip the rest of the logic in\u001b[39;00m\n\u001b[0;32m   1516\u001b[0m \u001b[38;5;66;03m# this function, and just call forward.\u001b[39;00m\n\u001b[0;32m   1517\u001b[0m \u001b[38;5;28;01mif\u001b[39;00m \u001b[38;5;129;01mnot\u001b[39;00m (\u001b[38;5;28mself\u001b[39m\u001b[38;5;241m.\u001b[39m_backward_hooks \u001b[38;5;129;01mor\u001b[39;00m \u001b[38;5;28mself\u001b[39m\u001b[38;5;241m.\u001b[39m_backward_pre_hooks \u001b[38;5;129;01mor\u001b[39;00m \u001b[38;5;28mself\u001b[39m\u001b[38;5;241m.\u001b[39m_forward_hooks \u001b[38;5;129;01mor\u001b[39;00m \u001b[38;5;28mself\u001b[39m\u001b[38;5;241m.\u001b[39m_forward_pre_hooks\n\u001b[0;32m   1518\u001b[0m         \u001b[38;5;129;01mor\u001b[39;00m _global_backward_pre_hooks \u001b[38;5;129;01mor\u001b[39;00m _global_backward_hooks\n\u001b[0;32m   1519\u001b[0m         \u001b[38;5;129;01mor\u001b[39;00m _global_forward_hooks \u001b[38;5;129;01mor\u001b[39;00m _global_forward_pre_hooks):\n\u001b[1;32m-> 1520\u001b[0m     \u001b[38;5;28;01mreturn\u001b[39;00m forward_call(\u001b[38;5;241m*\u001b[39margs, \u001b[38;5;241m*\u001b[39m\u001b[38;5;241m*\u001b[39mkwargs)\n\u001b[0;32m   1522\u001b[0m \u001b[38;5;28;01mtry\u001b[39;00m:\n\u001b[0;32m   1523\u001b[0m     result \u001b[38;5;241m=\u001b[39m \u001b[38;5;28;01mNone\u001b[39;00m\n",
      "File \u001b[1;32mC:\\ProgramData\\anaconda3\\Lib\\site-packages\\torch\\nn\\modules\\linear.py:116\u001b[0m, in \u001b[0;36mLinear.forward\u001b[1;34m(self, input)\u001b[0m\n\u001b[0;32m    115\u001b[0m \u001b[38;5;28;01mdef\u001b[39;00m \u001b[38;5;21mforward\u001b[39m(\u001b[38;5;28mself\u001b[39m, \u001b[38;5;28minput\u001b[39m: Tensor) \u001b[38;5;241m-\u001b[39m\u001b[38;5;241m>\u001b[39m Tensor:\n\u001b[1;32m--> 116\u001b[0m     \u001b[38;5;28;01mreturn\u001b[39;00m F\u001b[38;5;241m.\u001b[39mlinear(\u001b[38;5;28minput\u001b[39m, \u001b[38;5;28mself\u001b[39m\u001b[38;5;241m.\u001b[39mweight, \u001b[38;5;28mself\u001b[39m\u001b[38;5;241m.\u001b[39mbias)\n",
      "\u001b[1;31mKeyboardInterrupt\u001b[0m: "
     ]
    }
   ],
   "source": [
    "#MCMC in latent space\n",
    "N_samp=64\n",
    "model1=RG_trained.to(device)\n",
    "z=normal_dist.sample((N_samp,)).to(device)\n",
    "Metropolis = MCMC(rel,model=model1,d=6*(a/N_nod)**0.5,N_sweep=20000,log_per=100)\n",
    "z = Metropolis.run(z)"
   ]
  },
  {
   "cell_type": "code",
   "execution_count": 36,
   "id": "0534fc84",
   "metadata": {},
   "outputs": [
    {
     "name": "stderr",
     "output_type": "stream",
     "text": [
      "100%|██████████████████████████████████████████████████████████████████████████████| 256/256 [00:00<00:00, 7130.61it/s]\n"
     ]
    }
   ],
   "source": [
    "x,_ = model1(z)\n",
    "g_mcmc = G(x)"
   ]
  },
  {
   "cell_type": "code",
   "execution_count": 38,
   "id": "f9ae5a98",
   "metadata": {},
   "outputs": [
    {
     "data": {
      "image/png": "[encoded data removed]",
      "text/plain": [
       "<Figure size 640x480 with 1 Axes>"
      ]
     },
     "metadata": {},
     "output_type": "display_data"
    }
   ],
   "source": [
    "fig=plt.figure()\n",
    "NF_list=np.arange(len(g_nf))/len(g_nf)\n",
    "plt.scatter(NF_list,g_nf,s=10)\n",
    "plt.scatter(NF_list,g_mcmc,s=10)\n",
    "plt.title(r\"$N=$\"+str(N_nod)+\"       \"r\"$\\beta=$\"+str(Beta)+\"     Релятивистский осциллятор\")\n",
    "plt.ylabel(r\"$G_s$\",fontsize=17)\n",
    "plt.xlabel(r\"$s/N$\",fontsize=17)\n",
    "plt.legend([\"normalizing flow\",\"normalizing flow+MCMC\"])\n",
    "plt.grid(True)\n",
    "plt.show()"
   ]
  },
  {
   "cell_type": "code",
   "execution_count": 39,
   "id": "2ac2628c",
   "metadata": {},
   "outputs": [
    {
     "data": {
      "image/png": "[encoded data removed]",
      "text/plain": [
       "<Figure size 640x480 with 1 Axes>"
      ]
     },
     "metadata": {},
     "output_type": "display_data"
    }
   ],
   "source": [
    "fig=plt.figure()\n",
    "plt.scatter(Metropolis.Times,Metropolis.res,s=10)\n",
    "plt.title(r\"$N=$\"+str(N_nod)+\"       \"r\"$\\beta=$\"+str(Beta)+\"     Релятивистский осциллятор\")\n",
    "plt.ylabel(r\"$x^2$\",fontsize=17)\n",
    "plt.xlabel(r\"$t, sec$\",fontsize=17)\n",
    "#plt.legend([\"normalizing flow\",\"normalizing flow+MCMC\"])\n",
    "plt.grid(True)\n",
    "plt.show()"
   ]
  },
  {
   "cell_type": "code",
   "execution_count": null,
   "id": "7654413c",
   "metadata": {},
   "outputs": [],
   "source": []
  }
 ],
 "metadata": {
  "kernelspec": {
   "display_name": "Python 3 (ipykernel)",
   "language": "python",
   "name": "python3"
  },
  "language_info": {
   "codemirror_mode": {
    "name": "ipython",
    "version": 3
   },
   "file_extension": ".py",
   "mimetype": "text/x-python",
   "name": "python",
   "nbconvert_exporter": "python",
   "pygments_lexer": "ipython3",
   "version": "3.11.5"
  }
 },
 "nbformat": 4,
 "nbformat_minor": 5
}
