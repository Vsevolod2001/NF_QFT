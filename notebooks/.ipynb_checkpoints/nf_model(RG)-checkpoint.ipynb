{
 "cells": [
  {
   "cell_type": "code",
   "execution_count": 3,
   "id": "dbee9da4",
   "metadata": {
    "execution": {
     "iopub.execute_input": "2024-06-18T23:24:56.780880Z",
     "iopub.status.busy": "2024-06-18T23:24:56.779794Z",
     "iopub.status.idle": "2024-06-18T23:24:56.801586Z",
     "shell.execute_reply": "2024-06-18T23:24:56.800741Z",
     "shell.execute_reply.started": "2024-06-18T23:24:56.780836Z"
    },
    "tags": []
   },
   "outputs": [],
   "source": [
    "import numpy as np\n",
    "import matplotlib.pyplot as plt\n",
    "from typing import Callable, List, Tuple\n",
    "import pytorch_lightning as pl\n",
    "import torch\n",
    "import torch.nn.functional as F\n",
    "from torch import nn\n",
    "from torch.distributions.distribution import Distribution\n",
    "from pytorch_lightning.loggers import TensorBoardLogger\n",
    "device = torch.device(\"cuda\" if torch.cuda.is_available() else \"cpu\")"
   ]
  },
  {
   "cell_type": "code",
   "execution_count": 4,
   "id": "c93eb4f7",
   "metadata": {
    "execution": {
     "iopub.execute_input": "2024-06-18T23:24:58.193209Z",
     "iopub.status.busy": "2024-06-18T23:24:58.192044Z",
     "iopub.status.idle": "2024-06-18T23:24:58.303195Z",
     "shell.execute_reply": "2024-06-18T23:24:58.302268Z",
     "shell.execute_reply.started": "2024-06-18T23:24:58.193173Z"
    },
    "tags": []
   },
   "outputs": [],
   "source": [
    "from NFconstants import N_nod, Beta, a, K_nod\n",
    "from NFandist import get_O\n",
    "from Data import normal_dist\n",
    "\n",
    "def set_random_seed(seed):\n",
    "    torch.manual_seed(seed)\n",
    "    \n",
    "O=(torch.tensor(get_O(N_nod)).float()).to(device)\n",
    "Ot=(torch.t(O)).to(device)"
   ]
  },
  {
   "cell_type": "code",
   "execution_count": 5,
   "id": "b66bc606",
   "metadata": {
    "execution": {
     "iopub.execute_input": "2024-06-18T23:24:58.306075Z",
     "iopub.status.busy": "2024-06-18T23:24:58.304973Z",
     "iopub.status.idle": "2024-06-18T23:24:58.321864Z",
     "shell.execute_reply": "2024-06-18T23:24:58.320944Z",
     "shell.execute_reply.started": "2024-06-18T23:24:58.306035Z"
    },
    "tags": []
   },
   "outputs": [],
   "source": [
    "class AffineCouplingLayer(nn.Module):\n",
    "    def __init__(\n",
    "        self,\n",
    "        theta: nn.Module,\n",
    "        split,\n",
    "        swap: int\n",
    "    ):\n",
    "        super().__init__()\n",
    "        self.theta = theta\n",
    "        self.split = split\n",
    "        self.swap = swap\n",
    "\n",
    "    def g(self, z: torch.Tensor,params=torch.tensor([])) -> torch.Tensor:\n",
    "        \"\"\"g : z -> x. The inverse of f.\"\"\"\n",
    "        mask1=self.split[self.swap]\n",
    "        mask2=self.split[(self.swap+1)%2]\n",
    "        z1, z2 = z[:,mask1], z[:,mask2]\n",
    "        z1=torch.cat((z1,params),dim=-1)\n",
    "        t, s = self.theta(z1)\n",
    "        x2 = z2 * torch.exp(s) + t\n",
    "        log_det = s.sum(-1) \n",
    "        z[:,mask2]=x2\n",
    "        return z, log_det "
   ]
  },
  {
   "cell_type": "code",
   "execution_count": 8,
   "id": "f446e228",
   "metadata": {
    "execution": {
     "iopub.execute_input": "2024-06-18T23:24:59.027250Z",
     "iopub.status.busy": "2024-06-18T23:24:59.026109Z",
     "iopub.status.idle": "2024-06-18T23:24:59.046757Z",
     "shell.execute_reply": "2024-06-18T23:24:59.045863Z",
     "shell.execute_reply.started": "2024-06-18T23:24:59.027207Z"
    },
    "tags": []
   },
   "outputs": [],
   "source": [
    "def get_split_masks(dim=N_nod):\n",
    "    mask1=list(range(0,dim,2))\n",
    "    mask2=list(range(1,dim,2))\n",
    "    split_masks=[mask1,mask2]\n",
    "    return split_masks\n",
    "    "
   ]
  },
  {
   "cell_type": "code",
   "execution_count": 9,
   "id": "7df6bec4-7cc4-43bd-b701-0b10d9341203",
   "metadata": {
    "execution": {
     "iopub.execute_input": "2024-06-18T23:24:59.071052Z",
     "iopub.status.busy": "2024-06-18T23:24:59.069767Z",
     "iopub.status.idle": "2024-06-18T23:24:59.091486Z",
     "shell.execute_reply": "2024-06-18T23:24:59.090485Z",
     "shell.execute_reply.started": "2024-06-18T23:24:59.071003Z"
    },
    "tags": []
   },
   "outputs": [],
   "source": [
    "def get_pair_split_masks(dim=N_nod):\n",
    "    mask1=list(range(0,dim,4))\n",
    "    mask2=list(range(2,dim,4))\n",
    "    mask1=(mask1+list(map(lambda x:x+1,mask1)))\n",
    "    mask2=(mask2+list(map(lambda x:x+1,mask2)))\n",
    "    mask1.sort()\n",
    "    mask2.sort()\n",
    "    split_masks=[mask1,mask2]\n",
    "    return split_masks"
   ]
  },
  {
   "cell_type": "code",
   "execution_count": 10,
   "id": "89e2e80d-b8ae-4511-972d-8c966b1803f6",
   "metadata": {
    "execution": {
     "iopub.execute_input": "2024-06-18T23:24:59.115849Z",
     "iopub.status.busy": "2024-06-18T23:24:59.114978Z",
     "iopub.status.idle": "2024-06-18T23:24:59.134821Z",
     "shell.execute_reply": "2024-06-18T23:24:59.133936Z",
     "shell.execute_reply.started": "2024-06-18T23:24:59.115803Z"
    },
    "tags": []
   },
   "outputs": [],
   "source": [
    "class ThetaNetwork(nn.Module):\n",
    "    def __init__(\n",
    "        self,\n",
    "        in_dim: int,\n",
    "        out_dim: int,\n",
    "        num_hidden: int,\n",
    "        hidden_dim: int,\n",
    "        num_params: int,\n",
    "        p_drop: float,\n",
    "    ):\n",
    "        super().__init__()\n",
    "        self.input = nn.Linear(in_dim, hidden_dim)\n",
    "        self.hidden = nn.ModuleList(\n",
    "            [nn.Sequential(\n",
    "                nn.Linear(hidden_dim, hidden_dim),\n",
    "                nn.Dropout(p=p_drop),\n",
    "                nn.LayerNorm(hidden_dim)\n",
    "            ) for _ in range(num_hidden)]\n",
    "        )\n",
    "\n",
    "        self.num_params = num_params\n",
    "        self.out_dim = out_dim\n",
    "        self.dims = nn.Linear(hidden_dim, out_dim * num_params)\n",
    "        \n",
    "    def configure_theta(num_hidden,hidden_dim,p_drop,in_dim=N_nod//2,out_dim=N_nod//2):\n",
    "        theta=ThetaNetwork(\n",
    "                in_dim = in_dim,\n",
    "                out_dim = out_dim,\n",
    "                num_hidden = num_hidden,  #2 to 6\n",
    "                hidden_dim = hidden_dim , #100-1024\n",
    "                num_params = 2,\n",
    "                p_drop=p_drop,\n",
    "        )\n",
    "        return theta    \n",
    "\n",
    "    def forward(self, x: torch.Tensor) -> torch.Tensor:\n",
    "        x = F.leaky_relu(self.input(x),negative_slope=0.01)\n",
    "        for h in self.hidden:\n",
    "            x = F.leaky_relu(h(x),negative_slope=0.01)\n",
    "\n",
    "        batch_params = self.dims(x).reshape(x.size(0), self.out_dim, -1) \n",
    "        params = batch_params.chunk(self.num_params, dim=-1) \n",
    "        return [p.squeeze(-1) for p in params]"
   ]
  },
  {
   "cell_type": "code",
   "execution_count": 11,
   "id": "f17f095c",
   "metadata": {
    "execution": {
     "iopub.execute_input": "2024-06-18T23:24:59.159306Z",
     "iopub.status.busy": "2024-06-18T23:24:59.158043Z",
     "iopub.status.idle": "2024-06-18T23:24:59.195196Z",
     "shell.execute_reply": "2024-06-18T23:24:59.194148Z",
     "shell.execute_reply.started": "2024-06-18T23:24:59.159259Z"
    },
    "tags": []
   },
   "outputs": [],
   "source": [
    "class NormalizingFlow(nn.Module):\n",
    "    \n",
    "    def __init__(self, latent: Distribution, flows: List[nn.Module], conv_flows = [], ort=False):\n",
    "        super().__init__()\n",
    "        self.latent = latent\n",
    "        self.flows = flows\n",
    "        self.ort = ort\n",
    "        self.conv_flows = conv_flows\n",
    "        \n",
    "    def configure_flows(n_flows,num_hidden,hidden_dim,p_drop,dim=N_nod,param_dim=0):  # n_flows=8,...,12\n",
    "        flows = []\n",
    "        split_masks_d = get_pair_split_masks(dim)\n",
    "    \n",
    "        for k in range(n_flows):\n",
    "            theta = ThetaNetwork.configure_theta( num_hidden = num_hidden, hidden_dim = hidden_dim, p_drop=p_drop ,in_dim = dim//2+param_dim,out_dim = dim//2)\n",
    "            flows.append(AffineCouplingLayer(theta,split=split_masks_d,swap=k%2))\n",
    "   \n",
    "        flows = nn.ModuleList(flows)\n",
    "        return flows     \n",
    "\n",
    "    def latent_sample(self, num_samples: int = 1) -> torch.Tensor:\n",
    "        z=self.latent.sample((num_samples,))\n",
    "        return z        \n",
    "\n",
    "    def sample(self, num_samples: int = 1) -> torch.Tensor:\n",
    "        \"\"\"Sample a new observation x by sampling z from\n",
    "        the latent distribution and pass through g.\"\"\"\n",
    "        z=(self.latent_sample(num_samples))\n",
    "        with torch.no_grad():\n",
    "            x, _ = self.g(z)\n",
    "        return x \n",
    "    \n",
    "\n",
    "    def g(self, z: torch.Tensor,params=torch.tensor([])) -> torch.Tensor:\n",
    "        x, sum_log_abs_det = z, torch.zeros(z.size(0)).to(z.device)\n",
    "        for flow in reversed(self.flows):\n",
    "            x, log_abs_det = flow.g(x,params)\n",
    "            sum_log_abs_det += log_abs_det\n",
    "        \n",
    "        if self.ort:\n",
    "            x=torch.matmul(x,Ot.to(x.device))\n",
    "\n",
    "        \n",
    "        for flow in reversed(self.conv_flows):\n",
    "            x, log_abs_det = flow.g(x)\n",
    "            sum_log_abs_det += log_abs_det\n",
    "        return x, sum_log_abs_det\n",
    "    \n",
    "        \n",
    "    def __len__(self) -> int:\n",
    "        return len(self.flows)\n",
    "    \n",
    "    "
   ]
  },
  {
   "cell_type": "code",
   "execution_count": 34,
   "id": "daa2897f",
   "metadata": {
    "execution": {
     "iopub.execute_input": "2024-06-18T23:24:59.219568Z",
     "iopub.status.busy": "2024-06-18T23:24:59.218679Z",
     "iopub.status.idle": "2024-06-18T23:24:59.243899Z",
     "shell.execute_reply": "2024-06-18T23:24:59.242852Z",
     "shell.execute_reply.started": "2024-06-18T23:24:59.219524Z"
    },
    "tags": []
   },
   "outputs": [],
   "source": [
    "class RGflows(nn.Module):\n",
    "    \n",
    "    def __init__(self,latent: Distribution ,nflist, masks, n_flows_dict,num_hidden_dict,hidden_dim_dict):\n",
    "        super().__init__()\n",
    "        self.latent = latent\n",
    "        self.nflist = nflist\n",
    "        self.masks = masks\n",
    "        self.n_flows_dict = n_flows_dict\n",
    "        self.num_hidden_dict = num_hidden_dict\n",
    "        self.hidden_dim_dict = hidden_dim_dict\n",
    "        \n",
    "    def configure_RG_flows(masks,n_flows_dict,num_hidden_dict,hidden_dim_dict,p_drop=0):  \n",
    "        nflist=[]\n",
    "        dim = len(masks[0])\n",
    "        param_dim = 0\n",
    "        for k in range(len(masks)):\n",
    "            flows =  NormalizingFlow.configure_flows(n_flows = n_flows_dict[dim] , num_hidden = num_hidden_dict[dim] , hidden_dim = hidden_dim_dict[dim], dim = dim , param_dim = param_dim, p_drop = p_drop)\n",
    "            nflist.append(NormalizingFlow(latent=normal_dist,flows=flows,ort=False))\n",
    "            param_dim += dim \n",
    "            if k!=0: dim *= 2 \n",
    "        nflist = nn.ModuleList(nflist)        \n",
    "        return nflist    \n",
    "        \n",
    "    def configure_RG_model(latent,masks,n_flows_dict, num_hidden_dict,hidden_dim_dict,p_drop=0):\n",
    "        flows=RGflows.configure_RG_flows(\n",
    "            masks,\n",
    "            n_flows_dict,\n",
    "            num_hidden_dict,\n",
    "            hidden_dim_dict,\n",
    "            p_drop=p_drop)\n",
    "        return RGflows(latent,flows,RGmasks,n_flows_dict,num_hidden_dict,hidden_dim_dict)\n",
    "    \n",
    "    def save(self,filename):\n",
    "        state_dict = self.state_dict()\n",
    "        model_dict={\"state_dict\":state_dict,\n",
    "                    \"n_flows_dict\":self.n_flows_dict,\n",
    "                    \"num_hidden_dict\":self.num_hidden_dict,\n",
    "                    \"hidden_dim_dict\":self.hidden_dim_dict,\n",
    "                    \"masks\":self.masks}\n",
    "        torch.save(model_dict,filename)\n",
    "    \n",
    "    def load_model(filename):   \n",
    "        model_dict = torch.load(filename,map_location = device)\n",
    "        model=RGflows.configure_RG_model(normal_dist,\n",
    "                                  model_dict[\"masks\"],\n",
    "                                  model_dict[\"n_flows_dict\"], \n",
    "                                  model_dict[\"num_hidden_dict\"],\n",
    "                                  model_dict[\"hidden_dim_dict\"],\n",
    "                                  p_drop=0)\n",
    "        model.load_state_dict(model_dict[\"state_dict\"])\n",
    "        return model\n",
    "        \n",
    "\n",
    "    def latent_sample(self, num_samples: int = 1) -> torch.Tensor:\n",
    "        z=self.latent.sample((num_samples,))\n",
    "        return z        \n",
    "\n",
    "    def sample(self, num_samples: int = 1) -> torch.Tensor:\n",
    "        \"\"\"Sample a new observation x by sampling z from\n",
    "        the latent distribution and pass through g.\"\"\"\n",
    "        z=(self.latent_sample(num_samples))\n",
    "        with torch.no_grad():\n",
    "            x, _ = self.g(z)\n",
    "        return x \n",
    "    \n",
    "\n",
    "    def g(self, z: torch.Tensor,params=torch.tensor([])) -> torch.Tensor:\n",
    "        \n",
    "        sum_log_abs_det = torch.zeros(z.size(0)).to(z.device)\n",
    "        params=torch.tensor([]).to(z.device)\n",
    "        for i in range(len(self.nflist)):\n",
    "            x=z[:,self.masks[i]]\n",
    "            x, log_abs_det = ((self.nflist)[i]).g(x,params)\n",
    "            sum_log_abs_det += log_abs_det\n",
    "            params=torch.cat((params,x.detach()),dim=-1)\n",
    "            z[:,self.masks[i]]=x\n",
    "        z = torch.matmul(z,Ot.to(z.device))    \n",
    "        return z, sum_log_abs_det\n",
    "    \n",
    "        \n",
    "    def __len__(self) -> int:\n",
    "        return len(self.flows)\n",
    "    \n",
    "    def forward(self,z):\n",
    "        with torch.no_grad():\n",
    "            t=(z.clone()).to(z.device)\n",
    "            x, log_abs_det=self.g(t)\n",
    "            log_abs_det=log_abs_det.detach().to(z.device)\n",
    "        return x, log_abs_det\n",
    "    \n",
    " \n",
    "\n",
    "    "
   ]
  },
  {
   "cell_type": "code",
   "execution_count": 35,
   "id": "ecfb49bb-c237-4ff3-bc12-1d433d22e849",
   "metadata": {
    "execution": {
     "iopub.execute_input": "2024-06-18T23:24:59.268248Z",
     "iopub.status.busy": "2024-06-18T23:24:59.267049Z",
     "iopub.status.idle": "2024-06-18T23:24:59.284951Z",
     "shell.execute_reply": "2024-06-18T23:24:59.284002Z",
     "shell.execute_reply.started": "2024-06-18T23:24:59.268204Z"
    },
    "tags": []
   },
   "outputs": [],
   "source": [
    "def get_points(start,stop,step):\n",
    "    if step == 0:\n",
    "        print(\"step = 0 error\")\n",
    "        return 1\n",
    "    x=start\n",
    "    Y=[]\n",
    "    while x < stop:\n",
    "        Y.append(x)\n",
    "        Y.append(x+1)\n",
    "        x += step\n",
    "    return Y\n",
    "\n",
    "\n",
    "def config_RG_masks(m,n_nod):\n",
    "    masks = []\n",
    "    start = 0\n",
    "    step = n_nod // (2 ** (m-1))\n",
    "    tmp = get_points(start,n_nod,step)\n",
    "    masks.append(tmp)\n",
    "    if n_nod == 2 ** m:\n",
    "        return masks\n",
    "    start = step//2\n",
    "    masks.append(get_points(start,n_nod,step))\n",
    "    while step > 4:\n",
    "        step //= 2\n",
    "        start = step//2\n",
    "        masks.append(get_points(start,n_nod,step))\n",
    "    return masks\n",
    "    "
   ]
  },
  {
   "cell_type": "code",
   "execution_count": 36,
   "id": "dfda85d4-e4b8-4687-94fc-cfeb66265c79",
   "metadata": {
    "execution": {
     "iopub.execute_input": "2024-06-18T23:24:59.711568Z",
     "iopub.status.busy": "2024-06-18T23:24:59.710337Z",
     "iopub.status.idle": "2024-06-18T23:24:59.725898Z",
     "shell.execute_reply": "2024-06-18T23:24:59.725088Z",
     "shell.execute_reply.started": "2024-06-18T23:24:59.711521Z"
    },
    "tags": []
   },
   "outputs": [],
   "source": [
    "RGmasks = config_RG_masks(3,N_nod)"
   ]
  },
  {
   "cell_type": "code",
   "execution_count": 37,
   "id": "e8056833-22ec-4f32-bd8e-09c30cdb01af",
   "metadata": {
    "execution": {
     "iopub.execute_input": "2024-06-18T23:25:00.231508Z",
     "iopub.status.busy": "2024-06-18T23:25:00.230359Z",
     "iopub.status.idle": "2024-06-18T23:25:00.332622Z",
     "shell.execute_reply": "2024-06-18T23:25:00.331682Z",
     "shell.execute_reply.started": "2024-06-18T23:25:00.231461Z"
    },
    "tags": []
   },
   "outputs": [
    {
     "name": "stdout",
     "output_type": "stream",
     "text": [
      "[[0, 1, 64, 65, 128, 129, 192, 193], [32, 33, 96, 97, 160, 161, 224, 225], [16, 17, 48, 49, 80, 81, 112, 113, 144, 145, 176, 177, 208, 209, 240, 241], [8, 9, 24, 25, 40, 41, 56, 57, 72, 73, 88, 89, 104, 105, 120, 121, 136, 137, 152, 153, 168, 169, 184, 185, 200, 201, 216, 217, 232, 233, 248, 249], [4, 5, 12, 13, 20, 21, 28, 29, 36, 37, 44, 45, 52, 53, 60, 61, 68, 69, 76, 77, 84, 85, 92, 93, 100, 101, 108, 109, 116, 117, 124, 125, 132, 133, 140, 141, 148, 149, 156, 157, 164, 165, 172, 173, 180, 181, 188, 189, 196, 197, 204, 205, 212, 213, 220, 221, 228, 229, 236, 237, 244, 245, 252, 253], [2, 3, 6, 7, 10, 11, 14, 15, 18, 19, 22, 23, 26, 27, 30, 31, 34, 35, 38, 39, 42, 43, 46, 47, 50, 51, 54, 55, 58, 59, 62, 63, 66, 67, 70, 71, 74, 75, 78, 79, 82, 83, 86, 87, 90, 91, 94, 95, 98, 99, 102, 103, 106, 107, 110, 111, 114, 115, 118, 119, 122, 123, 126, 127, 130, 131, 134, 135, 138, 139, 142, 143, 146, 147, 150, 151, 154, 155, 158, 159, 162, 163, 166, 167, 170, 171, 174, 175, 178, 179, 182, 183, 186, 187, 190, 191, 194, 195, 198, 199, 202, 203, 206, 207, 210, 211, 214, 215, 218, 219, 222, 223, 226, 227, 230, 231, 234, 235, 238, 239, 242, 243, 246, 247, 250, 251, 254, 255]]\n"
     ]
    }
   ],
   "source": [
    "print(RGmasks)"
   ]
  },
  {
   "cell_type": "code",
   "execution_count": 38,
   "id": "5401fb59",
   "metadata": {
    "execution": {
     "iopub.execute_input": "2024-06-18T23:25:00.398146Z",
     "iopub.status.busy": "2024-06-18T23:25:00.395958Z",
     "iopub.status.idle": "2024-06-18T23:25:00.439650Z",
     "shell.execute_reply": "2024-06-18T23:25:00.438788Z",
     "shell.execute_reply.started": "2024-06-18T23:25:00.398086Z"
    },
    "tags": []
   },
   "outputs": [],
   "source": [
    "class Pipeline(pl.LightningModule):\n",
    "    def __init__(\n",
    "        self,\n",
    "        model,\n",
    "        criterion,\n",
    "        optimizer_class=torch.optim.Adam,\n",
    "        optimizer_kwargs={\"lr\": 0.001,\"weight_decay\": 0}\n",
    "    ) -> None:\n",
    "        super().__init__()\n",
    "        self.model = model\n",
    "        self.loss = criterion\n",
    "        self.optimizer_class = optimizer_class\n",
    "        self.optimizer_kwargs = optimizer_kwargs\n",
    "\n",
    "    \"\"\"\n",
    "    def configure_optimizers(self):\n",
    "        optimizer = self.optimizer_class(\n",
    "            self.model.parameters(), **self.optimizer_kwargs\n",
    "        )\n",
    "        return optimizer\n",
    "    \"\"\"\n",
    "    \n",
    "    def configure_optimizers(self):\n",
    "        optimizer = self.optimizer_class(\n",
    "            self.model.parameters(), **self.optimizer_kwargs\n",
    "        )\n",
    "        \n",
    "        \n",
    "        scheduler = torch.optim.lr_scheduler.ReduceLROnPlateau(\n",
    "            optimizer=optimizer,\n",
    "            min_lr=1e-9,\n",
    "            factor=0.5,\n",
    "            mode=\"min\",\n",
    "            threshold=0.1,\n",
    "            patience = 1,\n",
    "            verbose=True,\n",
    "        )\n",
    "\n",
    "        lr_scheduler = {\n",
    "            \"scheduler\": scheduler,\n",
    "            \"interval\": \"epoch\",\n",
    "            \"monitor\": \"train_loss\",\n",
    "        }\n",
    "        return [optimizer], [lr_scheduler]\n",
    "\n",
    "    def training_step(self, batch, batch_idx):\n",
    "        z = batch\n",
    "        x, log_abs_det = self.model.g(z)\n",
    "        loss = self.loss(x,log_abs_det)\n",
    "        self.log('train_loss', loss, prog_bar=True)\n",
    "        return loss\n",
    "\n",
    "\n",
    "    def on_train_epoch_end(self):\n",
    "        #print(\"---------------------------end epoch---------------------------------\")\n",
    "        pass\n",
    "    \n",
    "    def on_validation_end(self) -> None:\n",
    "        if not self.automatic_optimization:\n",
    "            # Save a checkpoint of the model\n",
    "            ckpt_path = os.path.join(self.trainer.log_dir, 'checkpoints', 'ckpt.pt')\n",
    "            self.trainer.save_checkpoint(ckpt_path, weights_only=True)\n",
    "        return super().on_validation_end()\n",
    "    \n",
    "    "
   ]
  },
  {
   "cell_type": "code",
   "execution_count": 17,
   "id": "aaea78eb",
   "metadata": {},
   "outputs": [],
   "source": [
    "import time\n",
    "class MCMC:\n",
    "    def __init__(self,system,model=\"none\",d=(a/N_nod)**0.5,N_sweep=100,log_per=1000):\n",
    "        \n",
    "        self.system = system\n",
    "        self.S = 0\n",
    "        self.model = model\n",
    "        self.d = d\n",
    "        self.N_sweep = N_sweep\n",
    "        self.log_per = log_per\n",
    "        self.ar = 0\n",
    "        self.shift_dist = torch.distributions.Uniform(torch.zeros(N_nod), torch.ones(N_nod))\n",
    "        self.un = torch.distributions.Uniform(0, 1)\n",
    "        self.res=[]\n",
    "        self.times=[]\n",
    "        \n",
    "    def sweep(self,z):\n",
    "        shift = self.shift_dist.sample((N_samp,)).to(z.device)\n",
    "        y = z+self.d*(2*shift-1)\n",
    "    \n",
    "        S_new=self.calc_S(y)\n",
    "    \n",
    "        dS=S_new-self.S\n",
    "        prob = torch.exp(-dS)\n",
    "        #prob=torch.zeros((N_samp))\n",
    "        ind = self.un.sample((N_samp,)).to(z.device)<prob\n",
    "    \n",
    "        mask=ind.nonzero()\n",
    "        if len(mask)>1:\n",
    "            mask=mask.squeeze()\n",
    "    \n",
    "        if  len(mask)>0:\n",
    "            self.S[mask]=S_new[mask]\n",
    "            z[mask,:]=y[mask,:]  \n",
    "        self.ar = torch.mean(ind.type('torch.FloatTensor'))           \n",
    "    \n",
    "    \n",
    "    def log(self,z):\n",
    "        if self.model==\"none\":\n",
    "            x1=z\n",
    "        else:    \n",
    "            x1,_=self.model(z)\n",
    "        print(torch.mean(x1**2),self.ar)\n",
    "        self.res.append(torch.mean(x1**2).cpu())\n",
    "        self.Times.append(time.time()-self.start)\n",
    "    \n",
    "    def calc_S(self,z):\n",
    "        if self.model==\"none\":\n",
    "            S=self.system.Full_S(z).to(z.device)\n",
    "        else:\n",
    "            x , lad = self.model(z)\n",
    "            S=self.system.Full_S(x).to(z.device)-lad   \n",
    "        return S\n",
    "    \n",
    "    def init_state(self,z):\n",
    "        self.start=time.time()\n",
    "        self.S=self.calc_S(z)\n",
    "        self.res=[]\n",
    "        self.Times=[]\n",
    "        \n",
    "    \n",
    "    def run(self,z):\n",
    "        \n",
    "        self.init_state(z)\n",
    "    \n",
    "        for i in range(self.N_sweep):\n",
    "            if i%self.log_per==0:\n",
    "                self.log(z)\n",
    "            self.sweep(z)\n",
    "        \n",
    "        return z    \n",
    "    \n",
    "    "
   ]
  },
  {
   "cell_type": "code",
   "execution_count": 18,
   "id": "43dbda96",
   "metadata": {},
   "outputs": [],
   "source": [
    "import time\n",
    "class HMC:\n",
    "    def __init__(self,system,eps=0.001,n_steps=10,sigma=1,N_sweep=100,log_per=1000):\n",
    "        self.system = system\n",
    "        self.S = 0\n",
    "        #self.model = model\n",
    "        self.eps = eps\n",
    "        self.n_steps = n_steps\n",
    "        self.N_sweep = N_sweep\n",
    "        self.log_per = log_per\n",
    "        self.ar = 0\n",
    "        self.shift_dist = torch.distributions.Normal(torch.zeros(N_nod), sigma * torch.ones(N_nod))\n",
    "        self.un = torch.distributions.Uniform(0, 1)\n",
    "        self.res=[]\n",
    "        self.times=[]\n",
    "    \n",
    "    def leapfrog_step(F,p,x,eps):\n",
    "        p_half = p + 0.5 * eps * F(x)  # F=-dV/dx\n",
    "        y = x + eps * p_half\n",
    "        q = p_half + eps * F(x)\n",
    "        return q, y\n",
    "\n",
    "    def hmc_new(self,p,x):\n",
    "        \n",
    "        for i in range(self.n_steps):\n",
    "            p , x = HMC.leapfrog_step(self.system.F,p,x,self.eps)\n",
    "        return p,x       \n",
    "\n",
    "\n",
    "    def hmc_sweep(self,x):\n",
    "        p = self.shift_dist.sample((N_samp,)).to(x.device)\n",
    "        q , y = self.hmc_new(p,x)\n",
    "        S_new = self.calc_S(y)\n",
    "        dS = S_new-self.S + torch.mean(q**2/2-p**2/2,axis=1)\n",
    "        prob = torch.exp(-dS)\n",
    "        ind = self.un.sample((N_samp,)).to(x.device)<prob\n",
    "        mask = ind.nonzero()\n",
    "        if len(mask)>1:\n",
    "            mask = mask.squeeze()\n",
    "        if  len(mask)>0:\n",
    "            self.S[mask] = S_new[mask]\n",
    "            x[mask,:] = y[mask,:]\n",
    "        self.ar = torch.mean(ind.type('torch.FloatTensor'))    \n",
    "    \n",
    "    \n",
    "    def log(self,z):\n",
    "        x1=z\n",
    "        print(torch.mean(x1**2),self.ar)\n",
    "        self.res.append(torch.mean(x1**2).cpu())\n",
    "        self.Times.append(time.time()-self.start)\n",
    "    \n",
    "    def calc_S(self,z):\n",
    "        S=self.system.Full_S(z).to(z.device)   \n",
    "        return S\n",
    "    \n",
    "    def init_state(self,z):\n",
    "        self.start=time.time()\n",
    "        self.S=self.calc_S(z)\n",
    "        self.res=[]\n",
    "        self.Times=[]\n",
    "\n",
    "    def run(self,x):\n",
    "        self.init_state(x)\n",
    "        for i in range(self.N_sweep):\n",
    "            if i%self.log_per==0:\n",
    "                self.log(x)\n",
    "            self.hmc_sweep(x)\n",
    "        return x  "
   ]
  },
  {
   "cell_type": "code",
   "execution_count": 19,
   "id": "3857c540-6428-46f4-ac0a-31aa76f83ad2",
   "metadata": {
    "execution": {
     "iopub.execute_input": "2024-06-18T23:25:01.146741Z",
     "iopub.status.busy": "2024-06-18T23:25:01.145654Z",
     "iopub.status.idle": "2024-06-18T23:25:01.214839Z",
     "shell.execute_reply": "2024-06-18T23:25:01.213966Z",
     "shell.execute_reply.started": "2024-06-18T23:25:01.146701Z"
    },
    "tags": []
   },
   "outputs": [],
   "source": [
    "#import your system here"
   ]
  },
  {
   "cell_type": "code",
   "execution_count": 20,
   "id": "eae42727-7687-48fe-841a-c2e24320095f",
   "metadata": {
    "execution": {
     "iopub.execute_input": "2024-06-18T23:25:03.391599Z",
     "iopub.status.busy": "2024-06-18T23:25:03.390231Z",
     "iopub.status.idle": "2024-06-18T23:25:03.402772Z",
     "shell.execute_reply": "2024-06-18T23:25:03.402015Z",
     "shell.execute_reply.started": "2024-06-18T23:25:03.391554Z"
    },
    "tags": []
   },
   "outputs": [],
   "source": [
    "hidden_dim_dict1={8:8,16:16,32:32,64:64,128:128,256:256}\n",
    "n_flows_dict1={8:8,16:12,32:12,64:16,128:16,256:32}\n",
    "num_hidden_dict1={8:6,16:6,32:12,64:12,128:16,256:32}"
   ]
  },
  {
   "cell_type": "code",
   "execution_count": 24,
   "id": "558e4bef",
   "metadata": {
    "execution": {
     "iopub.execute_input": "2024-06-18T23:12:15.010968Z",
     "iopub.status.busy": "2024-06-18T23:12:15.009951Z",
     "iopub.status.idle": "2024-06-18T23:13:39.148332Z",
     "shell.execute_reply": "2024-06-18T23:13:39.147205Z",
     "shell.execute_reply.started": "2024-06-18T23:12:15.010920Z"
    },
    "tags": []
   },
   "outputs": [
    {
     "name": "stderr",
     "output_type": "stream",
     "text": [
      "GPU available: False, used: False\n",
      "TPU available: False, using: 0 TPU cores\n",
      "IPU available: False, using: 0 IPUs\n",
      "HPU available: False, using: 0 HPUs\n"
     ]
    },
    {
     "ename": "KeyboardInterrupt",
     "evalue": "",
     "output_type": "error",
     "traceback": [
      "\u001b[1;31m---------------------------------------------------------------------------\u001b[0m",
      "\u001b[1;31mKeyboardInterrupt\u001b[0m                         Traceback (most recent call last)",
      "Cell \u001b[1;32mIn[24], line 18\u001b[0m\n\u001b[0;32m      5\u001b[0m pipeline\u001b[38;5;241m=\u001b[39mPipeline(model\u001b[38;5;241m=\u001b[39mrg, criterion\u001b[38;5;241m=\u001b[39mKL_rel1, optimizer_class\u001b[38;5;241m=\u001b[39mtorch\u001b[38;5;241m.\u001b[39moptim\u001b[38;5;241m.\u001b[39mAdam, optimizer_kwargs\u001b[38;5;241m=\u001b[39m{\u001b[38;5;124m\"\u001b[39m\u001b[38;5;124mlr\u001b[39m\u001b[38;5;124m\"\u001b[39m: \u001b[38;5;241m0.001\u001b[39m,\u001b[38;5;124m\"\u001b[39m\u001b[38;5;124mweight_decay\u001b[39m\u001b[38;5;124m\"\u001b[39m:\u001b[38;5;241m0\u001b[39m})\n\u001b[0;32m      9\u001b[0m trainer \u001b[38;5;241m=\u001b[39m pl\u001b[38;5;241m.\u001b[39mTrainer(\n\u001b[0;32m     10\u001b[0m     max_epochs\u001b[38;5;241m=\u001b[39m\u001b[38;5;241m1000\u001b[39m,\n\u001b[0;32m     11\u001b[0m     logger\u001b[38;5;241m=\u001b[39mTensorBoardLogger(save_dir\u001b[38;5;241m=\u001b[39m\u001b[38;5;124mf\u001b[39m\u001b[38;5;124m\"\u001b[39m\u001b[38;5;124mlogs/nf\u001b[39m\u001b[38;5;124m\"\u001b[39m),\n\u001b[1;32m   (...)\u001b[0m\n\u001b[0;32m     15\u001b[0m     accumulate_grad_batches\u001b[38;5;241m=\u001b[39m\u001b[38;5;241m1\u001b[39m\n\u001b[0;32m     16\u001b[0m )\n\u001b[1;32m---> 18\u001b[0m trainer\u001b[38;5;241m.\u001b[39mfit(model\u001b[38;5;241m=\u001b[39mpipeline, train_dataloaders\u001b[38;5;241m=\u001b[39mtrain_loader)\n\u001b[0;32m     19\u001b[0m rg\u001b[38;5;241m.\u001b[39msave(\u001b[38;5;124m\"\u001b[39m\u001b[38;5;124mmodel_weights1.pth\u001b[39m\u001b[38;5;124m\"\u001b[39m)\n",
      "File \u001b[1;32mC:\\ProgramData\\anaconda3\\Lib\\site-packages\\pytorch_lightning\\trainer\\trainer.py:538\u001b[0m, in \u001b[0;36mTrainer.fit\u001b[1;34m(self, model, train_dataloaders, val_dataloaders, datamodule, ckpt_path)\u001b[0m\n\u001b[0;32m    504\u001b[0m \u001b[38;5;28;01mdef\u001b[39;00m \u001b[38;5;21mfit\u001b[39m(\n\u001b[0;32m    505\u001b[0m     \u001b[38;5;28mself\u001b[39m,\n\u001b[0;32m    506\u001b[0m     model: \u001b[38;5;124m\"\u001b[39m\u001b[38;5;124mpl.LightningModule\u001b[39m\u001b[38;5;124m\"\u001b[39m,\n\u001b[1;32m   (...)\u001b[0m\n\u001b[0;32m    510\u001b[0m     ckpt_path: Optional[\u001b[38;5;28mstr\u001b[39m] \u001b[38;5;241m=\u001b[39m \u001b[38;5;28;01mNone\u001b[39;00m,\n\u001b[0;32m    511\u001b[0m ) \u001b[38;5;241m-\u001b[39m\u001b[38;5;241m>\u001b[39m \u001b[38;5;28;01mNone\u001b[39;00m:\n\u001b[0;32m    512\u001b[0m \u001b[38;5;250m    \u001b[39m\u001b[38;5;124mr\u001b[39m\u001b[38;5;124;03m\"\"\"Runs the full optimization routine.\u001b[39;00m\n\u001b[0;32m    513\u001b[0m \n\u001b[0;32m    514\u001b[0m \u001b[38;5;124;03m    Args:\u001b[39;00m\n\u001b[1;32m   (...)\u001b[0m\n\u001b[0;32m    536\u001b[0m \n\u001b[0;32m    537\u001b[0m \u001b[38;5;124;03m    \"\"\"\u001b[39;00m\n\u001b[1;32m--> 538\u001b[0m     model \u001b[38;5;241m=\u001b[39m _maybe_unwrap_optimized(model)\n\u001b[0;32m    539\u001b[0m     \u001b[38;5;28mself\u001b[39m\u001b[38;5;241m.\u001b[39mstrategy\u001b[38;5;241m.\u001b[39m_lightning_module \u001b[38;5;241m=\u001b[39m model\n\u001b[0;32m    540\u001b[0m     _verify_strategy_supports_compile(model, \u001b[38;5;28mself\u001b[39m\u001b[38;5;241m.\u001b[39mstrategy)\n",
      "File \u001b[1;32mC:\\ProgramData\\anaconda3\\Lib\\site-packages\\pytorch_lightning\\utilities\\compile.py:125\u001b[0m, in \u001b[0;36m_maybe_unwrap_optimized\u001b[1;34m(model)\u001b[0m\n\u001b[0;32m    123\u001b[0m         \u001b[38;5;28;01mraise\u001b[39;00m \u001b[38;5;167;01mTypeError\u001b[39;00m(\u001b[38;5;124mf\u001b[39m\u001b[38;5;124m\"\u001b[39m\u001b[38;5;124m`model` must be a `LightningModule`, got `\u001b[39m\u001b[38;5;132;01m{\u001b[39;00m\u001b[38;5;28mtype\u001b[39m(model)\u001b[38;5;241m.\u001b[39m\u001b[38;5;18m__qualname__\u001b[39m\u001b[38;5;132;01m}\u001b[39;00m\u001b[38;5;124m`\u001b[39m\u001b[38;5;124m\"\u001b[39m)\n\u001b[0;32m    124\u001b[0m     \u001b[38;5;28;01mreturn\u001b[39;00m model\n\u001b[1;32m--> 125\u001b[0m \u001b[38;5;28;01mfrom\u001b[39;00m \u001b[38;5;21;01mtorch\u001b[39;00m\u001b[38;5;21;01m.\u001b[39;00m\u001b[38;5;21;01m_dynamo\u001b[39;00m \u001b[38;5;28;01mimport\u001b[39;00m OptimizedModule\n\u001b[0;32m    127\u001b[0m \u001b[38;5;28;01mif\u001b[39;00m \u001b[38;5;28misinstance\u001b[39m(model, OptimizedModule):\n\u001b[0;32m    128\u001b[0m     \u001b[38;5;28;01mreturn\u001b[39;00m from_compiled(model)\n",
      "File \u001b[1;32mC:\\ProgramData\\anaconda3\\Lib\\site-packages\\torch\\_dynamo\\__init__.py:2\u001b[0m\n\u001b[0;32m      1\u001b[0m \u001b[38;5;28;01mimport\u001b[39;00m \u001b[38;5;21;01mtorch\u001b[39;00m\n\u001b[1;32m----> 2\u001b[0m \u001b[38;5;28;01mfrom\u001b[39;00m \u001b[38;5;21;01m.\u001b[39;00m \u001b[38;5;28;01mimport\u001b[39;00m allowed_functions, convert_frame, eval_frame, resume_execution\n\u001b[0;32m      3\u001b[0m \u001b[38;5;28;01mfrom\u001b[39;00m \u001b[38;5;21;01m.\u001b[39;00m\u001b[38;5;21;01mbackends\u001b[39;00m\u001b[38;5;21;01m.\u001b[39;00m\u001b[38;5;21;01mregistry\u001b[39;00m \u001b[38;5;28;01mimport\u001b[39;00m list_backends, lookup_backend, register_backend\n\u001b[0;32m      4\u001b[0m \u001b[38;5;28;01mfrom\u001b[39;00m \u001b[38;5;21;01m.\u001b[39;00m\u001b[38;5;21;01mcode_context\u001b[39;00m \u001b[38;5;28;01mimport\u001b[39;00m code_context\n",
      "File \u001b[1;32mC:\\ProgramData\\anaconda3\\Lib\\site-packages\\torch\\_dynamo\\convert_frame.py:62\u001b[0m\n\u001b[0;32m     56\u001b[0m \u001b[38;5;28;01mfrom\u001b[39;00m \u001b[38;5;21;01m.\u001b[39;00m\u001b[38;5;21;01mguards\u001b[39;00m \u001b[38;5;28;01mimport\u001b[39;00m (\n\u001b[0;32m     57\u001b[0m     CheckFunctionManager,\n\u001b[0;32m     58\u001b[0m     get_and_maybe_log_recompilation_reason,\n\u001b[0;32m     59\u001b[0m     GuardedCode,\n\u001b[0;32m     60\u001b[0m )\n\u001b[0;32m     61\u001b[0m \u001b[38;5;28;01mfrom\u001b[39;00m \u001b[38;5;21;01m.\u001b[39;00m\u001b[38;5;21;01mhooks\u001b[39;00m \u001b[38;5;28;01mimport\u001b[39;00m Hooks\n\u001b[1;32m---> 62\u001b[0m \u001b[38;5;28;01mfrom\u001b[39;00m \u001b[38;5;21;01m.\u001b[39;00m\u001b[38;5;21;01moutput_graph\u001b[39;00m \u001b[38;5;28;01mimport\u001b[39;00m OutputGraph\n\u001b[0;32m     63\u001b[0m \u001b[38;5;28;01mfrom\u001b[39;00m \u001b[38;5;21;01m.\u001b[39;00m\u001b[38;5;21;01mreplay_record\u001b[39;00m \u001b[38;5;28;01mimport\u001b[39;00m ExecutionRecord\n\u001b[0;32m     64\u001b[0m \u001b[38;5;28;01mfrom\u001b[39;00m \u001b[38;5;21;01m.\u001b[39;00m\u001b[38;5;21;01msymbolic_convert\u001b[39;00m \u001b[38;5;28;01mimport\u001b[39;00m InstructionTranslator, SpeculationLog\n",
      "File \u001b[1;32mC:\\ProgramData\\anaconda3\\Lib\\site-packages\\torch\\_dynamo\\output_graph.py:89\u001b[0m\n\u001b[0;32m     72\u001b[0m \u001b[38;5;28;01mfrom\u001b[39;00m \u001b[38;5;21;01m.\u001b[39;00m\u001b[38;5;21;01mutils\u001b[39;00m \u001b[38;5;28;01mimport\u001b[39;00m (\n\u001b[0;32m     73\u001b[0m     checkpoint_params,\n\u001b[0;32m     74\u001b[0m     CleanupHook,\n\u001b[1;32m   (...)\u001b[0m\n\u001b[0;32m     86\u001b[0m     same,\n\u001b[0;32m     87\u001b[0m )\n\u001b[0;32m     88\u001b[0m \u001b[38;5;28;01mfrom\u001b[39;00m \u001b[38;5;21;01m.\u001b[39;00m\u001b[38;5;21;01mvariables\u001b[39;00m\u001b[38;5;21;01m.\u001b[39;00m\u001b[38;5;21;01mbase\u001b[39;00m \u001b[38;5;28;01mimport\u001b[39;00m VariableTracker\n\u001b[1;32m---> 89\u001b[0m \u001b[38;5;28;01mfrom\u001b[39;00m \u001b[38;5;21;01m.\u001b[39;00m\u001b[38;5;21;01mvariables\u001b[39;00m\u001b[38;5;21;01m.\u001b[39;00m\u001b[38;5;21;01mbuilder\u001b[39;00m \u001b[38;5;28;01mimport\u001b[39;00m GraphArg, TrackedFake, VariableBuilder, wrap_fx_proxy\n\u001b[0;32m     90\u001b[0m \u001b[38;5;28;01mfrom\u001b[39;00m \u001b[38;5;21;01m.\u001b[39;00m\u001b[38;5;21;01mvariables\u001b[39;00m\u001b[38;5;21;01m.\u001b[39;00m\u001b[38;5;21;01mnn_module\u001b[39;00m \u001b[38;5;28;01mimport\u001b[39;00m NNModuleVariable\n\u001b[0;32m     91\u001b[0m \u001b[38;5;28;01mfrom\u001b[39;00m \u001b[38;5;21;01m.\u001b[39;00m\u001b[38;5;21;01mvariables\u001b[39;00m\u001b[38;5;21;01m.\u001b[39;00m\u001b[38;5;21;01mtensor\u001b[39;00m \u001b[38;5;28;01mimport\u001b[39;00m (\n\u001b[0;32m     92\u001b[0m     NumpyNdarrayVariable,\n\u001b[0;32m     93\u001b[0m     SymNodeVariable,\n\u001b[0;32m     94\u001b[0m     TensorVariable,\n\u001b[0;32m     95\u001b[0m     UnspecializedPythonVariable,\n\u001b[0;32m     96\u001b[0m )\n",
      "File \u001b[1;32mC:\\ProgramData\\anaconda3\\Lib\\site-packages\\torch\\_dynamo\\variables\\builder.py:143\u001b[0m\n\u001b[0;32m    126\u001b[0m \u001b[38;5;28;01mfrom\u001b[39;00m \u001b[38;5;21;01m.\u001b[39;00m\u001b[38;5;21;01mmisc\u001b[39;00m \u001b[38;5;28;01mimport\u001b[39;00m (\n\u001b[0;32m    127\u001b[0m     AutogradFunctionContextVariable,\n\u001b[0;32m    128\u001b[0m     AutogradFunctionVariable,\n\u001b[1;32m   (...)\u001b[0m\n\u001b[0;32m    139\u001b[0m     TypingVariable,\n\u001b[0;32m    140\u001b[0m )\n\u001b[0;32m    142\u001b[0m \u001b[38;5;28;01mfrom\u001b[39;00m \u001b[38;5;21;01m.\u001b[39;00m\u001b[38;5;21;01mnn_module\u001b[39;00m \u001b[38;5;28;01mimport\u001b[39;00m FSDPManagedNNModuleVariable, UnspecializedNNModuleVariable\n\u001b[1;32m--> 143\u001b[0m \u001b[38;5;28;01mfrom\u001b[39;00m \u001b[38;5;21;01m.\u001b[39;00m\u001b[38;5;21;01moptimizer\u001b[39;00m \u001b[38;5;28;01mimport\u001b[39;00m OptimizerVariable\n\u001b[0;32m    144\u001b[0m \u001b[38;5;28;01mfrom\u001b[39;00m \u001b[38;5;21;01m.\u001b[39;00m\u001b[38;5;21;01mtensor\u001b[39;00m \u001b[38;5;28;01mimport\u001b[39;00m (\n\u001b[0;32m    145\u001b[0m     NumpyNdarrayVariable,\n\u001b[0;32m    146\u001b[0m     SymNodeVariable,\n\u001b[1;32m   (...)\u001b[0m\n\u001b[0;32m    149\u001b[0m     UnspecializedPythonVariable,\n\u001b[0;32m    150\u001b[0m )\n\u001b[0;32m    151\u001b[0m \u001b[38;5;28;01mfrom\u001b[39;00m \u001b[38;5;21;01m.\u001b[39;00m\u001b[38;5;21;01mtorch\u001b[39;00m \u001b[38;5;28;01mimport\u001b[39;00m torch_special_class_types, TorchVariable\n",
      "File \u001b[1;32mC:\\ProgramData\\anaconda3\\Lib\\site-packages\\torch\\_dynamo\\variables\\optimizer.py:5\u001b[0m\n\u001b[0;32m      2\u001b[0m \u001b[38;5;28;01mfrom\u001b[39;00m \u001b[38;5;21;01mtyping\u001b[39;00m \u001b[38;5;28;01mimport\u001b[39;00m Dict, List\n\u001b[0;32m      4\u001b[0m \u001b[38;5;28;01mimport\u001b[39;00m \u001b[38;5;21;01mtorch\u001b[39;00m\n\u001b[1;32m----> 5\u001b[0m \u001b[38;5;28;01mfrom\u001b[39;00m \u001b[38;5;21;01m.\u001b[39;00m\u001b[38;5;21;01m.\u001b[39;00m\u001b[38;5;21;01mdecorators\u001b[39;00m \u001b[38;5;28;01mimport\u001b[39;00m mark_static_address\n\u001b[0;32m      7\u001b[0m \u001b[38;5;28;01mfrom\u001b[39;00m \u001b[38;5;21;01m.\u001b[39;00m\u001b[38;5;21;01m.\u001b[39;00m\u001b[38;5;21;01mguards\u001b[39;00m \u001b[38;5;28;01mimport\u001b[39;00m GuardBuilder, install_guard\n\u001b[0;32m      8\u001b[0m \u001b[38;5;28;01mfrom\u001b[39;00m \u001b[38;5;21;01m.\u001b[39;00m\u001b[38;5;21;01m.\u001b[39;00m\u001b[38;5;21;01msource\u001b[39;00m \u001b[38;5;28;01mimport\u001b[39;00m AttrSource, GetItemSource, GlobalWeakRefSource\n",
      "File \u001b[1;32mC:\\ProgramData\\anaconda3\\Lib\\site-packages\\torch\\_dynamo\\decorators.py:140\u001b[0m\n\u001b[0;32m    118\u001b[0m \u001b[38;5;250m    \u001b[39m\u001b[38;5;124;03m\"\"\"\u001b[39;00m\n\u001b[0;32m    119\u001b[0m \u001b[38;5;124;03m    Customize which functions TorchDynamo will exclude in the generated\u001b[39;00m\n\u001b[0;32m    120\u001b[0m \u001b[38;5;124;03m    graph and force a graph break on.\u001b[39;00m\n\u001b[1;32m   (...)\u001b[0m\n\u001b[0;32m    135\u001b[0m \u001b[38;5;124;03m    single `torch.add()` op.\u001b[39;00m\n\u001b[0;32m    136\u001b[0m \u001b[38;5;124;03m    \"\"\"\u001b[39;00m\n\u001b[0;32m    137\u001b[0m     \u001b[38;5;28;01mreturn\u001b[39;00m _disallow_in_graph_helper(throw_if_not_allowed\u001b[38;5;241m=\u001b[39m\u001b[38;5;28;01mTrue\u001b[39;00m)(fn)\n\u001b[1;32m--> 140\u001b[0m \u001b[38;5;129m@_disallow_in_graph_helper\u001b[39m(throw_if_not_allowed\u001b[38;5;241m=\u001b[39m\u001b[38;5;28;01mFalse\u001b[39;00m)\n\u001b[0;32m    141\u001b[0m \u001b[38;5;28;01mdef\u001b[39;00m \u001b[38;5;21mgraph_break\u001b[39m():\n\u001b[0;32m    142\u001b[0m \u001b[38;5;250m    \u001b[39m\u001b[38;5;124;03m\"\"\"Force a graph break\"\"\"\u001b[39;00m\n\u001b[0;32m    143\u001b[0m     \u001b[38;5;28;01mpass\u001b[39;00m\n",
      "File \u001b[1;32mC:\\ProgramData\\anaconda3\\Lib\\site-packages\\torch\\_dynamo\\decorators.py:109\u001b[0m, in \u001b[0;36m_disallow_in_graph_helper.<locals>.inner\u001b[1;34m(fn)\u001b[0m\n\u001b[0;32m    104\u001b[0m \u001b[38;5;28;01mif\u001b[39;00m throw_if_not_allowed \u001b[38;5;129;01mand\u001b[39;00m \u001b[38;5;129;01mnot\u001b[39;00m allowed_functions\u001b[38;5;241m.\u001b[39mis_allowed(fn):\n\u001b[0;32m    105\u001b[0m     \u001b[38;5;28;01mraise\u001b[39;00m IncorrectUsage(\n\u001b[0;32m    106\u001b[0m         \u001b[38;5;124m\"\u001b[39m\u001b[38;5;124mdisallow_in_graph is expected to be used on an already allowed callable (like torch.* ops). \u001b[39m\u001b[38;5;124m\"\u001b[39m\n\u001b[0;32m    107\u001b[0m         \u001b[38;5;124m\"\u001b[39m\u001b[38;5;124mAllowed callables means callables that TorchDynamo puts as-is in the extracted graph.\u001b[39m\u001b[38;5;124m\"\u001b[39m\n\u001b[0;32m    108\u001b[0m     )\n\u001b[1;32m--> 109\u001b[0m allowed_functions\u001b[38;5;241m.\u001b[39m_allowed_function_ids\u001b[38;5;241m.\u001b[39mremove(\u001b[38;5;28mid\u001b[39m(fn))\n\u001b[0;32m    110\u001b[0m allowed_functions\u001b[38;5;241m.\u001b[39m_disallowed_function_ids\u001b[38;5;241m.\u001b[39madd(\u001b[38;5;28mid\u001b[39m(fn))\n\u001b[0;32m    111\u001b[0m allowed_functions\u001b[38;5;241m.\u001b[39m_allowed_user_defined_function_ids\u001b[38;5;241m.\u001b[39mremove(\u001b[38;5;28mid\u001b[39m(fn))\n",
      "File \u001b[1;32mC:\\ProgramData\\anaconda3\\Lib\\site-packages\\torch\\_dynamo\\allowed_functions.py:88\u001b[0m, in \u001b[0;36mFunctionIdSet.remove\u001b[1;34m(self, idx)\u001b[0m\n\u001b[0;32m     87\u001b[0m \u001b[38;5;28;01mdef\u001b[39;00m \u001b[38;5;21mremove\u001b[39m(\u001b[38;5;28mself\u001b[39m, idx: \u001b[38;5;28mint\u001b[39m):\n\u001b[1;32m---> 88\u001b[0m     function_ids \u001b[38;5;241m=\u001b[39m \u001b[38;5;28mself\u001b[39m()\n\u001b[0;32m     89\u001b[0m     \u001b[38;5;28;01mif\u001b[39;00m idx \u001b[38;5;129;01min\u001b[39;00m function_ids:\n\u001b[0;32m     90\u001b[0m         function_ids\u001b[38;5;241m.\u001b[39mremove(idx)\n",
      "File \u001b[1;32mC:\\ProgramData\\anaconda3\\Lib\\site-packages\\torch\\_dynamo\\allowed_functions.py:69\u001b[0m, in \u001b[0;36mFunctionIdSet.__call__\u001b[1;34m(self)\u001b[0m\n\u001b[0;32m     67\u001b[0m \u001b[38;5;28;01mdef\u001b[39;00m \u001b[38;5;21m__call__\u001b[39m(\u001b[38;5;28mself\u001b[39m):\n\u001b[0;32m     68\u001b[0m     \u001b[38;5;28;01mif\u001b[39;00m \u001b[38;5;28mself\u001b[39m\u001b[38;5;241m.\u001b[39mfunction_ids \u001b[38;5;129;01mis\u001b[39;00m \u001b[38;5;28;01mNone\u001b[39;00m:\n\u001b[1;32m---> 69\u001b[0m         value \u001b[38;5;241m=\u001b[39m \u001b[38;5;28mself\u001b[39m\u001b[38;5;241m.\u001b[39mlazy_initializer()\n\u001b[0;32m     70\u001b[0m         \u001b[38;5;28;01mif\u001b[39;00m \u001b[38;5;28misinstance\u001b[39m(value, \u001b[38;5;28mdict\u001b[39m):\n\u001b[0;32m     71\u001b[0m             \u001b[38;5;28mself\u001b[39m\u001b[38;5;241m.\u001b[39mfunction_ids \u001b[38;5;241m=\u001b[39m \u001b[38;5;28mset\u001b[39m(value\u001b[38;5;241m.\u001b[39mkeys())\n",
      "File \u001b[1;32mC:\\ProgramData\\anaconda3\\Lib\\site-packages\\torch\\_dynamo\\allowed_functions.py:417\u001b[0m, in \u001b[0;36m_allowed_function_ids\u001b[1;34m()\u001b[0m\n\u001b[0;32m    415\u001b[0m \u001b[38;5;129m@FunctionIdSet\u001b[39m\n\u001b[0;32m    416\u001b[0m \u001b[38;5;28;01mdef\u001b[39;00m \u001b[38;5;21m_allowed_function_ids\u001b[39m() \u001b[38;5;241m-\u001b[39m\u001b[38;5;241m>\u001b[39m Dict[\u001b[38;5;28mint\u001b[39m, \u001b[38;5;28mstr\u001b[39m]:\n\u001b[1;32m--> 417\u001b[0m     \u001b[38;5;28;01mreturn\u001b[39;00m gen_allowed_objs_and_ids()\u001b[38;5;241m.\u001b[39mobject_ids\n",
      "File \u001b[1;32mC:\\ProgramData\\anaconda3\\Lib\\site-packages\\torch\\_dynamo\\allowed_functions.py:375\u001b[0m, in \u001b[0;36mgen_allowed_objs_and_ids\u001b[1;34m(record, c_binding_only)\u001b[0m\n\u001b[0;32m    372\u001b[0m                     heuristic_record_if_in_graph_function(obj, module, name)\n\u001b[0;32m    373\u001b[0m                 torch_object_ids[\u001b[38;5;28mid\u001b[39m(obj)] \u001b[38;5;241m=\u001b[39m \u001b[38;5;124mf\u001b[39m\u001b[38;5;124m\"\u001b[39m\u001b[38;5;132;01m{\u001b[39;00mmodule\u001b[38;5;241m.\u001b[39m\u001b[38;5;18m__name__\u001b[39m\u001b[38;5;132;01m}\u001b[39;00m\u001b[38;5;124m.\u001b[39m\u001b[38;5;132;01m{\u001b[39;00mname\u001b[38;5;132;01m}\u001b[39;00m\u001b[38;5;124m\"\u001b[39m\n\u001b[1;32m--> 375\u001b[0m _find_torch_objects(torch)\n\u001b[0;32m    376\u001b[0m _find_torch_objects(math)\n\u001b[0;32m    378\u001b[0m \u001b[38;5;28;01mif\u001b[39;00m config\u001b[38;5;241m.\u001b[39mtrace_distributed:\n",
      "File \u001b[1;32mC:\\ProgramData\\anaconda3\\Lib\\site-packages\\torch\\_dynamo\\allowed_functions.py:363\u001b[0m, in \u001b[0;36mgen_allowed_objs_and_ids.<locals>._find_torch_objects\u001b[1;34m(module)\u001b[0m\n\u001b[0;32m    359\u001b[0m     \u001b[38;5;28;01mif\u001b[39;00m obj\u001b[38;5;241m.\u001b[39m\u001b[38;5;18m__name__\u001b[39m\u001b[38;5;241m.\u001b[39mstartswith(\u001b[38;5;124m\"\u001b[39m\u001b[38;5;124mtorch.\u001b[39m\u001b[38;5;124m\"\u001b[39m) \u001b[38;5;129;01mand\u001b[39;00m _is_allowed_module_prefix(\n\u001b[0;32m    360\u001b[0m         obj\n\u001b[0;32m    361\u001b[0m     ):\n\u001b[0;32m    362\u001b[0m         torch_object_ids[\u001b[38;5;28mid\u001b[39m(obj)] \u001b[38;5;241m=\u001b[39m \u001b[38;5;124mf\u001b[39m\u001b[38;5;124m\"\u001b[39m\u001b[38;5;132;01m{\u001b[39;00mmodule\u001b[38;5;241m.\u001b[39m\u001b[38;5;18m__name__\u001b[39m\u001b[38;5;132;01m}\u001b[39;00m\u001b[38;5;124m.\u001b[39m\u001b[38;5;132;01m{\u001b[39;00mname\u001b[38;5;132;01m}\u001b[39;00m\u001b[38;5;124m\"\u001b[39m\n\u001b[1;32m--> 363\u001b[0m         _find_torch_objects(obj)\n\u001b[0;32m    364\u001b[0m \u001b[38;5;28;01melif\u001b[39;00m _is_allowed_module_prefix(obj):\n\u001b[0;32m    365\u001b[0m     \u001b[38;5;28;01mif\u001b[39;00m record:\n",
      "File \u001b[1;32mC:\\ProgramData\\anaconda3\\Lib\\site-packages\\torch\\_dynamo\\allowed_functions.py:363\u001b[0m, in \u001b[0;36mgen_allowed_objs_and_ids.<locals>._find_torch_objects\u001b[1;34m(module)\u001b[0m\n\u001b[0;32m    359\u001b[0m     \u001b[38;5;28;01mif\u001b[39;00m obj\u001b[38;5;241m.\u001b[39m\u001b[38;5;18m__name__\u001b[39m\u001b[38;5;241m.\u001b[39mstartswith(\u001b[38;5;124m\"\u001b[39m\u001b[38;5;124mtorch.\u001b[39m\u001b[38;5;124m\"\u001b[39m) \u001b[38;5;129;01mand\u001b[39;00m _is_allowed_module_prefix(\n\u001b[0;32m    360\u001b[0m         obj\n\u001b[0;32m    361\u001b[0m     ):\n\u001b[0;32m    362\u001b[0m         torch_object_ids[\u001b[38;5;28mid\u001b[39m(obj)] \u001b[38;5;241m=\u001b[39m \u001b[38;5;124mf\u001b[39m\u001b[38;5;124m\"\u001b[39m\u001b[38;5;132;01m{\u001b[39;00mmodule\u001b[38;5;241m.\u001b[39m\u001b[38;5;18m__name__\u001b[39m\u001b[38;5;132;01m}\u001b[39;00m\u001b[38;5;124m.\u001b[39m\u001b[38;5;132;01m{\u001b[39;00mname\u001b[38;5;132;01m}\u001b[39;00m\u001b[38;5;124m\"\u001b[39m\n\u001b[1;32m--> 363\u001b[0m         _find_torch_objects(obj)\n\u001b[0;32m    364\u001b[0m \u001b[38;5;28;01melif\u001b[39;00m _is_allowed_module_prefix(obj):\n\u001b[0;32m    365\u001b[0m     \u001b[38;5;28;01mif\u001b[39;00m record:\n",
      "    \u001b[1;31m[... skipping similar frames: gen_allowed_objs_and_ids.<locals>._find_torch_objects at line 363 (2 times)]\u001b[0m\n",
      "File \u001b[1;32mC:\\ProgramData\\anaconda3\\Lib\\site-packages\\torch\\_dynamo\\allowed_functions.py:363\u001b[0m, in \u001b[0;36mgen_allowed_objs_and_ids.<locals>._find_torch_objects\u001b[1;34m(module)\u001b[0m\n\u001b[0;32m    359\u001b[0m     \u001b[38;5;28;01mif\u001b[39;00m obj\u001b[38;5;241m.\u001b[39m\u001b[38;5;18m__name__\u001b[39m\u001b[38;5;241m.\u001b[39mstartswith(\u001b[38;5;124m\"\u001b[39m\u001b[38;5;124mtorch.\u001b[39m\u001b[38;5;124m\"\u001b[39m) \u001b[38;5;129;01mand\u001b[39;00m _is_allowed_module_prefix(\n\u001b[0;32m    360\u001b[0m         obj\n\u001b[0;32m    361\u001b[0m     ):\n\u001b[0;32m    362\u001b[0m         torch_object_ids[\u001b[38;5;28mid\u001b[39m(obj)] \u001b[38;5;241m=\u001b[39m \u001b[38;5;124mf\u001b[39m\u001b[38;5;124m\"\u001b[39m\u001b[38;5;132;01m{\u001b[39;00mmodule\u001b[38;5;241m.\u001b[39m\u001b[38;5;18m__name__\u001b[39m\u001b[38;5;132;01m}\u001b[39;00m\u001b[38;5;124m.\u001b[39m\u001b[38;5;132;01m{\u001b[39;00mname\u001b[38;5;132;01m}\u001b[39;00m\u001b[38;5;124m\"\u001b[39m\n\u001b[1;32m--> 363\u001b[0m         _find_torch_objects(obj)\n\u001b[0;32m    364\u001b[0m \u001b[38;5;28;01melif\u001b[39;00m _is_allowed_module_prefix(obj):\n\u001b[0;32m    365\u001b[0m     \u001b[38;5;28;01mif\u001b[39;00m record:\n",
      "File \u001b[1;32mC:\\ProgramData\\anaconda3\\Lib\\site-packages\\torch\\_dynamo\\allowed_functions.py:369\u001b[0m, in \u001b[0;36mgen_allowed_objs_and_ids.<locals>._find_torch_objects\u001b[1;34m(module)\u001b[0m\n\u001b[0;32m    367\u001b[0m         heuristic_record_if_in_graph_function(obj, module, name)\n\u001b[0;32m    368\u001b[0m     torch_object_ids[\u001b[38;5;28mid\u001b[39m(obj)] \u001b[38;5;241m=\u001b[39m \u001b[38;5;124mf\u001b[39m\u001b[38;5;124m\"\u001b[39m\u001b[38;5;132;01m{\u001b[39;00mmodule\u001b[38;5;241m.\u001b[39m\u001b[38;5;18m__name__\u001b[39m\u001b[38;5;132;01m}\u001b[39;00m\u001b[38;5;124m.\u001b[39m\u001b[38;5;132;01m{\u001b[39;00mname\u001b[38;5;132;01m}\u001b[39;00m\u001b[38;5;124m\"\u001b[39m\n\u001b[1;32m--> 369\u001b[0m \u001b[38;5;28;01melif\u001b[39;00m inspect\u001b[38;5;241m.\u001b[39mgetmodule(obj) \u001b[38;5;129;01mis\u001b[39;00m \u001b[38;5;28;01mNone\u001b[39;00m \u001b[38;5;129;01mand\u001b[39;00m \u001b[38;5;129;01mnot\u001b[39;00m is_safe_constant(obj):\n\u001b[0;32m    370\u001b[0m     \u001b[38;5;28;01mif\u001b[39;00m record:\n\u001b[0;32m    371\u001b[0m         heuristic_record_if_ctx_manager(obj, module, name)\n",
      "File \u001b[1;32mC:\\ProgramData\\anaconda3\\Lib\\inspect.py:984\u001b[0m, in \u001b[0;36mgetmodule\u001b[1;34m(object, _filename)\u001b[0m\n\u001b[0;32m    982\u001b[0m \u001b[38;5;66;03m# Try the cache again with the absolute file name\u001b[39;00m\n\u001b[0;32m    983\u001b[0m \u001b[38;5;28;01mtry\u001b[39;00m:\n\u001b[1;32m--> 984\u001b[0m     file \u001b[38;5;241m=\u001b[39m getabsfile(\u001b[38;5;28mobject\u001b[39m, _filename)\n\u001b[0;32m    985\u001b[0m \u001b[38;5;28;01mexcept\u001b[39;00m (\u001b[38;5;167;01mTypeError\u001b[39;00m, \u001b[38;5;167;01mFileNotFoundError\u001b[39;00m):\n\u001b[0;32m    986\u001b[0m     \u001b[38;5;28;01mreturn\u001b[39;00m \u001b[38;5;28;01mNone\u001b[39;00m\n",
      "File \u001b[1;32mC:\\ProgramData\\anaconda3\\Lib\\inspect.py:961\u001b[0m, in \u001b[0;36mgetabsfile\u001b[1;34m(object, _filename)\u001b[0m\n\u001b[0;32m    958\u001b[0m     \u001b[38;5;28;01melif\u001b[39;00m filename \u001b[38;5;129;01min\u001b[39;00m linecache\u001b[38;5;241m.\u001b[39mcache:\n\u001b[0;32m    959\u001b[0m         \u001b[38;5;28;01mreturn\u001b[39;00m filename\n\u001b[1;32m--> 961\u001b[0m \u001b[38;5;28;01mdef\u001b[39;00m \u001b[38;5;21mgetabsfile\u001b[39m(\u001b[38;5;28mobject\u001b[39m, _filename\u001b[38;5;241m=\u001b[39m\u001b[38;5;28;01mNone\u001b[39;00m):\n\u001b[0;32m    962\u001b[0m \u001b[38;5;250m    \u001b[39m\u001b[38;5;124;03m\"\"\"Return an absolute path to the source or compiled file for an object.\u001b[39;00m\n\u001b[0;32m    963\u001b[0m \n\u001b[0;32m    964\u001b[0m \u001b[38;5;124;03m    The idea is for each object to have a unique origin, so this routine\u001b[39;00m\n\u001b[0;32m    965\u001b[0m \u001b[38;5;124;03m    normalizes the result as much as possible.\"\"\"\u001b[39;00m\n\u001b[0;32m    966\u001b[0m     \u001b[38;5;28;01mif\u001b[39;00m _filename \u001b[38;5;129;01mis\u001b[39;00m \u001b[38;5;28;01mNone\u001b[39;00m:\n",
      "\u001b[1;31mKeyboardInterrupt\u001b[0m: "
     ]
    }
   ],
   "source": [
    "from Data import train_loader\n",
    "\n",
    "set_random_seed(42)\n",
    "rg = RGflows.configure_RG_model(normal_dist,RGmasks,n_flows_dict1,num_hidden_dict1,hidden_dim_dict1)\n",
    "pipeline=Pipeline(model=rg, criterion=KL_rel1, optimizer_class=torch.optim.Adam, optimizer_kwargs={\"lr\": 0.001,\"weight_decay\":0})\n",
    "\n",
    "\n",
    "\n",
    "trainer = pl.Trainer(\n",
    "    max_epochs=1000,\n",
    "    logger=TensorBoardLogger(save_dir=f\"logs/nf\"),\n",
    "    num_sanity_val_steps=0,\n",
    "    log_every_n_steps=1,\n",
    "    enable_checkpointing=False,\n",
    "    accumulate_grad_batches=1\n",
    ")\n",
    "\n",
    "trainer.fit(model=pipeline, train_dataloaders=train_loader)\n",
    "rg.save(\"model_weights1.pth\")"
   ]
  },
  {
   "cell_type": "code",
   "execution_count": 39,
   "id": "8169e1d2-102b-4d79-92e8-03905afd556d",
   "metadata": {
    "execution": {
     "iopub.execute_input": "2024-06-18T23:43:01.783368Z",
     "iopub.status.busy": "2024-06-18T23:43:01.782168Z",
     "iopub.status.idle": "2024-06-18T23:43:02.607762Z",
     "shell.execute_reply": "2024-06-18T23:43:02.606864Z",
     "shell.execute_reply.started": "2024-06-18T23:43:01.783318Z"
    },
    "tags": []
   },
   "outputs": [],
   "source": [
    "from Data import normal_dist\n",
    "import numpy as np\n",
    "from NFconstants import N_traj\n",
    "RG_trained = RGflows.load_model(\"model_weights_rel_morse_N=256_Beta=32_alpha=1.pth\")\n",
    "RG_trained.eval()\n",
    "N_traj=1000\n",
    "trajs=RG_trained.sample(N_traj)\n"
   ]
  },
  {
   "cell_type": "code",
   "execution_count": 21,
   "id": "d0710a10-e00c-41d9-958b-dc1d46f54d13",
   "metadata": {
    "execution": {
     "iopub.execute_input": "2024-06-18T23:43:05.001269Z",
     "iopub.status.busy": "2024-06-18T23:43:05.000109Z",
     "iopub.status.idle": "2024-06-18T23:43:09.166574Z",
     "shell.execute_reply": "2024-06-18T23:43:09.165693Z",
     "shell.execute_reply.started": "2024-06-18T23:43:05.001229Z"
    },
    "tags": []
   },
   "outputs": [],
   "source": [
    "from tqdm import tqdm\n",
    "from Data import train_loader\n",
    "def calc_Loss(system,model=RG_trained,dataloader=train_loader,n_batch=8):\n",
    "    kl = []\n",
    "    Loss = system.get_KL()\n",
    "    for i in tqdm(range(n_batch)):\n",
    "        batch = next(iter(dataloader))\n",
    "        x,lad = model(batch)\n",
    "        kl.append(Loss(x,lad))\n",
    "    kl=torch.tensor(kl)\n",
    "    return torch.mean(kl), torch.std(kl)"
   ]
  },
  {
   "cell_type": "code",
   "execution_count": 22,
   "id": "142befc4",
   "metadata": {},
   "outputs": [
    {
     "name": "stderr",
     "output_type": "stream",
     "text": [
      "100%|████████████████████████████████████████████████████████████████████████████████████| 8/8 [01:02<00:00,  7.79s/it]"
     ]
    },
    {
     "name": "stdout",
     "output_type": "stream",
     "text": [
      "(tensor(80.0298), tensor(0.7602))\n"
     ]
    },
    {
     "name": "stderr",
     "output_type": "stream",
     "text": [
      "\n"
     ]
    }
   ],
   "source": [
    "print(calc_Loss(rel_morse))"
   ]
  },
  {
   "cell_type": "code",
   "execution_count": 32,
   "id": "171a7e76",
   "metadata": {},
   "outputs": [],
   "source": [
    "def savetrajs(trajs,filename):\n",
    "    nptrajs = trajs.numpy()\n",
    "    np.savetxt(filename,nptrajs,delimiter=\" \")\n",
    "    print(filename)    "
   ]
  },
  {
   "cell_type": "code",
   "execution_count": 33,
   "id": "41d0fd60",
   "metadata": {},
   "outputs": [
    {
     "name": "stdout",
     "output_type": "stream",
     "text": [
      "NN rel oscillator N=256 Beta=32.txt\n"
     ]
    }
   ],
   "source": [
    "filename=\"NN rel oscillator N=\"+str(N_nod)+\" Beta=\"+str(Beta)+\".txt\"\n",
    "savetrajs(trajs,filename)"
   ]
  },
  {
   "cell_type": "code",
   "execution_count": 22,
   "id": "da8e609e",
   "metadata": {},
   "outputs": [],
   "source": [
    "def calc_psi2(trajs,n_bins = 1001):\n",
    "    hst = torch.histogram(trajs.cpu(),bins = n_bins)\n",
    "    h = (hst[1][-1]-hst[1][0])/n_bins\n",
    "    x = hst[1][:-1]\n",
    "    psi2 = hst[0]/(N_nod*N_traj*h)\n",
    "    return x.numpy(), psi2.numpy()"
   ]
  },
  {
   "cell_type": "code",
   "execution_count": 23,
   "id": "af8204ca",
   "metadata": {},
   "outputs": [],
   "source": [
    "x,psi2=calc_psi2(trajs)"
   ]
  },
  {
   "cell_type": "code",
   "execution_count": 26,
   "id": "97dd8ec7-e12c-420b-8936-f6bfb2c4b5b3",
   "metadata": {
    "execution": {
     "iopub.execute_input": "2024-06-17T16:58:33.141581Z",
     "iopub.status.busy": "2024-06-17T16:58:33.140516Z",
     "iopub.status.idle": "2024-06-17T16:58:33.597223Z",
     "shell.execute_reply": "2024-06-17T16:58:33.596337Z",
     "shell.execute_reply.started": "2024-06-17T16:58:33.141527Z"
    },
    "tags": []
   },
   "outputs": [
    {
     "data": {
      "image/png": "[encoded data removed]",
      "text/plain": [
       "<Figure size 640x480 with 1 Axes>"
      ]
     },
     "metadata": {},
     "output_type": "display_data"
    }
   ],
   "source": [
    "import numpy as np\n",
    "import matplotlib.pyplot as plt\n",
    "fig=plt.figure()\n",
    "plt.plot(x,psi2)\n",
    "plt.ylabel(r\"$|\\psi(x)|^2$\",fontsize=17)\n",
    "plt.xlabel(\"x\",fontsize=17)\n",
    "plt.title(r\"$N=$\"+str(N_nod)+\"      \"+r\"$\\beta=$\"+str(Beta)+\"        \"+r\"$V=\\frac{1}{2}[(e^{-\\alpha x}-1)^2-1]$\"+\"         \"+r\"$\\alpha=$\"+str(morse.alpha))\n",
    "plt.legend([\"Нормализующий поток\",\"Теор.\"])\n",
    "plt.grid(True)\n",
    "plt.show()"
   ]
  },
  {
   "cell_type": "code",
   "execution_count": 28,
   "id": "fe644a5e-8e4a-4536-bec1-78a391b60f97",
   "metadata": {
    "execution": {
     "iopub.execute_input": "2024-06-18T23:34:37.735915Z",
     "iopub.status.busy": "2024-06-18T23:34:37.734828Z",
     "iopub.status.idle": "2024-06-18T23:34:38.462636Z",
     "shell.execute_reply": "2024-06-18T23:34:38.461779Z",
     "shell.execute_reply.started": "2024-06-18T23:34:37.735883Z"
    },
    "tags": []
   },
   "outputs": [
    {
     "name": "stderr",
     "output_type": "stream",
     "text": [
      "100%|███████████████████████████████████████████████████████████████████████████████| 256/256 [00:01<00:00, 188.88it/s]\n"
     ]
    }
   ],
   "source": [
    "from tqdm import tqdm\n",
    "def G(X,n_p=N_nod):\n",
    "    G=np.zeros((n_p))\n",
    "    Y=X.clone()\n",
    "    Xt=torch.t(X)\n",
    "    for s in tqdm(range(n_p)):\n",
    "        G[s]=torch.trace(torch.matmul(Y,Xt))\n",
    "        Y=torch.roll(Y,-1,1)\n",
    "    return G/(N_traj*N_nod)\n",
    "g_nf=G(trajs)\n"
   ]
  },
  {
   "cell_type": "code",
   "execution_count": 30,
   "id": "34a5ead7-10a1-445f-abbd-4f8c2478ccd1",
   "metadata": {
    "execution": {
     "iopub.execute_input": "2024-06-18T23:34:46.945918Z",
     "iopub.status.busy": "2024-06-18T23:34:46.944531Z",
     "iopub.status.idle": "2024-06-18T23:34:47.332470Z",
     "shell.execute_reply": "2024-06-18T23:34:47.331459Z",
     "shell.execute_reply.started": "2024-06-18T23:34:46.945862Z"
    },
    "tags": []
   },
   "outputs": [
    {
     "data": {
      "image/png": "[encoded data removed]",
      "text/plain": [
       "<Figure size 640x480 with 1 Axes>"
      ]
     },
     "metadata": {},
     "output_type": "display_data"
    }
   ],
   "source": [
    "fig=plt.figure()\n",
    "NF_list=np.arange(len(g_nf))/len(g_nf)\n",
    "plt.scatter(NF_list,g_nf,s=10)\n",
    "plt.title(r\"$N=$\"+str(N_nod)+\"       \"r\"$\\beta=$\"+str(Beta)+\"     Релятивистский осциллятор\")\n",
    "plt.ylabel(r\"$G_s$\",fontsize=17)\n",
    "plt.xlabel(r\"$s/N$\",fontsize=17)\n",
    "plt.grid(True)\n",
    "plt.show()\n"
   ]
  },
  {
   "cell_type": "code",
   "execution_count": 41,
   "id": "653c3be4-affb-4e88-ab7a-29893cca4c59",
   "metadata": {
    "execution": {
     "iopub.execute_input": "2024-06-18T23:42:04.694967Z",
     "iopub.status.busy": "2024-06-18T23:42:04.693793Z",
     "iopub.status.idle": "2024-06-18T23:42:33.999532Z",
     "shell.execute_reply": "2024-06-18T23:42:33.998207Z",
     "shell.execute_reply.started": "2024-06-18T23:42:04.694924Z"
    },
    "tags": []
   },
   "outputs": [
    {
     "name": "stdout",
     "output_type": "stream",
     "text": [
      "tensor(0.2309, device='cuda:0') 0\n",
      "tensor(0.2279, device='cuda:0') tensor(0.5000)\n",
      "tensor(0.2305, device='cuda:0') tensor(0.3125)\n",
      "tensor(0.2317, device='cuda:0') tensor(0.5625)\n",
      "tensor(0.2335, device='cuda:0') tensor(0.6250)\n",
      "tensor(0.2340, device='cuda:0') tensor(0.5625)\n",
      "tensor(0.2343, device='cuda:0') tensor(0.3750)\n",
      "tensor(0.2359, device='cuda:0') tensor(0.5625)\n",
      "tensor(0.2377, device='cuda:0') tensor(0.5000)\n"
     ]
    },
    {
     "ename": "KeyboardInterrupt",
     "evalue": "",
     "output_type": "error",
     "traceback": [
      "\u001b[0;31m---------------------------------------------------------------------------\u001b[0m",
      "\u001b[0;31mKeyboardInterrupt\u001b[0m                         Traceback (most recent call last)",
      "\u001b[0;32m/tmp/ipykernel_18093/885579335.py\u001b[0m in \u001b[0;36m<cell line: 7>\u001b[0;34m()\u001b[0m\n\u001b[1;32m      5\u001b[0m \u001b[0mMetropolis\u001b[0m \u001b[0;34m=\u001b[0m \u001b[0mMCMC\u001b[0m\u001b[0;34m(\u001b[0m\u001b[0mrel1\u001b[0m\u001b[0;34m,\u001b[0m\u001b[0md\u001b[0m\u001b[0;34m=\u001b[0m\u001b[0;36m0.5\u001b[0m\u001b[0;34m*\u001b[0m\u001b[0;34m(\u001b[0m\u001b[0ma\u001b[0m\u001b[0;34m/\u001b[0m\u001b[0mN_nod\u001b[0m\u001b[0;34m)\u001b[0m\u001b[0;34m**\u001b[0m\u001b[0;36m0.5\u001b[0m\u001b[0;34m,\u001b[0m\u001b[0mN_sweep\u001b[0m\u001b[0;34m=\u001b[0m\u001b[0;36m100000\u001b[0m\u001b[0;34m,\u001b[0m\u001b[0mlog_per\u001b[0m\u001b[0;34m=\u001b[0m\u001b[0;36m1000\u001b[0m\u001b[0;34m)\u001b[0m\u001b[0;34m\u001b[0m\u001b[0;34m\u001b[0m\u001b[0m\n\u001b[1;32m      6\u001b[0m \u001b[0;31m#z=torch.zeros((N_samp,N_nod)).to(device)\u001b[0m\u001b[0;34m\u001b[0m\u001b[0;34m\u001b[0m\u001b[0m\n\u001b[0;32m----> 7\u001b[0;31m \u001b[0mz\u001b[0m \u001b[0;34m=\u001b[0m \u001b[0mMetropolis\u001b[0m\u001b[0;34m.\u001b[0m\u001b[0mrun\u001b[0m\u001b[0;34m(\u001b[0m\u001b[0mz\u001b[0m\u001b[0;34m)\u001b[0m\u001b[0;34m\u001b[0m\u001b[0;34m\u001b[0m\u001b[0m\n\u001b[0m",
      "\u001b[0;32m/tmp/ipykernel_18093/4084369985.py\u001b[0m in \u001b[0;36mrun\u001b[0;34m(self, z)\u001b[0m\n\u001b[1;32m     67\u001b[0m             \u001b[0;32mif\u001b[0m \u001b[0mi\u001b[0m\u001b[0;34m%\u001b[0m\u001b[0mself\u001b[0m\u001b[0;34m.\u001b[0m\u001b[0mlog_per\u001b[0m\u001b[0;34m==\u001b[0m\u001b[0;36m0\u001b[0m\u001b[0;34m:\u001b[0m\u001b[0;34m\u001b[0m\u001b[0;34m\u001b[0m\u001b[0m\n\u001b[1;32m     68\u001b[0m                 \u001b[0mself\u001b[0m\u001b[0;34m.\u001b[0m\u001b[0mlog\u001b[0m\u001b[0;34m(\u001b[0m\u001b[0mz\u001b[0m\u001b[0;34m)\u001b[0m\u001b[0;34m\u001b[0m\u001b[0;34m\u001b[0m\u001b[0m\n\u001b[0;32m---> 69\u001b[0;31m             \u001b[0mself\u001b[0m\u001b[0;34m.\u001b[0m\u001b[0msweep\u001b[0m\u001b[0;34m(\u001b[0m\u001b[0mz\u001b[0m\u001b[0;34m)\u001b[0m\u001b[0;34m\u001b[0m\u001b[0;34m\u001b[0m\u001b[0m\n\u001b[0m\u001b[1;32m     70\u001b[0m \u001b[0;34m\u001b[0m\u001b[0m\n\u001b[1;32m     71\u001b[0m         \u001b[0;32mreturn\u001b[0m \u001b[0mz\u001b[0m\u001b[0;34m\u001b[0m\u001b[0;34m\u001b[0m\u001b[0m\n",
      "\u001b[0;32m/tmp/ipykernel_18093/4084369985.py\u001b[0m in \u001b[0;36msweep\u001b[0;34m(self, z)\u001b[0m\n\u001b[1;32m     19\u001b[0m         \u001b[0my\u001b[0m \u001b[0;34m=\u001b[0m \u001b[0mz\u001b[0m\u001b[0;34m+\u001b[0m\u001b[0mself\u001b[0m\u001b[0;34m.\u001b[0m\u001b[0md\u001b[0m\u001b[0;34m*\u001b[0m\u001b[0;34m(\u001b[0m\u001b[0;36m2\u001b[0m\u001b[0;34m*\u001b[0m\u001b[0mshift\u001b[0m\u001b[0;34m-\u001b[0m\u001b[0;36m1\u001b[0m\u001b[0;34m)\u001b[0m\u001b[0;34m\u001b[0m\u001b[0;34m\u001b[0m\u001b[0m\n\u001b[1;32m     20\u001b[0m \u001b[0;34m\u001b[0m\u001b[0m\n\u001b[0;32m---> 21\u001b[0;31m         \u001b[0mS_new\u001b[0m\u001b[0;34m=\u001b[0m\u001b[0mself\u001b[0m\u001b[0;34m.\u001b[0m\u001b[0mcalc_S\u001b[0m\u001b[0;34m(\u001b[0m\u001b[0my\u001b[0m\u001b[0;34m)\u001b[0m\u001b[0;34m\u001b[0m\u001b[0;34m\u001b[0m\u001b[0m\n\u001b[0m\u001b[1;32m     22\u001b[0m \u001b[0;34m\u001b[0m\u001b[0m\n\u001b[1;32m     23\u001b[0m         \u001b[0mdS\u001b[0m\u001b[0;34m=\u001b[0m\u001b[0mS_new\u001b[0m\u001b[0;34m-\u001b[0m\u001b[0mself\u001b[0m\u001b[0;34m.\u001b[0m\u001b[0mS\u001b[0m\u001b[0;34m\u001b[0m\u001b[0;34m\u001b[0m\u001b[0m\n",
      "\u001b[0;32m/tmp/ipykernel_18093/4084369985.py\u001b[0m in \u001b[0;36mcalc_S\u001b[0;34m(self, z)\u001b[0m\n\u001b[1;32m     47\u001b[0m     \u001b[0;32mdef\u001b[0m \u001b[0mcalc_S\u001b[0m\u001b[0;34m(\u001b[0m\u001b[0mself\u001b[0m\u001b[0;34m,\u001b[0m\u001b[0mz\u001b[0m\u001b[0;34m)\u001b[0m\u001b[0;34m:\u001b[0m\u001b[0;34m\u001b[0m\u001b[0;34m\u001b[0m\u001b[0m\n\u001b[1;32m     48\u001b[0m         \u001b[0;32mif\u001b[0m \u001b[0mself\u001b[0m\u001b[0;34m.\u001b[0m\u001b[0mmodel\u001b[0m\u001b[0;34m==\u001b[0m\u001b[0;34m\"none\"\u001b[0m\u001b[0;34m:\u001b[0m\u001b[0;34m\u001b[0m\u001b[0;34m\u001b[0m\u001b[0m\n\u001b[0;32m---> 49\u001b[0;31m             \u001b[0mS\u001b[0m\u001b[0;34m=\u001b[0m\u001b[0mself\u001b[0m\u001b[0;34m.\u001b[0m\u001b[0msystem\u001b[0m\u001b[0;34m.\u001b[0m\u001b[0mFull_S\u001b[0m\u001b[0;34m(\u001b[0m\u001b[0mz\u001b[0m\u001b[0;34m)\u001b[0m\u001b[0;34m.\u001b[0m\u001b[0mto\u001b[0m\u001b[0;34m(\u001b[0m\u001b[0mz\u001b[0m\u001b[0;34m.\u001b[0m\u001b[0mdevice\u001b[0m\u001b[0;34m)\u001b[0m\u001b[0;34m\u001b[0m\u001b[0;34m\u001b[0m\u001b[0m\n\u001b[0m\u001b[1;32m     50\u001b[0m         \u001b[0;32melse\u001b[0m\u001b[0;34m:\u001b[0m\u001b[0;34m\u001b[0m\u001b[0;34m\u001b[0m\u001b[0m\n\u001b[1;32m     51\u001b[0m             \u001b[0mx\u001b[0m \u001b[0;34m,\u001b[0m \u001b[0mlad\u001b[0m \u001b[0;34m=\u001b[0m \u001b[0mself\u001b[0m\u001b[0;34m.\u001b[0m\u001b[0mmodel\u001b[0m\u001b[0;34m(\u001b[0m\u001b[0mz\u001b[0m\u001b[0;34m)\u001b[0m\u001b[0;34m\u001b[0m\u001b[0;34m\u001b[0m\u001b[0m\n",
      "\u001b[0;32m~/work/resources/Normalizing Flow/System.py\u001b[0m in \u001b[0;36mFull_S\u001b[0;34m(self, x)\u001b[0m\n\u001b[1;32m     20\u001b[0m         \u001b[0mx_next\u001b[0m\u001b[0;34m=\u001b[0m\u001b[0mtorch\u001b[0m\u001b[0;34m.\u001b[0m\u001b[0mroll\u001b[0m\u001b[0;34m(\u001b[0m\u001b[0mx\u001b[0m\u001b[0;34m,\u001b[0m\u001b[0;34m-\u001b[0m\u001b[0;36m1\u001b[0m\u001b[0;34m,\u001b[0m\u001b[0;36m1\u001b[0m\u001b[0;34m)\u001b[0m\u001b[0;34m\u001b[0m\u001b[0;34m\u001b[0m\u001b[0m\n\u001b[1;32m     21\u001b[0m         \u001b[0mdiff\u001b[0m\u001b[0;34m=\u001b[0m\u001b[0mx_next\u001b[0m\u001b[0;34m-\u001b[0m\u001b[0mx\u001b[0m\u001b[0;34m\u001b[0m\u001b[0;34m\u001b[0m\u001b[0m\n\u001b[0;32m---> 22\u001b[0;31m         \u001b[0mFull_T\u001b[0m\u001b[0;34m=\u001b[0m\u001b[0mtorch\u001b[0m\u001b[0;34m.\u001b[0m\u001b[0msum\u001b[0m\u001b[0;34m(\u001b[0m\u001b[0mself\u001b[0m\u001b[0;34m.\u001b[0m\u001b[0mT\u001b[0m\u001b[0;34m(\u001b[0m\u001b[0mdiff\u001b[0m\u001b[0;34m)\u001b[0m\u001b[0;34m,\u001b[0m\u001b[0maxis\u001b[0m\u001b[0;34m=\u001b[0m\u001b[0;36m1\u001b[0m\u001b[0;34m)\u001b[0m\u001b[0;34m\u001b[0m\u001b[0;34m\u001b[0m\u001b[0m\n\u001b[0m\u001b[1;32m     23\u001b[0m         \u001b[0mFull_V\u001b[0m\u001b[0;34m=\u001b[0m\u001b[0mtorch\u001b[0m\u001b[0;34m.\u001b[0m\u001b[0msum\u001b[0m\u001b[0;34m(\u001b[0m\u001b[0mself\u001b[0m\u001b[0;34m.\u001b[0m\u001b[0mV\u001b[0m\u001b[0;34m(\u001b[0m\u001b[0mx\u001b[0m\u001b[0;34m)\u001b[0m\u001b[0;34m,\u001b[0m\u001b[0maxis\u001b[0m\u001b[0;34m=\u001b[0m\u001b[0;36m1\u001b[0m\u001b[0;34m)\u001b[0m\u001b[0;34m\u001b[0m\u001b[0;34m\u001b[0m\u001b[0m\n\u001b[1;32m     24\u001b[0m         \u001b[0mFull_S\u001b[0m\u001b[0;34m=\u001b[0m\u001b[0mself\u001b[0m\u001b[0;34m.\u001b[0m\u001b[0ma\u001b[0m\u001b[0;34m*\u001b[0m\u001b[0;34m(\u001b[0m\u001b[0mFull_T\u001b[0m\u001b[0;34m+\u001b[0m\u001b[0mFull_V\u001b[0m\u001b[0;34m)\u001b[0m\u001b[0;34m+\u001b[0m\u001b[0mself\u001b[0m\u001b[0;34m.\u001b[0m\u001b[0mn_nod\u001b[0m\u001b[0;34m*\u001b[0m\u001b[0mself\u001b[0m\u001b[0;34m.\u001b[0m\u001b[0mnormalizer\u001b[0m\u001b[0;34m+\u001b[0m\u001b[0mself\u001b[0m\u001b[0;34m.\u001b[0m\u001b[0mLog_Z\u001b[0m\u001b[0;34m\u001b[0m\u001b[0;34m\u001b[0m\u001b[0m\n",
      "\u001b[0;32m~/work/resources/Normalizing Flow/NFrel_oscillator.py\u001b[0m in \u001b[0;36mT\u001b[0;34m(self, diff)\u001b[0m\n\u001b[1;32m     20\u001b[0m         \u001b[0mc\u001b[0m\u001b[0;34m=\u001b[0m\u001b[0;34m(\u001b[0m\u001b[0mself\u001b[0m\u001b[0;34m.\u001b[0m\u001b[0ms1\u001b[0m\u001b[0;34m)\u001b[0m \u001b[0;34m**\u001b[0m \u001b[0;34m(\u001b[0m\u001b[0;34m-\u001b[0m\u001b[0;36m2\u001b[0m\u001b[0;34m)\u001b[0m\u001b[0;34m\u001b[0m\u001b[0;34m\u001b[0m\u001b[0m\n\u001b[1;32m     21\u001b[0m         \u001b[0my\u001b[0m\u001b[0;34m=\u001b[0m\u001b[0;34m(\u001b[0m\u001b[0;36m1\u001b[0m \u001b[0;34m+\u001b[0m \u001b[0;34m(\u001b[0m\u001b[0mdiff\u001b[0m\u001b[0;34m/\u001b[0m\u001b[0ma\u001b[0m\u001b[0;34m)\u001b[0m\u001b[0;34m**\u001b[0m\u001b[0;36m2\u001b[0m \u001b[0;34m*\u001b[0m \u001b[0mc\u001b[0m\u001b[0;34m)\u001b[0m\u001b[0;34m**\u001b[0m\u001b[0;36m0.5\u001b[0m\u001b[0;34m\u001b[0m\u001b[0;34m\u001b[0m\u001b[0m\n\u001b[0;32m---> 22\u001b[0;31m         \u001b[0mln\u001b[0m\u001b[0;34m=\u001b[0m\u001b[0mtorch\u001b[0m\u001b[0;34m.\u001b[0m\u001b[0mlog\u001b[0m\u001b[0;34m(\u001b[0m\u001b[0mQ1\u001b[0m\u001b[0;34m(\u001b[0m \u001b[0mself\u001b[0m\u001b[0;34m.\u001b[0m\u001b[0ms2\u001b[0m \u001b[0;34m*\u001b[0m \u001b[0ma\u001b[0m \u001b[0;34m*\u001b[0m \u001b[0my\u001b[0m \u001b[0;34m)\u001b[0m\u001b[0;34m/\u001b[0m\u001b[0;34m(\u001b[0m\u001b[0my\u001b[0m \u001b[0;34m*\u001b[0m \u001b[0mQ1\u001b[0m\u001b[0;34m(\u001b[0m\u001b[0mself\u001b[0m\u001b[0;34m.\u001b[0m\u001b[0ms2\u001b[0m \u001b[0;34m*\u001b[0m \u001b[0ma\u001b[0m\u001b[0;34m)\u001b[0m\u001b[0;34m)\u001b[0m\u001b[0;34m)\u001b[0m\u001b[0;34m\u001b[0m\u001b[0;34m\u001b[0m\u001b[0m\n\u001b[0m\u001b[1;32m     23\u001b[0m         \u001b[0mt\u001b[0m \u001b[0;34m=\u001b[0m \u001b[0mself\u001b[0m\u001b[0;34m.\u001b[0m\u001b[0ms2\u001b[0m \u001b[0;34m*\u001b[0m \u001b[0;34m(\u001b[0m\u001b[0my\u001b[0m\u001b[0;34m-\u001b[0m\u001b[0;36m1\u001b[0m\u001b[0;34m)\u001b[0m \u001b[0;34m-\u001b[0m \u001b[0mln\u001b[0m \u001b[0;34m/\u001b[0m \u001b[0ma\u001b[0m\u001b[0;34m\u001b[0m\u001b[0;34m\u001b[0m\u001b[0m\n\u001b[1;32m     24\u001b[0m         \u001b[0;32mreturn\u001b[0m \u001b[0mt\u001b[0m\u001b[0;34m\u001b[0m\u001b[0;34m\u001b[0m\u001b[0m\n",
      "\u001b[0;32m~/work/resources/Normalizing Flow/bessel.py\u001b[0m in \u001b[0;36mmy_Q1\u001b[0;34m(z, M, z0)\u001b[0m\n\u001b[1;32m     29\u001b[0m     \u001b[0my1\u001b[0m\u001b[0;34m=\u001b[0m\u001b[0mmask1\u001b[0m\u001b[0;34m*\u001b[0m\u001b[0mz\u001b[0m\u001b[0;34m+\u001b[0m\u001b[0mmask2\u001b[0m\u001b[0;34m\u001b[0m\u001b[0;34m\u001b[0m\u001b[0m\n\u001b[1;32m     30\u001b[0m     \u001b[0my2\u001b[0m\u001b[0;34m=\u001b[0m\u001b[0mmask2\u001b[0m\u001b[0;34m*\u001b[0m\u001b[0mz\u001b[0m\u001b[0;34m+\u001b[0m\u001b[0mmask1\u001b[0m\u001b[0;34m\u001b[0m\u001b[0;34m\u001b[0m\u001b[0m\n\u001b[0;32m---> 31\u001b[0;31m     \u001b[0mq\u001b[0m\u001b[0;34m=\u001b[0m\u001b[0mmask1\u001b[0m\u001b[0;34m*\u001b[0m\u001b[0mmy_Q1_small\u001b[0m\u001b[0;34m(\u001b[0m\u001b[0my1\u001b[0m\u001b[0;34m)\u001b[0m\u001b[0;34m+\u001b[0m\u001b[0mmask2\u001b[0m\u001b[0;34m*\u001b[0m\u001b[0mmy_Q1_big\u001b[0m\u001b[0;34m(\u001b[0m\u001b[0my2\u001b[0m\u001b[0;34m)\u001b[0m\u001b[0;34m\u001b[0m\u001b[0;34m\u001b[0m\u001b[0m\n\u001b[0m\u001b[1;32m     32\u001b[0m     \u001b[0;32mreturn\u001b[0m \u001b[0mq\u001b[0m\u001b[0;34m\u001b[0m\u001b[0;34m\u001b[0m\u001b[0m\n\u001b[1;32m     33\u001b[0m \u001b[0;34m\u001b[0m\u001b[0m\n",
      "\u001b[0;32m~/work/resources/Normalizing Flow/bessel.py\u001b[0m in \u001b[0;36mmy_Q1_small\u001b[0;34m(z, M)\u001b[0m\n\u001b[1;32m      3\u001b[0m \u001b[0mpi\u001b[0m\u001b[0;34m=\u001b[0m\u001b[0mtorch\u001b[0m\u001b[0;34m.\u001b[0m\u001b[0mtensor\u001b[0m\u001b[0;34m(\u001b[0m\u001b[0mnp\u001b[0m\u001b[0;34m.\u001b[0m\u001b[0mpi\u001b[0m\u001b[0;34m)\u001b[0m\u001b[0;34m\u001b[0m\u001b[0;34m\u001b[0m\u001b[0m\n\u001b[1;32m      4\u001b[0m \u001b[0mC\u001b[0m\u001b[0;34m=\u001b[0m\u001b[0mtorch\u001b[0m\u001b[0;34m.\u001b[0m\u001b[0mtensor\u001b[0m\u001b[0;34m(\u001b[0m\u001b[0;36m0.5772156649\u001b[0m\u001b[0;34m)\u001b[0m\u001b[0;34m\u001b[0m\u001b[0;34m\u001b[0m\u001b[0m\n\u001b[0;32m----> 5\u001b[0;31m \u001b[0;32mdef\u001b[0m \u001b[0mmy_Q1_small\u001b[0m\u001b[0;34m(\u001b[0m\u001b[0mz\u001b[0m\u001b[0;34m,\u001b[0m\u001b[0mM\u001b[0m\u001b[0;34m=\u001b[0m\u001b[0;36m10\u001b[0m\u001b[0;34m)\u001b[0m\u001b[0;34m:\u001b[0m\u001b[0;34m\u001b[0m\u001b[0;34m\u001b[0m\u001b[0m\n\u001b[0m\u001b[1;32m      6\u001b[0m     \u001b[0ma\u001b[0m\u001b[0;34m=\u001b[0m\u001b[0mz\u001b[0m\u001b[0;34m/\u001b[0m\u001b[0;36m2\u001b[0m\u001b[0;34m\u001b[0m\u001b[0;34m\u001b[0m\u001b[0m\n\u001b[1;32m      7\u001b[0m     \u001b[0mb\u001b[0m\u001b[0;34m=\u001b[0m\u001b[0;36m0\u001b[0m\u001b[0;34m\u001b[0m\u001b[0;34m\u001b[0m\u001b[0m\n",
      "\u001b[0;31mKeyboardInterrupt\u001b[0m: "
     ]
    }
   ],
   "source": [
    "N_samp=16\n",
    "model1=RG_trained.to(device)\n",
    "z=normal_dist.sample((N_samp,)).to(device)\n",
    "z,_=model1(z)\n",
    "Metropolis = MCMC(rel1,d=0.5*(a/N_nod)**0.5,N_sweep=100000,log_per=1000)\n",
    "z = Metropolis.run(z)"
   ]
  },
  {
   "cell_type": "code",
   "execution_count": 37,
   "id": "93235a2e-1352-4bba-bb11-0c60030cd35b",
   "metadata": {
    "execution": {
     "iopub.execute_input": "2024-06-07T17:52:11.520268Z",
     "iopub.status.busy": "2024-06-07T17:52:11.519271Z",
     "iopub.status.idle": "2024-06-07T18:19:53.172533Z",
     "shell.execute_reply": "2024-06-07T18:19:53.171800Z",
     "shell.execute_reply.started": "2024-06-07T17:52:11.520224Z"
    },
    "tags": []
   },
   "outputs": [
    {
     "name": "stdout",
     "output_type": "stream",
     "text": [
      "tensor(0.2798) 0\n",
      "tensor(0.2851) tensor(0.7620)\n",
      "tensor(0.2921) tensor(0.7730)\n",
      "tensor(0.2970) tensor(0.7850)\n",
      "tensor(0.3012) tensor(0.7610)\n",
      "tensor(0.3058) tensor(0.7680)\n",
      "tensor(0.3103) tensor(0.7760)\n",
      "tensor(0.3147) tensor(0.7460)\n",
      "tensor(0.3193) tensor(0.7670)\n",
      "tensor(0.3209) tensor(0.7740)\n",
      "tensor(0.3239) tensor(0.7410)\n",
      "tensor(0.3272) tensor(0.7800)\n",
      "tensor(0.3325) tensor(0.7660)\n",
      "tensor(0.3346) tensor(0.7600)\n",
      "tensor(0.3374) tensor(0.7760)\n",
      "tensor(0.3417) tensor(0.7670)\n",
      "tensor(0.3427) tensor(0.7830)\n",
      "tensor(0.3469) tensor(0.7680)\n",
      "tensor(0.3481) tensor(0.7790)\n",
      "tensor(0.3484) tensor(0.7650)\n",
      "tensor(0.3510) tensor(0.7740)\n",
      "tensor(0.3524) tensor(0.7750)\n",
      "tensor(0.3528) tensor(0.7760)\n",
      "tensor(0.3531) tensor(0.7690)\n",
      "tensor(0.3539) tensor(0.8060)\n",
      "tensor(0.3568) tensor(0.7790)\n",
      "tensor(0.3569) tensor(0.7970)\n",
      "tensor(0.3586) tensor(0.7720)\n",
      "tensor(0.3578) tensor(0.7550)\n",
      "tensor(0.3600) tensor(0.7760)\n",
      "tensor(0.3632) tensor(0.7700)\n",
      "tensor(0.3659) tensor(0.7900)\n",
      "tensor(0.3689) tensor(0.7660)\n",
      "tensor(0.3718) tensor(0.7770)\n",
      "tensor(0.3728) tensor(0.7740)\n",
      "tensor(0.3741) tensor(0.7750)\n",
      "tensor(0.3724) tensor(0.7600)\n",
      "tensor(0.3731) tensor(0.7710)\n",
      "tensor(0.3749) tensor(0.7980)\n",
      "tensor(0.3761) tensor(0.7670)\n",
      "tensor(0.3750) tensor(0.7470)\n",
      "tensor(0.3767) tensor(0.7650)\n",
      "tensor(0.3767) tensor(0.7380)\n",
      "tensor(0.3760) tensor(0.7610)\n",
      "tensor(0.3752) tensor(0.7760)\n",
      "tensor(0.3750) tensor(0.7920)\n",
      "tensor(0.3739) tensor(0.7550)\n",
      "tensor(0.3729) tensor(0.7700)\n",
      "tensor(0.3723) tensor(0.7910)\n",
      "tensor(0.3721) tensor(0.7660)\n",
      "tensor(0.3707) tensor(0.7810)\n",
      "tensor(0.3738) tensor(0.7520)\n",
      "tensor(0.3770) tensor(0.7650)\n",
      "tensor(0.3776) tensor(0.7840)\n",
      "tensor(0.3760) tensor(0.7750)\n",
      "tensor(0.3772) tensor(0.7810)\n",
      "tensor(0.3769) tensor(0.8020)\n",
      "tensor(0.3769) tensor(0.7850)\n",
      "tensor(0.3774) tensor(0.7680)\n",
      "tensor(0.3782) tensor(0.7830)\n",
      "tensor(0.3789) tensor(0.7710)\n",
      "tensor(0.3791) tensor(0.7790)\n",
      "tensor(0.3783) tensor(0.7840)\n",
      "tensor(0.3787) tensor(0.7780)\n",
      "tensor(0.3803) tensor(0.7520)\n",
      "tensor(0.3817) tensor(0.7960)\n",
      "tensor(0.3818) tensor(0.7720)\n",
      "tensor(0.3840) tensor(0.7830)\n",
      "tensor(0.3847) tensor(0.7930)\n",
      "tensor(0.3836) tensor(0.7690)\n",
      "tensor(0.3852) tensor(0.7770)\n",
      "tensor(0.3878) tensor(0.7840)\n",
      "tensor(0.3887) tensor(0.7810)\n",
      "tensor(0.3907) tensor(0.7660)\n",
      "tensor(0.3913) tensor(0.7510)\n",
      "tensor(0.3927) tensor(0.7720)\n",
      "tensor(0.3923) tensor(0.7680)\n",
      "tensor(0.3908) tensor(0.7790)\n",
      "tensor(0.3903) tensor(0.7780)\n",
      "tensor(0.3918) tensor(0.7760)\n",
      "tensor(0.3938) tensor(0.7810)\n",
      "tensor(0.3951) tensor(0.7650)\n",
      "tensor(0.3962) tensor(0.7860)\n",
      "tensor(0.3963) tensor(0.7760)\n",
      "tensor(0.3949) tensor(0.7760)\n",
      "tensor(0.3971) tensor(0.7790)\n",
      "tensor(0.3995) tensor(0.7960)\n",
      "tensor(0.3994) tensor(0.7620)\n",
      "tensor(0.4021) tensor(0.7800)\n",
      "tensor(0.3991) tensor(0.7750)\n",
      "tensor(0.3971) tensor(0.7830)\n",
      "tensor(0.3984) tensor(0.7940)\n",
      "tensor(0.4008) tensor(0.7660)\n",
      "tensor(0.4016) tensor(0.7770)\n",
      "tensor(0.4028) tensor(0.7520)\n",
      "tensor(0.4031) tensor(0.7510)\n",
      "tensor(0.4023) tensor(0.7920)\n",
      "tensor(0.4021) tensor(0.7550)\n",
      "tensor(0.4044) tensor(0.7690)\n",
      "tensor(0.4029) tensor(0.7780)\n",
      "tensor(0.) 0\n",
      "tensor(0.0284) tensor(0.7510)\n",
      "tensor(0.0456) tensor(0.7600)\n",
      "tensor(0.0596) tensor(0.7750)\n",
      "tensor(0.0712) tensor(0.7470)\n",
      "tensor(0.0819) tensor(0.7700)\n",
      "tensor(0.0919) tensor(0.7720)\n",
      "tensor(0.1009) tensor(0.7670)\n",
      "tensor(0.1089) tensor(0.7760)\n",
      "tensor(0.1161) tensor(0.7810)\n",
      "tensor(0.1236) tensor(0.7800)\n",
      "tensor(0.1317) tensor(0.7650)\n",
      "tensor(0.1394) tensor(0.7600)\n",
      "tensor(0.1476) tensor(0.7760)\n",
      "tensor(0.1535) tensor(0.7800)\n",
      "tensor(0.1586) tensor(0.7550)\n",
      "tensor(0.1650) tensor(0.7590)\n",
      "tensor(0.1701) tensor(0.7720)\n",
      "tensor(0.1756) tensor(0.7580)\n",
      "tensor(0.1805) tensor(0.7810)\n",
      "tensor(0.1872) tensor(0.7590)\n",
      "tensor(0.1906) tensor(0.7650)\n",
      "tensor(0.1954) tensor(0.7660)\n",
      "tensor(0.2008) tensor(0.7780)\n",
      "tensor(0.2052) tensor(0.7770)\n",
      "tensor(0.2092) tensor(0.7880)\n",
      "tensor(0.2120) tensor(0.7570)\n",
      "tensor(0.2145) tensor(0.7580)\n",
      "tensor(0.2175) tensor(0.7510)\n",
      "tensor(0.2201) tensor(0.7790)\n",
      "tensor(0.2229) tensor(0.7970)\n",
      "tensor(0.2266) tensor(0.7660)\n",
      "tensor(0.2296) tensor(0.7780)\n",
      "tensor(0.2314) tensor(0.7790)\n",
      "tensor(0.2345) tensor(0.7600)\n",
      "tensor(0.2377) tensor(0.7740)\n",
      "tensor(0.2406) tensor(0.7730)\n",
      "tensor(0.2455) tensor(0.7810)\n",
      "tensor(0.2475) tensor(0.7750)\n",
      "tensor(0.2507) tensor(0.7670)\n",
      "tensor(0.2546) tensor(0.7920)\n",
      "tensor(0.2564) tensor(0.7920)\n",
      "tensor(0.2602) tensor(0.7930)\n",
      "tensor(0.2620) tensor(0.7930)\n",
      "tensor(0.2631) tensor(0.7510)\n",
      "tensor(0.2648) tensor(0.7940)\n",
      "tensor(0.2695) tensor(0.7760)\n",
      "tensor(0.2701) tensor(0.7920)\n",
      "tensor(0.2721) tensor(0.7770)\n",
      "tensor(0.2758) tensor(0.7730)\n",
      "tensor(0.2802) tensor(0.7780)\n",
      "tensor(0.2817) tensor(0.7690)\n",
      "tensor(0.2854) tensor(0.7740)\n",
      "tensor(0.2876) tensor(0.7760)\n",
      "tensor(0.2904) tensor(0.8060)\n",
      "tensor(0.2932) tensor(0.7980)\n",
      "tensor(0.2918) tensor(0.8050)\n",
      "tensor(0.2934) tensor(0.7870)\n",
      "tensor(0.2942) tensor(0.7660)\n",
      "tensor(0.2954) tensor(0.7720)\n",
      "tensor(0.2957) tensor(0.7940)\n",
      "tensor(0.2978) tensor(0.7580)\n",
      "tensor(0.2969) tensor(0.7670)\n",
      "tensor(0.2984) tensor(0.7490)\n",
      "tensor(0.3009) tensor(0.7750)\n",
      "tensor(0.3035) tensor(0.7690)\n",
      "tensor(0.3066) tensor(0.7760)\n",
      "tensor(0.3092) tensor(0.7400)\n",
      "tensor(0.3124) tensor(0.7800)\n",
      "tensor(0.3114) tensor(0.7820)\n",
      "tensor(0.3136) tensor(0.7600)\n",
      "tensor(0.3159) tensor(0.7810)\n",
      "tensor(0.3172) tensor(0.7840)\n",
      "tensor(0.3179) tensor(0.7830)\n",
      "tensor(0.3201) tensor(0.7690)\n",
      "tensor(0.3214) tensor(0.7710)\n",
      "tensor(0.3195) tensor(0.7770)\n",
      "tensor(0.3212) tensor(0.7750)\n",
      "tensor(0.3231) tensor(0.7800)\n",
      "tensor(0.3232) tensor(0.7930)\n",
      "tensor(0.3249) tensor(0.7820)\n",
      "tensor(0.3255) tensor(0.7650)\n",
      "tensor(0.3257) tensor(0.7770)\n",
      "tensor(0.3261) tensor(0.7570)\n",
      "tensor(0.3266) tensor(0.7860)\n",
      "tensor(0.3272) tensor(0.7700)\n",
      "tensor(0.3279) tensor(0.7630)\n",
      "tensor(0.3280) tensor(0.7730)\n",
      "tensor(0.3288) tensor(0.7930)\n",
      "tensor(0.3294) tensor(0.7780)\n",
      "tensor(0.3322) tensor(0.7850)\n",
      "tensor(0.3337) tensor(0.7550)\n",
      "tensor(0.3343) tensor(0.7510)\n",
      "tensor(0.3356) tensor(0.7740)\n",
      "tensor(0.3367) tensor(0.7570)\n",
      "tensor(0.3408) tensor(0.7570)\n",
      "tensor(0.3408) tensor(0.7440)\n",
      "tensor(0.3406) tensor(0.7820)\n",
      "tensor(0.3409) tensor(0.7870)\n",
      "tensor(0.3421) tensor(0.7680)\n"
     ]
    }
   ],
   "source": [
    "N_samp=1000\n",
    "model1=RG_trained.to(device)\n",
    "cold=torch.zeros((N_samp,N_nod))\n",
    "z=normal_dist.sample((N_samp,)).to(device)\n",
    "z,_=model1(z)\n",
    "HMC_NN = HMC(rel1,N_sweep=100000,log_per=1000)\n",
    "HMC_cold = HMC(rel1,N_sweep=100000,log_per=1000)\n",
    "#z=torch.zeros((N_samp,N_nod)).to(device)\n",
    "z = HMC_NN.run(z)\n",
    "cold = HMC_cold.run(cold)"
   ]
  }
 ],
 "metadata": {
  "kernelspec": {
   "display_name": "Python 3 (ipykernel)",
   "language": "python",
   "name": "python3"
  },
  "language_info": {
   "codemirror_mode": {
    "name": "ipython",
    "version": 3
   },
   "file_extension": ".py",
   "mimetype": "text/x-python",
   "name": "python",
   "nbconvert_exporter": "python",
   "pygments_lexer": "ipython3",
   "version": "3.11.5"
  }
 },
 "nbformat": 4,
 "nbformat_minor": 5
}
