{
 "cells": [
  {
   "cell_type": "code",
   "execution_count": 1,
   "id": "55d2823b",
   "metadata": {},
   "outputs": [],
   "source": [
    "import matplotlib.pyplot as plt\n",
    "import numpy as np"
   ]
  },
  {
   "cell_type": "code",
   "execution_count": 2,
   "id": "3978be52-6e34-4e0a-b401-c56031d17d54",
   "metadata": {},
   "outputs": [],
   "source": [
    "import torch\n",
    "import pytorch_lightning as pl\n",
    "from torch.utils.data import Dataset\n",
    "from torch.utils.data import DataLoader\n",
    "from pytorch_lightning.loggers import TensorBoardLogger\n",
    "device = torch.device(\"cuda\" if torch.cuda.is_available() else \"cpu\")"
   ]
  },
  {
   "cell_type": "code",
   "execution_count": 3,
   "id": "c93eb4f7",
   "metadata": {
    "tags": []
   },
   "outputs": [],
   "source": [
    "from systems_initialization import N_nod, Beta, a, K_nod\n",
    "from transforms import t_get_O\n",
    "from transforms import get_split_masks\n",
    "from transforms import get_pair_split_masks\n",
    "from transforms import config_RG_masks\n",
    "from Data import MY_Dataset\n",
    "\n",
    "normal_dist=torch.distributions.Normal(loc=torch.zeros(N_nod), scale=torch.ones(N_nod))\n",
    "DS = MY_Dataset(normal_dist,N_nod)\n",
    "train_loader = DataLoader(DS, batch_size=2**12, shuffle=True)\n",
    "\n",
    "def set_random_seed(seed):\n",
    "    torch.manual_seed(seed)\n",
    "    np.random.seed(seed)\n",
    "\n",
    "set_random_seed(42)\n",
    "\n",
    "from flows.NormalizingFlow import NormalizingFlow    \n",
    "from flows.RGflows import RGflows    \n",
    "from obs import G, calc_Loss, calc_psi2, gen_fun_W\n",
    "\n",
    "\n"
   ]
  },
  {
   "cell_type": "code",
   "execution_count": 4,
   "id": "23f2495c-14bc-49b4-8614-69d77ce8ef65",
   "metadata": {},
   "outputs": [],
   "source": [
    "from systems_initialization import osc, anh, morse, tw, columb, rel_osc, rel_morse, rel_tw, rel_columb, ur "
   ]
  },
  {
   "cell_type": "code",
   "execution_count": 5,
   "id": "5401fb59",
   "metadata": {
    "tags": []
   },
   "outputs": [],
   "source": [
    "class Pipeline(pl.LightningModule):\n",
    "    def __init__(\n",
    "        self,\n",
    "        model,\n",
    "        criterion,\n",
    "        optimizer_class=torch.optim.Adam,\n",
    "        optimizer_kwargs={\"lr\": 0.001,\"weight_decay\": 0}\n",
    "    ) -> None:\n",
    "        super().__init__()\n",
    "        self.model = model\n",
    "        self.loss = criterion\n",
    "        self.optimizer_class = optimizer_class\n",
    "        self.optimizer_kwargs = optimizer_kwargs\n",
    "    \n",
    "    def configure_optimizers(self):\n",
    "        optimizer = self.optimizer_class(self.model.parameters(), **self.optimizer_kwargs)\n",
    "        \n",
    "        scheduler = torch.optim.lr_scheduler.ReduceLROnPlateau(\n",
    "            optimizer=optimizer,\n",
    "            min_lr=1e-5,\n",
    "            factor=0.95,\n",
    "            mode=\"min\",\n",
    "            verbose=True,\n",
    "        )\n",
    "\n",
    "        lr_scheduler = {\n",
    "            \"scheduler\": scheduler,\n",
    "            \"interval\": \"epoch\",\n",
    "            \"monitor\": \"train_loss\",\n",
    "        }\n",
    "        return [optimizer], [lr_scheduler]\n",
    "\n",
    "    def training_step(self, batch, batch_idx):\n",
    "        z = batch\n",
    "        x, log_abs_det = self.model.g(z)\n",
    "        loss = self.loss(x,log_abs_det)\n",
    "        sch = self.lr_schedulers()\n",
    "        sch.step(loss)\n",
    "        self.log('train_loss', loss,prog_bar=True)\n",
    "        self.log('lr',sch.get_last_lr()[0],prog_bar=True)\n",
    "        #print(loss)\n",
    "        return loss\n",
    "\n",
    "\n",
    "    def on_train_epoch_end(self):\n",
    "        #print(\"---------------------------end epoch---------------------------------\")\n",
    "        pass\n",
    "    \n",
    "    def on_validation_end(self) -> None:\n",
    "        if not self.automatic_optimization:\n",
    "            # Save a checkpoint of the model\n",
    "            ckpt_path = os.path.join(self.trainer.log_dir, 'checkpoints', 'ckpt.pt')\n",
    "            self.trainer.save_checkpoint(ckpt_path, weights_only=True)\n",
    "        return super().on_validation_end()\n",
    "    \n",
    "    "
   ]
  },
  {
   "cell_type": "code",
   "execution_count": 6,
   "id": "eae42727-7687-48fe-841a-c2e24320095f",
   "metadata": {
    "tags": []
   },
   "outputs": [],
   "source": [
    "hidden_dim_dict1={8:8,16:16,32:32,64:64,128:128}\n",
    "n_flows_dict1={8:6,16:8,32:10,64:10,128:10}\n",
    "num_hidden_dict1={8:4,16:5,32:6,64:6,128:6}"
   ]
  },
  {
   "cell_type": "code",
   "execution_count": 7,
   "id": "7948914a-0506-4796-8bcf-617be8e83237",
   "metadata": {},
   "outputs": [],
   "source": [
    "m = 3\n",
    "RGmasks = config_RG_masks(m,N_nod)"
   ]
  },
  {
   "cell_type": "code",
   "execution_count": 9,
   "id": "fa06713c",
   "metadata": {},
   "outputs": [],
   "source": [
    "set_random_seed(42)\n",
    "rg = RGflows.configure_RG_model(RGmasks,n_flows_dict1,num_hidden_dict1,hidden_dim_dict1,grids_no_grad=0,p_drop=0.0)\n",
    "filename = \"./weights/model_weights_rel_morse.pth\"\n",
    "rg.save(filename)"
   ]
  },
  {
   "cell_type": "code",
   "execution_count": 10,
   "id": "a536cdfd",
   "metadata": {},
   "outputs": [
    {
     "name": "stderr",
     "output_type": "stream",
     "text": [
      "GPU available: False, used: False\n",
      "TPU available: False, using: 0 TPU cores\n",
      "HPU available: False, using: 0 HPUs\n",
      "C:\\Users\\SEVA1\\anaconda3\\Lib\\site-packages\\torch\\optim\\lr_scheduler.py:28: UserWarning: The verbose parameter is deprecated. Please use get_last_lr() to access the learning rate.\n",
      "  warnings.warn(\"The verbose parameter is deprecated. Please use get_last_lr() \"\n",
      "\n",
      "  | Name  | Type      | Params | Mode \n",
      "--------------------------------------------\n",
      "0 | model | RGflows   | 1.9 M  | train\n",
      "1 | loss  | KL_with_S | 0      | train\n",
      "--------------------------------------------\n",
      "1.9 M     Trainable params\n",
      "0         Non-trainable params\n",
      "1.9 M     Total params\n",
      "7.585     Total estimated model params size (MB)\n",
      "C:\\Users\\SEVA1\\anaconda3\\Lib\\site-packages\\pytorch_lightning\\trainer\\connectors\\data_connector.py:424: The 'train_dataloader' does not have many workers which may be a bottleneck. Consider increasing the value of the `num_workers` argument` to `num_workers=3` in the `DataLoader` to improve performance.\n"
     ]
    },
    {
     "data": {
      "application/vnd.jupyter.widget-view+json": {
       "model_id": "a4122175f11243d99cd6fd17fb9774ef",
       "version_major": 2,
       "version_minor": 0
      },
      "text/plain": [
       "Training: |                                                                                      | 0/? [00:00<…"
      ]
     },
     "metadata": {},
     "output_type": "display_data"
    },
    {
     "name": "stderr",
     "output_type": "stream",
     "text": [
      "C:\\Users\\SEVA1\\anaconda3\\Lib\\site-packages\\pytorch_lightning\\trainer\\call.py:54: Detected KeyboardInterrupt, attempting graceful shutdown...\n"
     ]
    }
   ],
   "source": [
    "set_random_seed(42)\n",
    "rg = RGflows.load_model(filename)\n",
    "pipeline=Pipeline(model=rg,criterion = rel_morse.get_KL(), optimizer_class=torch.optim.Adam,optimizer_kwargs={\"lr\": 0.001})\n",
    "\n",
    "trainer = pl.Trainer(\n",
    "    max_epochs=200,\n",
    "    logger = TensorBoardLogger(save_dir=f\"./logs/nf\"),\n",
    "    num_sanity_val_steps=0,\n",
    "    log_every_n_steps=1,\n",
    "    enable_checkpointing=False,\n",
    "    accumulate_grad_batches=1\n",
    ")\n",
    "\n",
    "trainer.fit(model=pipeline, train_dataloaders=train_loader)\n",
    "rg.save(filename)"
   ]
  },
  {
   "cell_type": "code",
   "execution_count": 19,
   "id": "8169e1d2-102b-4d79-92e8-03905afd556d",
   "metadata": {
    "tags": []
   },
   "outputs": [
    {
     "name": "stdout",
     "output_type": "stream",
     "text": [
      "torch.Size([1000, 256])\n"
     ]
    }
   ],
   "source": [
    "RG_trained = RGflows.load_model(filename)\n",
    "RG_trained.eval()\n",
    "N_traj=1000\n",
    "z = normal_dist.sample((N_traj,))\n",
    "print(z.shape)\n",
    "with torch.no_grad():\n",
    "    trajs,_ = RG_trained.g(z)\n"
   ]
  },
  {
   "cell_type": "code",
   "execution_count": 25,
   "id": "2978b0cc-7237-4ac1-9d96-371ec5835671",
   "metadata": {},
   "outputs": [
    {
     "data": {
      "image/png": "[encoded data removed]",
      "text/plain": [
       "<Figure size 640x480 with 1 Axes>"
      ]
     },
     "metadata": {},
     "output_type": "display_data"
    }
   ],
   "source": [
    "x, P = calc_psi2(trajs)\n",
    "fig = plt.figure()\n",
    "plt.plot(x,P)\n",
    "plt.grid(True)\n",
    "plt.show()"
   ]
  },
  {
   "cell_type": "code",
   "execution_count": 27,
   "id": "558a5a1f-ecb9-455a-af72-f2af3700a4f4",
   "metadata": {},
   "outputs": [
    {
     "name": "stderr",
     "output_type": "stream",
     "text": [
      "\n",
      "  0%|                                                                                          | 0/256 [00:00<?, ?it/s]\u001b[A\n",
      "  4%|███▍                                                                            | 11/256 [00:00<00:02, 108.13it/s]\u001b[A\n",
      "  9%|███████▏                                                                        | 23/256 [00:00<00:02, 113.26it/s]\u001b[A\n",
      " 16%|████████████▌                                                                   | 40/256 [00:00<00:01, 136.55it/s]\u001b[A\n",
      " 21%|████████████████▉                                                               | 54/256 [00:00<00:01, 124.10it/s]\u001b[A\n",
      " 27%|█████████████████████▎                                                          | 68/256 [00:00<00:01, 127.38it/s]\u001b[A\n",
      " 34%|██████████████████████████▉                                                     | 86/256 [00:00<00:01, 143.37it/s]\u001b[A\n",
      " 41%|████████████████████████████████▋                                              | 106/256 [00:00<00:00, 160.16it/s]\u001b[A\n",
      " 48%|█████████████████████████████████████▉                                         | 123/256 [00:00<00:00, 156.60it/s]\u001b[A\n",
      " 55%|███████████████████████████████████████████▏                                   | 140/256 [00:00<00:00, 159.28it/s]\u001b[A\n",
      " 62%|████████████████████████████████████████████████▊                              | 158/256 [00:01<00:00, 164.09it/s]\u001b[A\n",
      " 69%|██████████████████████████████████████████████████████▌                        | 177/256 [00:01<00:00, 171.37it/s]\u001b[A\n",
      " 77%|████████████████████████████████████████████████████████████▍                  | 196/256 [00:01<00:00, 175.99it/s]\u001b[A\n",
      " 84%|██████████████████████████████████████████████████████████████████             | 214/256 [00:01<00:00, 170.27it/s]\u001b[A\n",
      " 91%|███████████████████████████████████████████████████████████████████████▉       | 233/256 [00:01<00:00, 175.10it/s]\u001b[A\n",
      "100%|███████████████████████████████████████████████████████████████████████████████| 256/256 [00:01<00:00, 157.86it/s]\u001b[A\n"
     ]
    }
   ],
   "source": [
    "g_nf=G(trajs)"
   ]
  },
  {
   "cell_type": "code",
   "execution_count": 28,
   "id": "34a5ead7-10a1-445f-abbd-4f8c2478ccd1",
   "metadata": {
    "tags": []
   },
   "outputs": [
    {
     "data": {
      "image/png": "[encoded data removed]",
      "text/plain": [
       "<Figure size 640x480 with 1 Axes>"
      ]
     },
     "metadata": {},
     "output_type": "display_data"
    }
   ],
   "source": [
    "g = g_nf\n",
    "fig=plt.figure()\n",
    "plt.scatter(np.linspace(0,1,N_nod),g_nf,s=10)\n",
    "plt.title(r\"$N=$\"+str(N_nod)+\"       \"r\"$\\beta=$\"+str(Beta))\n",
    "plt.ylabel(r\"$G_s$\",fontsize=17)\n",
    "plt.xlabel(r\"$s/N$\",fontsize=17)\n",
    "plt.grid(True)\n",
    "plt.show()\n"
   ]
  },
  {
   "cell_type": "code",
   "execution_count": null,
   "id": "56449b74-4574-439e-9e40-29d2905e0c4d",
   "metadata": {},
   "outputs": [],
   "source": []
  }
 ],
 "metadata": {
  "kernelspec": {
   "display_name": "Python 3 (ipykernel)",
   "language": "python",
   "name": "python3"
  },
  "language_info": {
   "codemirror_mode": {
    "name": "ipython",
    "version": 3
   },
   "file_extension": ".py",
   "mimetype": "text/x-python",
   "name": "python",
   "nbconvert_exporter": "python",
   "pygments_lexer": "ipython3",
   "version": "3.12.4"
  }
 },
 "nbformat": 4,
 "nbformat_minor": 5
}
